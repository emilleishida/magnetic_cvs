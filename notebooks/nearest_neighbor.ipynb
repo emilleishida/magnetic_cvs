{
 "cells": [
  {
   "cell_type": "markdown",
   "metadata": {},
   "source": [
    "##### Imports & setup"
   ]
  },
  {
   "cell_type": "code",
   "execution_count": 1,
   "metadata": {},
   "outputs": [],
   "source": [
    "import pandas as pd\n",
    "import numpy as np\n",
    "from sklearn.model_selection import train_test_split\n",
    "from sklearn.neighbors import NearestNeighbors\n",
    "\n",
    "# Feature names (without linear features):\n",
    "feature_names = ['mean', 'weightedMean', 'std', 'median', 'amplitude', 'beyond1Std', 'cusum', 'IPR10',\n",
    "                 'kurtosis', 'MPR40_5', 'MPR20_10', 'maxSlope', 'medianAbsDev', 'medianBRP10',\n",
    "                 'percentAmplitude', 'meanVariance', 'andersonDarlingNorm', 'chi2', 'skew', 'stetsonK']"
   ]
  },
  {
   "cell_type": "markdown",
   "metadata": {},
   "source": [
    "## Data preparation"
   ]
  },
  {
   "cell_type": "markdown",
   "metadata": {},
   "source": [
    "### Getting data"
   ]
  },
  {
   "cell_type": "code",
   "execution_count": 2,
   "metadata": {},
   "outputs": [],
   "source": [
    "# The following paths should be changed accordingly. The data can be saved in a csv from the clean_data.ipynb notebook.\n",
    "positive_g = pd.read_csv('../../data/clean_data/positive_class_g.csv', index_col=0)\n",
    "positive_r = pd.read_csv('../../data/clean_data/positive_class_r.csv', index_col=0)\n",
    "negative_g = pd.read_csv('../../data/clean_data/negative_class_g.csv', index_col=0)\n",
    "negative_r = pd.read_csv('../../data/clean_data/negative_class_r.csv', index_col=0)\n",
    "\n",
    "# Adding labels for each class:\n",
    "positive_g['class'] = 'positive'\n",
    "positive_r['class'] = 'positive'\n",
    "negative_g['class'] = 'negative'\n",
    "negative_r['class'] = 'negative'"
   ]
  },
  {
   "cell_type": "markdown",
   "metadata": {},
   "source": [
    "### Organizing samples & train-test split"
   ]
  },
  {
   "cell_type": "code",
   "execution_count": 3,
   "metadata": {},
   "outputs": [],
   "source": [
    "np.random.seed(42)\n",
    "\n",
    "# Taking a random sample of the negative class with the same size as the positive class:\n",
    "negative_g_sample1 = negative_g.sample(frac=len(positive_g)/len(negative_g))\n",
    "# Taking a random sample of the negative class with twice the size of the positive class:\n",
    "negative_g_sample2 = negative_g.sample(frac=2*len(positive_g)/len(negative_g))\n",
    "# Taking a random sample of the negative class with thrice the size of the positive class:\n",
    "negative_g_sample3 = negative_g.sample(frac=3*len(positive_g)/len(negative_g))\n",
    "\n",
    "# Splitting the data into training and testing sets (no need for a negative test set since we are only looking for positive class objects with nearest neighbors):\n",
    "positive_g_train, positive_g_test = train_test_split(positive_g, train_size=0.7)\n",
    "negative_g_train1, _ = train_test_split(negative_g_sample1, train_size=0.7)\n",
    "negative_g_train2, _ = train_test_split(negative_g_sample2, train_size=0.7)\n",
    "negative_g_train3, _ = train_test_split(negative_g_sample3, train_size=0.7)\n",
    "\n",
    "# Concatenating the training data in one dataframe:\n",
    "train_sample1 = pd.concat([positive_g_train, negative_g_train1])\n",
    "train_sample2 = pd.concat([positive_g_train, negative_g_train2])\n",
    "train_sample3 = pd.concat([positive_g_train, negative_g_train3])\n",
    "train_sample4 = pd.concat([positive_g_train, negative_g]) # Using the whole negative class in training"
   ]
  },
  {
   "cell_type": "markdown",
   "metadata": {},
   "source": [
    "## Finding nearest neighbors"
   ]
  },
  {
   "cell_type": "markdown",
   "metadata": {},
   "source": [
    "### Wrapper"
   ]
  },
  {
   "cell_type": "code",
   "execution_count": 4,
   "metadata": {},
   "outputs": [],
   "source": [
    "def NN_wrapper(train: pd.DataFrame, test: pd.DataFrame, k: int = 1) -> pd.DataFrame:\n",
    "    \"\"\"Wrapper for the NearestNeighbors class from scikit-learn.\n",
    "    This function takes the training and testing sets and prints out the propotion of neighbors that are of the positive and negative class.\n",
    "\n",
    "    Args:\n",
    "        train (pd.DataFrame): Training set (a combination of positive and negative class objects).\n",
    "        test (pd.DataFrame): Testing set (positive class objects only, and different from those of the training set).\n",
    "        k (int, optional): Number of nearest neighbors to look for for each object in the test set. Defaults to 1.\n",
    "    \n",
    "    Returns:\n",
    "        neighbors (pd.DataFrame): The neighbors of the test set objects.\n",
    "    \"\"\"\n",
    "    # Fitting the NearestNeighbors model:\n",
    "    neigh = NearestNeighbors(algorithm='brute', metric='euclidean')\n",
    "    neigh.fit(train[feature_names])\n",
    "\n",
    "    # Finding the nearest neighbors of the test set objects:\n",
    "    neighbors_indices = neigh.kneighbors(test[feature_names], k, return_distance=False)\n",
    "    neighbors = train.iloc[neighbors_indices.flatten()]\n",
    "    print(neighbors['class'].value_counts())\n",
    "\n",
    "    # Calculating the accuracy of the model:\n",
    "    accuracy = (neighbors['class'] == 'positive').sum() / len(neighbors)\n",
    "    print(f'\\nPercentage of positive class samples in the test set that have a positive class nearest neighbor: {accuracy*100:.0f} %')\n",
    "\n",
    "    return neighbors"
   ]
  },
  {
   "cell_type": "markdown",
   "metadata": {},
   "source": [
    "### Results"
   ]
  },
  {
   "cell_type": "markdown",
   "metadata": {},
   "source": [
    "#### Train sample positive-negative ratio: 1-1"
   ]
  },
  {
   "cell_type": "code",
   "execution_count": 5,
   "metadata": {},
   "outputs": [
    {
     "name": "stdout",
     "output_type": "stream",
     "text": [
      "class\n",
      "positive    984\n",
      "negative    188\n",
      "Name: count, dtype: int64\n",
      "\n",
      "Percentage of positive class samples in the test set that have a positive class nearest neighbor: 84 %\n"
     ]
    }
   ],
   "source": [
    "NN_wrapper(train_sample1, positive_g_test);"
   ]
  },
  {
   "cell_type": "markdown",
   "metadata": {},
   "source": [
    "#### Train sample positive-negative ratio: 1-2"
   ]
  },
  {
   "cell_type": "code",
   "execution_count": 6,
   "metadata": {},
   "outputs": [
    {
     "name": "stdout",
     "output_type": "stream",
     "text": [
      "class\n",
      "positive    922\n",
      "negative    250\n",
      "Name: count, dtype: int64\n",
      "\n",
      "Percentage of positive class samples in the test set that have a positive class nearest neighbor: 79 %\n"
     ]
    }
   ],
   "source": [
    "NN_wrapper(train_sample2, positive_g_test);"
   ]
  },
  {
   "cell_type": "markdown",
   "metadata": {},
   "source": [
    "#### Train sample positive-negative ratio: 1-3"
   ]
  },
  {
   "cell_type": "code",
   "execution_count": 7,
   "metadata": {},
   "outputs": [
    {
     "name": "stdout",
     "output_type": "stream",
     "text": [
      "class\n",
      "positive    891\n",
      "negative    281\n",
      "Name: count, dtype: int64\n",
      "\n",
      "Percentage of positive class samples in the test set that have a positive class nearest neighbor: 76 %\n"
     ]
    }
   ],
   "source": [
    "NN_wrapper(train_sample3, positive_g_test);"
   ]
  },
  {
   "cell_type": "markdown",
   "metadata": {},
   "source": [
    "#### Train sample positive-negative ratio: 1-full"
   ]
  },
  {
   "cell_type": "code",
   "execution_count": 8,
   "metadata": {},
   "outputs": [
    {
     "name": "stdout",
     "output_type": "stream",
     "text": [
      "class\n",
      "positive    623\n",
      "negative    549\n",
      "Name: count, dtype: int64\n",
      "\n",
      "Percentage of positive class samples in the test set that have a positive class nearest neighbor: 53 %\n"
     ]
    }
   ],
   "source": [
    "NN_wrapper(train_sample4, positive_g_test);"
   ]
  },
  {
   "cell_type": "code",
   "execution_count": null,
   "metadata": {},
   "outputs": [],
   "source": []
  }
 ],
 "metadata": {
  "kernelspec": {
   "display_name": ".venv",
   "language": "python",
   "name": "python3"
  },
  "language_info": {
   "codemirror_mode": {
    "name": "ipython",
    "version": 3
   },
   "file_extension": ".py",
   "mimetype": "text/x-python",
   "name": "python",
   "nbconvert_exporter": "python",
   "pygments_lexer": "ipython3",
   "version": "3.12.3"
  }
 },
 "nbformat": 4,
 "nbformat_minor": 2
}
