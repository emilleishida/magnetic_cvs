{
 "cells": [
  {
   "cell_type": "markdown",
   "metadata": {},
   "source": [
    "##### Imports & setup"
   ]
  },
  {
   "cell_type": "code",
   "execution_count": 1,
   "metadata": {},
   "outputs": [],
   "source": [
    "import pandas as pd\n",
    "import numpy as np\n",
    "from sklearn.model_selection import train_test_split\n",
    "from sklearn.neighbors import NearestNeighbors\n",
    "import matplotlib.pyplot as plt\n",
    "import seaborn as sns\n",
    "\n",
    "# Feature names (without linear features):\n",
    "feature_names = ['mean', 'weightedMean', 'std', 'median', 'amplitude', 'beyond1Std', 'cusum', 'IPR10',\n",
    "                 'kurtosis', 'MPR40_5', 'MPR20_10', 'maxSlope', 'medianAbsDev', 'medianBRP10',\n",
    "                 'percentAmplitude', 'meanVariance', 'andersonDarlingNorm', 'chi2', 'skew', 'stetsonK']"
   ]
  },
  {
   "cell_type": "markdown",
   "metadata": {},
   "source": [
    "## Data preparation"
   ]
  },
  {
   "cell_type": "markdown",
   "metadata": {},
   "source": [
    "### Getting data"
   ]
  },
  {
   "cell_type": "code",
   "execution_count": 2,
   "metadata": {},
   "outputs": [],
   "source": [
    "# The following paths should be changed accordingly. The data can be saved in a csv from the clean_data.ipynb notebook.\n",
    "positive_g = pd.read_csv('../../data/clean_data/positive_class_g.csv', index_col=0)\n",
    "positive_r = pd.read_csv('../../data/clean_data/positive_class_r.csv', index_col=0)\n",
    "negative_g = pd.read_csv('../../data/clean_data/negative_class_g.csv', index_col=0)\n",
    "negative_r = pd.read_csv('../../data/clean_data/negative_class_r.csv', index_col=0)\n",
    "\n",
    "# Adding labels for each class:\n",
    "positive_g['class'] = 'positive'\n",
    "positive_r['class'] = 'positive'\n",
    "negative_g['class'] = 'negative'\n",
    "negative_r['class'] = 'negative'"
   ]
  },
  {
   "cell_type": "markdown",
   "metadata": {},
   "source": [
    "### Organizing samples & train-test split"
   ]
  },
  {
   "cell_type": "markdown",
   "metadata": {},
   "source": [
    "Ignoring the two filters, we have two main datasets:\n",
    "1. The positive class, which contains alerts form known magnetic cataclysmic variable stars.\n",
    "2. The negative class, which contains alerts from objects that are not in the positive class or that are unknown.\n",
    "\n",
    "These two classes live in a ~20 dimensional feature space, and we hope that the positive class is somewhat clustered in that space. If that is the case, the nearest neighbors of positive class objects should also be of the positive class.\n",
    "\n",
    "Since the positive class is poorly represented compared to the negative one, we first try here the nearest neighbors algorithm on a dataset composed of an equal number of alerts from the positive and negative classes. Then, the number of alerts from the negative class is increased by a factor two and then three.\n",
    "\n",
    "**The train and test samples should contain different objects**"
   ]
  },
  {
   "cell_type": "code",
   "execution_count": 3,
   "metadata": {},
   "outputs": [
    {
     "name": "stdout",
     "output_type": "stream",
     "text": [
      "There are 69 unique objects in the positive class (g filter).\n",
      "There are 67 unique objects in the positive class (r filter).\n",
      "There are 101035 unique objects in the negative class (g filter).\n",
      "There are 93551 unique objects in the negative class (r filter).\n"
     ]
    }
   ],
   "source": [
    "# IDs of unique objects in each class:\n",
    "positive_g_Ids = np.unique(positive_g['objectId'])\n",
    "positive_r_Ids = np.unique(positive_r['objectId'])\n",
    "negative_g_Ids = np.unique(negative_g['objectId'])\n",
    "negative_r_Ids = np.unique(negative_r['objectId'])\n",
    "\n",
    "# Number of unique objects in each class:\n",
    "print(f'There are {len(positive_g_Ids)} unique objects in the positive class (g filter).')\n",
    "print(f'There are {len(positive_r_Ids)} unique objects in the positive class (r filter).')\n",
    "print(f'There are {len(negative_g_Ids)} unique objects in the negative class (g filter).')\n",
    "print(f'There are {len(negative_r_Ids)} unique objects in the negative class (r filter).')"
   ]
  },
  {
   "cell_type": "code",
   "execution_count": 4,
   "metadata": {},
   "outputs": [],
   "source": [
    "np.random.seed(42)\n",
    "\n",
    "# Splitting the positive class with 70% of objects in the train set and 30% in the test:\n",
    "positive_g_Ids_train, positive_g_Ids_test = train_test_split(positive_g_Ids, train_size=.7)\n",
    "positive_g_train = positive_g[positive_g['objectId'].isin(positive_g_Ids_train)]\n",
    "positive_g_test = positive_g[positive_g['objectId'].isin(positive_g_Ids_test)]\n",
    "\n",
    "# Splitting the negative class with 70% of objects in the train set and 30% in the test:\n",
    "negative_g_Ids_train, negative_g_Ids_test = train_test_split(negative_g_Ids, train_size=.7)\n",
    "negative_g_train = negative_g[negative_g['objectId'].isin(negative_g_Ids_train)]\n",
    "negative_g_test = negative_g[negative_g['objectId'].isin(negative_g_Ids_test)]\n",
    "\n",
    "# Sampling x alerts in the negative train set (x = nb of alerts in the positive train set):\n",
    "negative_g_train_sample_indices1 = np.random.choice(negative_g_train.index, len(positive_g_train), replace=False)\n",
    "negative_g_train_sample1 = negative_g_train.loc[negative_g_train_sample_indices1]\n",
    "\n",
    "# Sampling 2x alerts in the negative train set\n",
    "negative_g_train_sample_indices2 = np.random.choice(negative_g_train.index, 2*len(positive_g_train), replace=False)\n",
    "negative_g_train_sample2 = negative_g_train.loc[negative_g_train_sample_indices2]\n",
    "\n",
    "# Sampling 3x alerts in the negative train set\n",
    "negative_g_train_sample_indices3 = np.random.choice(negative_g_train.index, 3*len(positive_g_train), replace=False)\n",
    "negative_g_train_sample3 = negative_g_train.loc[negative_g_train_sample_indices3]\n",
    "\n",
    "# Assembling the final train sets:\n",
    "train_sample1 = pd.concat([positive_g_train, negative_g_train_sample1]).reset_index()\n",
    "train_sample2 = pd.concat([positive_g_train, negative_g_train_sample2]).reset_index()\n",
    "train_sample3 = pd.concat([positive_g_train, negative_g_train_sample3]).reset_index()\n",
    "train_sample4 = pd.concat([positive_g_train, negative_g_train]).reset_index() # Using the whole negative class"
   ]
  },
  {
   "cell_type": "markdown",
   "metadata": {},
   "source": [
    "## Finding nearest neighbors"
   ]
  },
  {
   "cell_type": "markdown",
   "metadata": {},
   "source": [
    "### Wrapper"
   ]
  },
  {
   "cell_type": "code",
   "execution_count": 5,
   "metadata": {},
   "outputs": [],
   "source": [
    "def NN_wrapper(train: pd.DataFrame, test: pd.DataFrame, k: int = 1) -> pd.DataFrame:\n",
    "    \"\"\"Wrapper for the NearestNeighbors class from scikit-learn.\n",
    "    This function takes the training and testing sets and prints out the propotion of neighbors that are of the positive and negative class.\n",
    "\n",
    "    Args:\n",
    "        train (pd.DataFrame): Training set (a combination of positive and negative class objects).\n",
    "        test (pd.DataFrame): Testing set (positive class objects only, and different from those of the training set).\n",
    "        k (int, optional): Number of nearest neighbors to look for for each object in the test set. Defaults to 1.\n",
    "    \n",
    "    Returns:\n",
    "        neighbors (pd.DataFrame): The neighbors of the test set objects.\n",
    "    \"\"\"\n",
    "    # Fitting the NearestNeighbors model:\n",
    "    neigh = NearestNeighbors(algorithm='kd_tree', metric='euclidean')\n",
    "    neigh.fit(train[feature_names])\n",
    "\n",
    "    # Finding the nearest neighbors of the test set objects:\n",
    "    neighbors_indices = neigh.kneighbors(test[feature_names], k, return_distance=False)\n",
    "    neighbors = train.loc[neighbors_indices.flatten()]\n",
    "    print(neighbors['class'].value_counts())\n",
    "\n",
    "    # Calculating the accuracy of the model:\n",
    "    accuracy = (neighbors['class'] == 'positive').sum() / len(neighbors)\n",
    "    print(f'\\nPercentage of positive class samples in the test set that have a positive class nearest neighbor: {accuracy*100:.0f} %')\n",
    "\n",
    "    return neighbors"
   ]
  },
  {
   "cell_type": "markdown",
   "metadata": {},
   "source": [
    "### Results"
   ]
  },
  {
   "cell_type": "markdown",
   "metadata": {},
   "source": [
    "#### Train sample positive-negative ratio: 1-1"
   ]
  },
  {
   "cell_type": "code",
   "execution_count": null,
   "metadata": {},
   "outputs": [
    {
     "name": "stdout",
     "output_type": "stream",
     "text": [
      "class\n",
      "positive    565\n",
      "negative    446\n",
      "Name: count, dtype: int64\n",
      "\n",
      "Percentage of positive class samples in the test set that have a positive class nearest neighbor: 56 %\n"
     ]
    },
    {
     "data": {
      "image/png": "[encoded data removed]",
      "text/plain": [
       "<Figure size 640x480 with 1 Axes>"
      ]
     },
     "metadata": {},
     "output_type": "display_data"
    }
   ],
   "source": [
    "neighbors1 = NN_wrapper(train_sample1, positive_g_test)\n",
    "\n",
    "# Extracting the types of object and their counts among the negative class:\n",
    "types1, counts1 = np.unique(neighbors1[neighbors1['class'] == 'negative']['cdsxmatch'], return_counts=True)\n",
    "types1_dict = dict(zip(types1, counts1))\n",
    "\n",
    "sns.barplot(types1_dict, orient='h');"
   ]
  },
  {
   "cell_type": "markdown",
   "metadata": {},
   "source": [
    "#### Train sample positive-negative ratio: 1-2"
   ]
  },
  {
   "cell_type": "code",
   "execution_count": 13,
   "metadata": {},
   "outputs": [
    {
     "name": "stdout",
     "output_type": "stream",
     "text": [
      "class\n",
      "negative    569\n",
      "positive    442\n",
      "Name: count, dtype: int64\n",
      "\n",
      "Percentage of positive class samples in the test set that have a positive class nearest neighbor: 44 %\n"
     ]
    }
   ],
   "source": [
    "NN_wrapper(train_sample2, positive_g_test);"
   ]
  },
  {
   "cell_type": "markdown",
   "metadata": {},
   "source": [
    "#### Train sample positive-negative ratio: 1-3"
   ]
  },
  {
   "cell_type": "code",
   "execution_count": 14,
   "metadata": {},
   "outputs": [
    {
     "name": "stdout",
     "output_type": "stream",
     "text": [
      "class\n",
      "negative    620\n",
      "positive    391\n",
      "Name: count, dtype: int64\n",
      "\n",
      "Percentage of positive class samples in the test set that have a positive class nearest neighbor: 39 %\n"
     ]
    }
   ],
   "source": [
    "NN_wrapper(train_sample3, positive_g_test);"
   ]
  },
  {
   "cell_type": "markdown",
   "metadata": {},
   "source": [
    "#### Train sample positive-negative ratio: 1-full"
   ]
  },
  {
   "cell_type": "code",
   "execution_count": 15,
   "metadata": {},
   "outputs": [
    {
     "name": "stdout",
     "output_type": "stream",
     "text": [
      "class\n",
      "negative    958\n",
      "positive     53\n",
      "Name: count, dtype: int64\n",
      "\n",
      "Percentage of positive class samples in the test set that have a positive class nearest neighbor: 5 %\n"
     ]
    }
   ],
   "source": [
    "NN_wrapper(train_sample4, positive_g_test);"
   ]
  },
  {
   "cell_type": "code",
   "execution_count": null,
   "metadata": {},
   "outputs": [],
   "source": []
  }
 ],
 "metadata": {
  "kernelspec": {
   "display_name": ".venv",
   "language": "python",
   "name": "python3"
  },
  "language_info": {
   "codemirror_mode": {
    "name": "ipython",
    "version": 3
   },
   "file_extension": ".py",
   "mimetype": "text/x-python",
   "name": "python",
   "nbconvert_exporter": "python",
   "pygments_lexer": "ipython3",
   "version": "3.12.3"
  }
 },
 "nbformat": 4,
 "nbformat_minor": 2
}
