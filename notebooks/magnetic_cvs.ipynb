{
 "cells": [
  {
   "cell_type": "code",
   "execution_count": 9,
   "id": "1f7ceec6-f5c5-4f69-8e1d-dbfe51042a13",
   "metadata": {
    "tags": []
   },
   "outputs": [],
   "source": [
    "import pandas as pd\n",
    "import numpy as np\n",
    "import requests\n",
    "import io"
   ]
  },
  {
   "cell_type": "markdown",
   "id": "bc110865-dd48-4e41-81d9-3111bd03f405",
   "metadata": {},
   "source": [
    "Read identification for all magnetic cataclysmic variables"
   ]
  },
  {
   "cell_type": "code",
   "execution_count": 6,
   "id": "77ab256d-1e33-4ffb-85b6-2c17ec78f810",
   "metadata": {
    "tags": []
   },
   "outputs": [],
   "source": [
    "objids = pd.read_csv('../data/magnetic_cvs_objectId.csv')"
   ]
  },
  {
   "cell_type": "code",
   "execution_count": 17,
   "id": "74f4ae80-2d1a-468a-82bc-39e3f8c43856",
   "metadata": {
    "tags": []
   },
   "outputs": [
    {
     "data": {
      "text/plain": [
       "(83, 1)"
      ]
     },
     "execution_count": 17,
     "metadata": {},
     "output_type": "execute_result"
    }
   ],
   "source": [
    "objids.shape"
   ]
  },
  {
   "cell_type": "code",
   "execution_count": 29,
   "id": "dd02f701-e01a-4d10-a7ca-f2a278eecad3",
   "metadata": {
    "tags": []
   },
   "outputs": [],
   "source": [
    "r = requests.post(\n",
    "  \"https://api.fink-portal.org/api/v1/anomaly\",\n",
    "  json={\n",
    "    \"n\": 10,\n",
    "    \"columns\": \"i:objectId\"\n",
    "  }\n",
    ")"
   ]
  },
  {
   "cell_type": "code",
   "execution_count": 30,
   "id": "38b1ba2a-007e-4684-9b3a-a761df02d351",
   "metadata": {
    "tags": []
   },
   "outputs": [],
   "source": [
    "oids = [i[\"i:objectId\"] for i in r.json()]"
   ]
  },
  {
   "cell_type": "code",
   "execution_count": 36,
   "id": "86192033-16d9-4e6e-a37b-514283e983d2",
   "metadata": {
    "tags": []
   },
   "outputs": [],
   "source": [
    "objids_list = list(objids.values.flatten())"
   ]
  },
  {
   "cell_type": "markdown",
   "id": "ea92eea1-cfe3-468d-b359-30eff6794381",
   "metadata": {},
   "source": [
    "Get data from Fink"
   ]
  },
  {
   "cell_type": "code",
   "execution_count": null,
   "id": "4247b64e-dc3d-4b76-a84f-a8c392aff5c4",
   "metadata": {
    "tags": []
   },
   "outputs": [],
   "source": [
    "# retrieve full objects data\n",
    "r = requests.post(\n",
    "  \"https://api.fink-portal.org/api/v1/objects\",\n",
    "  json={\n",
    "    \"objectId\": \",\".join(objids_list),\n",
    "    \"columns\": \"i:objectId,d:anomaly_score,d:lc_features_g,d:lc_features_r\",\n",
    "    \"output-format\": \"json\"\n",
    "  }\n",
    ")\n",
    "\n",
    "# Format output in a DataFrame -- 8,011 rows\n",
    "pdf = pd.read_json(io.BytesIO(r.content))"
   ]
  },
  {
   "cell_type": "code",
   "execution_count": null,
   "id": "06d02ce0-3bd7-46da-84bf-76642bb0ad95",
   "metadata": {},
   "outputs": [],
   "source": []
  }
 ],
 "metadata": {
  "kernelspec": {
   "display_name": "Python 3",
   "language": "python",
   "name": "python3"
  },
  "language_info": {
   "codemirror_mode": {
    "name": "ipython",
    "version": 3
   },
   "file_extension": ".py",
   "mimetype": "text/x-python",
   "name": "python",
   "nbconvert_exporter": "python",
   "pygments_lexer": "ipython3",
   "version": "3.7.1"
  }
 },
 "nbformat": 4,
 "nbformat_minor": 5
}
