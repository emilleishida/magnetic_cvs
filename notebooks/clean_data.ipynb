{
 "cells": [
  {
   "cell_type": "markdown",
   "id": "12303f89",
   "metadata": {},
   "source": [
    "##### Imports & setup"
   ]
  },
  {
   "cell_type": "code",
   "execution_count": 1,
   "id": "1f7ceec6-f5c5-4f69-8e1d-dbfe51042a13",
   "metadata": {
    "tags": []
   },
   "outputs": [],
   "source": [
    "import pandas as pd\n",
    "import numpy as np\n",
    "import requests\n",
    "import io\n",
    "from magcvs_library.functions import tqdm2\n",
    "\n",
    "# Feature names from https://fink-broker.readthedocs.io/en/latest/services/search/anomaly_detection/\n",
    "feature_names = ['mean', 'weighted_mean', 'standard_deviation', 'median', 'amplitude', 'beyond_1_std', 'cusum',\n",
    "                 'inter_percentile_range_10', 'kurtosis', 'linear_trend', 'linear_trend_sigma', 'linear_trend_noise',\n",
    "                 'linear_fit_slope', 'linear_fit_slope_sigma', 'linear_fit_reduced_chi2', 'magnitude_percentage_ratio_40_5',\n",
    "                 'magnitude_percentage_ratio_20_10', 'maximum_slope', 'median_absolute_deviation', 'median_buffer_range_percentage_10',\n",
    "                 'percent_amplitude', 'mean_variance', 'anderson_darling_normal', 'chi2', 'skew', 'stetson_K']\n",
    "\n",
    "# Renaming to shorter names:\n",
    "feature_names = ['mean', 'weightedMean', 'std', 'median', 'amplitude', 'beyond1Std',\n",
    "                 'cusum', 'IPR10', 'kurtosis', 'linT', 'linT_sigma', 'linT_noise',\n",
    "                 'linF_slope', 'linF_slope_sigma', 'linF_chi2', 'MPR40_5', 'MPR20_10',\n",
    "                 'maxSlope', 'medianAbsDev', 'medianBRP10', 'percentAmplitude',\n",
    "                 'meanVariance', 'andersonDarlingNorm', 'chi2', 'skew', 'stetsonK']"
   ]
  },
  {
   "cell_type": "markdown",
   "id": "de59d847",
   "metadata": {},
   "source": [
    "---\n",
    "## magCVs data (positive class)"
   ]
  },
  {
   "cell_type": "markdown",
   "id": "05f7894c-07d5-46f0-a900-24621d699128",
   "metadata": {
    "tags": []
   },
   "source": [
    "### Getting data of selected magCVs from Fink's API"
   ]
  },
  {
   "cell_type": "code",
   "execution_count": 2,
   "id": "4247b64e-dc3d-4b76-a84f-a8c392aff5c4",
   "metadata": {
    "tags": []
   },
   "outputs": [],
   "source": [
    "# Reading IDs of selected magnetic Cataclysmic Variables:\n",
    "objids_list = list(pd.read_csv('../data/magnetic_cvs_objectId.csv').values.flatten())\n",
    "\n",
    "# Retrieving full objects data from Fink:\n",
    "r = requests.post(\n",
    "  \"https://api.fink-portal.org/api/v1/objects\",\n",
    "  json={\n",
    "    \"objectId\": \",\".join(objids_list),\n",
    "    \"columns\": \"i:objectId,d:anomaly_score,d:lc_features_g,d:lc_features_r\",\n",
    "    \"output-format\": \"json\"\n",
    "  }\n",
    ")"
   ]
  },
  {
   "cell_type": "markdown",
   "id": "8cb5d929-879f-460d-b0cd-3b2bcb262a05",
   "metadata": {},
   "source": [
    "### Cleaning data"
   ]
  },
  {
   "cell_type": "code",
   "execution_count": 3,
   "id": "eaeb613e-4f9d-439d-b34e-0d5395c90413",
   "metadata": {},
   "outputs": [
    {
     "data": {
      "application/vnd.microsoft.datawrangler.viewer.v0+json": {
       "columns": [
        {
         "name": "index",
         "rawType": "int64",
         "type": "integer"
        },
        {
         "name": "objectId",
         "rawType": "object",
         "type": "string"
        },
        {
         "name": "anomaly_score",
         "rawType": "float64",
         "type": "float"
        },
        {
         "name": "d:lc_features_g",
         "rawType": "object",
         "type": "unknown"
        },
        {
         "name": "d:lc_features_r",
         "rawType": "object",
         "type": "unknown"
        }
       ],
       "conversionMethod": "pd.DataFrame",
       "ref": "40768d34-f180-4e1c-a284-2100068282a0",
       "rows": [
        [
         "0",
         "ZTF17aaarvmd",
         null,
         "[]",
         "[]"
        ],
        [
         "1",
         "ZTF18aaadlpa",
         "-0.2076285183",
         "[18.80503836 18.97971455  1.40696778 18.80503836  0.99487646  0.\n  0.35355339  1.98975292         nan         nan         nan         nan\n         nan         nan         nan  0.40000004  1.          0.20297752\n  0.99487646  0.          0.99487646  0.07481866         nan 55.91576658\n         nan  0.99610891]",
         "[ 1.90725151e+01  1.75650529e+01  1.03529167e+00  1.96310505e+01\n  1.54542001e+00  1.11111111e-01  3.36224269e-01  2.56309298e+00\n  1.47076684e+00  1.39159195e-02  3.68642816e-02  1.09567718e+00\n -8.37521504e-02  5.42442731e-03  5.00611418e+01  1.44883655e-01\n  6.19962603e-01  6.22276279e-01  3.28901956e-01  3.33333333e-01\n  2.76193807e+00  5.42818643e-02  7.35014822e-01  7.36019824e+01\n -1.39891628e+00  9.35733642e-01]"
        ],
        [
         "2",
         "ZTF18abnulwr",
         "-0.0195349269",
         "[ 2.17977813e+01  2.14434446e+01  6.18913922e-01  2.17795342e+01\n  1.13449855e+00  3.00000000e-01  2.19378174e-01  1.68081071e+00\n  1.75420706e+00 -3.07733479e-02  2.11586117e-02  5.83796907e-01\n -2.79848039e-02  4.30176195e-02  8.64275395e-02  7.80710853e-02\n  4.35793002e-01  6.65337516e-01  2.84685091e-01  4.00000000e-01\n  1.34316983e+00  2.83934367e-02  5.25625521e-01  1.23847366e-01\n  9.25306193e-01  8.29612929e-01]",
         "[ 2.32850550e+01  2.29038227e+01  6.52053567e-01  2.33128102e+01\n  7.72117808e-01  2.00000000e-01  3.79921059e-01  1.54423562e+00\n -9.32586526e-01  6.02474130e-02  4.56090919e-02  5.98686012e-01\n  3.53486039e-02  6.79423496e-01  5.81755057e-03  2.93121701e-01\n  7.93121701e-01  2.20216579e-01  6.43562817e-01  2.00000000e-01\n  8.93643510e-01  2.80030933e-02  2.22309964e-01  5.03987422e-03\n  4.98051436e-01  9.80301594e-01]"
        ],
        [
         "3",
         "ZTF18aaqphee",
         "-0.012197410700000001",
         "[ 2.00012289e+01  1.99926461e+01  1.77050844e-01  2.00446981e+01\n  2.19315160e-01  4.00000000e-01  3.31879054e-01  4.38630320e-01\n -7.10805017e-01 -7.25948265e-03  8.31576357e-03  1.82563236e-01\n -8.54673835e-03  1.65636598e-02  1.20888327e-01  2.26908058e-01\n  7.26908058e-01  4.28755062e-01  1.95745570e-01  4.00000000e-01\n  2.31771555e-01  8.85199833e-03  2.35277833e-01  1.57228530e-01\n  4.25174818e-01  8.77638278e-01]",
         "[ 1.91977628e+01  1.91798959e+01  8.64991349e-02  1.91701499e+01\n  8.31278770e-02  3.33333333e-01  3.73546525e-01  1.66255754e-01\n             nan -3.77593435e-03  4.19084549e-03  9.08808568e-02\n -4.35883268e-03  9.98614107e-03  1.01500120e-01  3.00000042e-01\n  9.00000065e-01  1.20444661e-01  4.17084465e-02  3.33333333e-01\n  1.24547307e-01  4.50568828e-03             nan  1.46011031e-01\n  1.29013492e+00  8.30494023e-01]"
        ],
        [
         "4",
         "ZTF18abwiccd",
         null,
         "[]",
         "[]"
        ]
       ],
       "shape": {
        "columns": 4,
        "rows": 5
       }
      },
      "text/html": [
       "<div>\n",
       "<style scoped>\n",
       "    .dataframe tbody tr th:only-of-type {\n",
       "        vertical-align: middle;\n",
       "    }\n",
       "\n",
       "    .dataframe tbody tr th {\n",
       "        vertical-align: top;\n",
       "    }\n",
       "\n",
       "    .dataframe thead th {\n",
       "        text-align: right;\n",
       "    }\n",
       "</style>\n",
       "<table border=\"1\" class=\"dataframe\">\n",
       "  <thead>\n",
       "    <tr style=\"text-align: right;\">\n",
       "      <th></th>\n",
       "      <th>objectId</th>\n",
       "      <th>anomaly_score</th>\n",
       "      <th>d:lc_features_g</th>\n",
       "      <th>d:lc_features_r</th>\n",
       "    </tr>\n",
       "  </thead>\n",
       "  <tbody>\n",
       "    <tr>\n",
       "      <th>0</th>\n",
       "      <td>ZTF17aaarvmd</td>\n",
       "      <td>NaN</td>\n",
       "      <td>[]</td>\n",
       "      <td>[]</td>\n",
       "    </tr>\n",
       "    <tr>\n",
       "      <th>1</th>\n",
       "      <td>ZTF18aaadlpa</td>\n",
       "      <td>-0.207629</td>\n",
       "      <td>[18.805038361213605, 18.97971454799683, 1.4069...</td>\n",
       "      <td>[19.072515062537434, 17.565052863600965, 1.035...</td>\n",
       "    </tr>\n",
       "    <tr>\n",
       "      <th>2</th>\n",
       "      <td>ZTF18abnulwr</td>\n",
       "      <td>-0.019535</td>\n",
       "      <td>[21.797781262525547, 21.443444600246625, 0.618...</td>\n",
       "      <td>[23.285054981784537, 22.903822703409396, 0.652...</td>\n",
       "    </tr>\n",
       "    <tr>\n",
       "      <th>3</th>\n",
       "      <td>ZTF18aaqphee</td>\n",
       "      <td>-0.012197</td>\n",
       "      <td>[20.001228861637856, 19.99264607715552, 0.1770...</td>\n",
       "      <td>[19.19776281066766, 19.179895917835594, 0.0864...</td>\n",
       "    </tr>\n",
       "    <tr>\n",
       "      <th>4</th>\n",
       "      <td>ZTF18abwiccd</td>\n",
       "      <td>NaN</td>\n",
       "      <td>[]</td>\n",
       "      <td>[]</td>\n",
       "    </tr>\n",
       "  </tbody>\n",
       "</table>\n",
       "</div>"
      ],
      "text/plain": [
       "       objectId  anomaly_score  \\\n",
       "0  ZTF17aaarvmd            NaN   \n",
       "1  ZTF18aaadlpa      -0.207629   \n",
       "2  ZTF18abnulwr      -0.019535   \n",
       "3  ZTF18aaqphee      -0.012197   \n",
       "4  ZTF18abwiccd            NaN   \n",
       "\n",
       "                                     d:lc_features_g  \\\n",
       "0                                                 []   \n",
       "1  [18.805038361213605, 18.97971454799683, 1.4069...   \n",
       "2  [21.797781262525547, 21.443444600246625, 0.618...   \n",
       "3  [20.001228861637856, 19.99264607715552, 0.1770...   \n",
       "4                                                 []   \n",
       "\n",
       "                                     d:lc_features_r  \n",
       "0                                                 []  \n",
       "1  [19.072515062537434, 17.565052863600965, 1.035...  \n",
       "2  [23.285054981784537, 22.903822703409396, 0.652...  \n",
       "3  [19.19776281066766, 19.179895917835594, 0.0864...  \n",
       "4                                                 []  "
      ]
     },
     "execution_count": 3,
     "metadata": {},
     "output_type": "execute_result"
    }
   ],
   "source": [
    "pdf = pd.read_json(io.BytesIO(r.content))\n",
    "\n",
    "# Converting values from str to float in the features columns:\n",
    "placeholder_features_g, placeholder_features_r = [], []\n",
    "for i in range(len(pdf)):\n",
    "    placeholder_features_g.append(np.array(eval(pdf['d:lc_features_g'][i].replace('NaN', 'np.nan').replace('null', 'np.nan'))))\n",
    "    placeholder_features_r.append(np.array(eval(pdf['d:lc_features_r'][i].replace('NaN', 'np.nan').replace('null', 'np.nan'))))\n",
    "pdf['d:lc_features_g'] = placeholder_features_g\n",
    "pdf['d:lc_features_r'] = placeholder_features_r\n",
    "\n",
    "initial_len = len(pdf) # Number of lines in the dataframe before removing empty, duplicate and NaN lines for reference\n",
    "\n",
    "pdf.rename(columns={'i:objectId': 'objectId', 'd:anomaly_score': 'anomaly_score'}, inplace=True)\n",
    "\n",
    "pdf.head()"
   ]
  },
  {
   "cell_type": "code",
   "execution_count": 4,
   "id": "d5e5f265-8ef8-4ea0-940f-0a4fe48f19e5",
   "metadata": {},
   "outputs": [
    {
     "name": "stderr",
     "output_type": "stream",
     "text": [
      "100%|██████████| 9192/9192"
     ]
    },
    {
     "name": "stdout",
     "output_type": "stream",
     "text": [
      "4491 and 4446 lines remaining in g and r filters respectively after cleaning out of 24864\n"
     ]
    },
    {
     "name": "stderr",
     "output_type": "stream",
     "text": [
      "\n"
     ]
    }
   ],
   "source": [
    "# Getting rid of lines with NaN in the anomaly_score column:\n",
    "pdf = pdf[~np.isnan(pdf['anomaly_score'])]\n",
    "\n",
    "# Splitting the dataframe into two, one for each filter (because they will not have the same length after cleaning):\n",
    "pdf_g = pdf.drop(columns=['d:lc_features_r'])\n",
    "pdf_r = pdf.drop(columns=['d:lc_features_g'])\n",
    "\n",
    "# Getting rid of empty lines or with NaN values in the features:\n",
    "for index, lc_features_g, lc_features_r in zip(tqdm2(pdf.index), pdf_g['d:lc_features_g'], pdf_r['d:lc_features_r']):\n",
    "    if len(lc_features_g) == 0 or True in np.isnan(lc_features_g):\n",
    "        pdf_g = pdf_g.drop([index])\n",
    "    if len(lc_features_r) == 0 or True in np.isnan(lc_features_r):\n",
    "        pdf_r = pdf_r.drop([index])\n",
    "\n",
    "print(f'{len(pdf_g)} and {len(pdf_r)} lines remaining in g and r filters respectively after cleaning out of {initial_len}')"
   ]
  },
  {
   "cell_type": "code",
   "execution_count": 5,
   "id": "43615865",
   "metadata": {},
   "outputs": [
    {
     "name": "stdout",
     "output_type": "stream",
     "text": [
      "3917 out of 4491 and 4075 out of 4446 lines remaining in g and r filters respectively after removing duplicates\n"
     ]
    }
   ],
   "source": [
    "# Removing duplicates with np.unique (faster than pandas drop_duplicates but the conversion to numpy array rounds values resulting in more duplicates):\n",
    "features_g = np.vstack(pdf_g[\"d:lc_features_g\"].to_numpy())\n",
    "features_r = np.vstack(pdf_r[\"d:lc_features_r\"].to_numpy())\n",
    "features_g_reduced, index_g = np.unique(features_g, axis=0, return_index=True)\n",
    "features_r_reduced, index_r = np.unique(features_r, axis=0, return_index=True)\n",
    "\n",
    "print(f'{len(features_g_reduced)} out of {len(features_g)} and {len(features_r_reduced)} out of {len(features_r)} lines remaining in g and r filters respectively after removing duplicates')"
   ]
  },
  {
   "cell_type": "code",
   "execution_count": 6,
   "id": "9388168b",
   "metadata": {},
   "outputs": [],
   "source": [
    "# Converting back to pandas DataFrame with feature names as columns:\n",
    "dfg = pd.DataFrame(features_g_reduced, columns=feature_names, index=pdf_g.index[index_g])\n",
    "dfr = pd.DataFrame(features_r_reduced, columns=feature_names, index=pdf_r.index[index_r])\n",
    "\n",
    "# Retrieving corresponding IDs and anomaly scores:\n",
    "for column in ['objectId', 'anomaly_score']:\n",
    "    dfg[column] = pdf_g[column].values[index_g]\n",
    "    dfr[column] = pdf_r[column].values[index_r]"
   ]
  },
  {
   "cell_type": "code",
   "execution_count": 7,
   "id": "1b17fbf4",
   "metadata": {},
   "outputs": [
    {
     "data": {
      "application/vnd.microsoft.datawrangler.viewer.v0+json": {
       "columns": [
        {
         "name": "index",
         "rawType": "int64",
         "type": "integer"
        },
        {
         "name": "mean",
         "rawType": "float64",
         "type": "float"
        },
        {
         "name": "weightedMean",
         "rawType": "float64",
         "type": "float"
        },
        {
         "name": "std",
         "rawType": "float64",
         "type": "float"
        },
        {
         "name": "median",
         "rawType": "float64",
         "type": "float"
        },
        {
         "name": "amplitude",
         "rawType": "float64",
         "type": "float"
        },
        {
         "name": "beyond1Std",
         "rawType": "float64",
         "type": "float"
        },
        {
         "name": "cusum",
         "rawType": "float64",
         "type": "float"
        },
        {
         "name": "IPR10",
         "rawType": "float64",
         "type": "float"
        },
        {
         "name": "kurtosis",
         "rawType": "float64",
         "type": "float"
        },
        {
         "name": "linT",
         "rawType": "float64",
         "type": "float"
        },
        {
         "name": "linT_sigma",
         "rawType": "float64",
         "type": "float"
        },
        {
         "name": "linT_noise",
         "rawType": "float64",
         "type": "float"
        },
        {
         "name": "linF_slope",
         "rawType": "float64",
         "type": "float"
        },
        {
         "name": "linF_slope_sigma",
         "rawType": "float64",
         "type": "float"
        },
        {
         "name": "linF_chi2",
         "rawType": "float64",
         "type": "float"
        },
        {
         "name": "MPR40_5",
         "rawType": "float64",
         "type": "float"
        },
        {
         "name": "MPR20_10",
         "rawType": "float64",
         "type": "float"
        },
        {
         "name": "maxSlope",
         "rawType": "float64",
         "type": "float"
        },
        {
         "name": "medianAbsDev",
         "rawType": "float64",
         "type": "float"
        },
        {
         "name": "medianBRP10",
         "rawType": "float64",
         "type": "float"
        },
        {
         "name": "percentAmplitude",
         "rawType": "float64",
         "type": "float"
        },
        {
         "name": "meanVariance",
         "rawType": "float64",
         "type": "float"
        },
        {
         "name": "andersonDarlingNorm",
         "rawType": "float64",
         "type": "float"
        },
        {
         "name": "chi2",
         "rawType": "float64",
         "type": "float"
        },
        {
         "name": "skew",
         "rawType": "float64",
         "type": "float"
        },
        {
         "name": "stetsonK",
         "rawType": "float64",
         "type": "float"
        },
        {
         "name": "objectId",
         "rawType": "object",
         "type": "string"
        },
        {
         "name": "anomaly_score",
         "rawType": "float64",
         "type": "float"
        }
       ],
       "conversionMethod": "pd.DataFrame",
       "ref": "f96c3798-949b-4068-abd3-461748014386",
       "rows": [
        [
         "4816",
         "13.817506217330266",
         "13.828649089049629",
         "0.1958033047829925",
         "13.896275640492046",
         "0.2342627734272904",
         "0.2",
         "0.3465483844137149",
         "0.4685255468545808",
         "3.736548626488066",
         "-0.012028217875430762",
         "0.008426928741621416",
         "0.17448146374611925",
         "-0.009783776022325583",
         "0.000773295469414223",
         "138.30723051501948",
         "0.12374526936623528",
         "0.6237452693662372",
         "0.14612781425954793",
         "0.05047952901573893",
         "0.2",
         "0.4180460178388419",
         "0.014170668838738139",
         "0.5156293644243576",
         "143.74904072333294",
         "-1.91583901907884",
         "0.7540491139446837",
         "ZTF17aabdpti",
         "-0.13377772270000002"
        ],
        [
         "19903",
         "13.81750884397012",
         "13.82864933429453",
         "0.19579761567719475",
         "13.896275640492046",
         "0.2342562068276539",
         "0.2",
         "0.34654772168112646",
         "0.4685124136553078",
         "3.7364763551695734",
         "-0.0120278500944685",
         "0.008426692601625587",
         "0.17447657441414738",
         "-0.009783652019055072",
         "0.0007732920543535361",
         "138.30200502475077",
         "0.1237487381564622",
         "0.6237487381564621",
         "0.14612366823662254",
         "0.05047952901573893",
         "0.2",
         "0.4180328846395689",
         "0.01417025441330835",
         "0.5156192764830694",
         "143.74446070182879",
         "-1.9158213611415593",
         "0.7540527543142832",
         "ZTF17aabdpti",
         "-0.1323128939"
        ],
        [
         "13552",
         "13.86976014817339",
         "13.8708952764135",
         "0.06393048030554345",
         "13.89504493810447",
         "0.08059384187190322",
         "0.4",
         "0.4029229968821753",
         "0.16118768374380643",
         "-1.2465430654660175",
         "0.0010897499366589354",
         "0.00407523463450413",
         "0.07295620071212285",
         "-0.0017410100947720805",
         "0.000823354540699445",
         "17.715700390569584",
         "0.22060659921888914",
         "0.7206065992188947",
         "0.03534486691529738",
         "0.05171023140331599",
         "0.4",
         "0.10947745234049044",
         "0.004609342888598035",
         "0.20475798488890665",
         "14.404587425564904",
         "-0.3097956602668646",
         "0.9153876143541109",
         "ZTF17aabdpti",
         "-0.1194568649"
        ],
        [
         "19496",
         "13.900870188450401",
         "13.893655682435769",
         "0.048766654035519386",
         "13.896275640492046",
         "0.060798831254560426",
         "0.2",
         "0.32935304255895875",
         "0.12159766250912085",
         "0.822606412559427",
         "7.038581878711279e-05",
         "0.00257441587009309",
         "0.056303867560632895",
         "2.1533974982003866e-05",
         "0.0006179907319570304",
         "19.355711083027032",
         "0.18944751113581998",
         "0.6894475111358199",
         "0.012499695803238908",
         "0.04484204665699565",
         "0.4",
         "0.07111813349338192",
         "0.0035081727528135163",
         "0.2803126919889644",
         "14.51708685829613",
         "-0.9790362136758931",
         "0.7626923199389325",
         "ZTF17aabdpti",
         "-0.12210617210000001"
        ],
        [
         "18477",
         "13.90232536599953",
         "13.89326243845156",
         "0.056184152677266744",
         "13.918694393745838",
         "0.060798831254560426",
         "0.25",
         "0.37028939898039087",
         "0.12159766250912085",
         "0.4234732080566719",
         "-0.0002619710779172938",
         "0.004360813503104404",
         "0.06874925393473383",
         "0.00017252852502819402",
         "0.0009358047456729184",
         "29.009153677605305",
         "0.2949892923345021",
         "0.8106209699754973",
         "0.012499695803238908",
         "0.025239764507869467",
         "0.0",
         "0.09353688674717375",
         "0.004041349284967429",
         "0.14710260413390316",
         "19.350765792773533",
         "-1.1791317352967308",
         "0.8487268826545917",
         "ZTF17aabdpti",
         "-0.11762040110000001"
        ]
       ],
       "shape": {
        "columns": 28,
        "rows": 5
       }
      },
      "text/html": [
       "<div>\n",
       "<style scoped>\n",
       "    .dataframe tbody tr th:only-of-type {\n",
       "        vertical-align: middle;\n",
       "    }\n",
       "\n",
       "    .dataframe tbody tr th {\n",
       "        vertical-align: top;\n",
       "    }\n",
       "\n",
       "    .dataframe thead th {\n",
       "        text-align: right;\n",
       "    }\n",
       "</style>\n",
       "<table border=\"1\" class=\"dataframe\">\n",
       "  <thead>\n",
       "    <tr style=\"text-align: right;\">\n",
       "      <th></th>\n",
       "      <th>mean</th>\n",
       "      <th>weightedMean</th>\n",
       "      <th>std</th>\n",
       "      <th>median</th>\n",
       "      <th>amplitude</th>\n",
       "      <th>beyond1Std</th>\n",
       "      <th>cusum</th>\n",
       "      <th>IPR10</th>\n",
       "      <th>kurtosis</th>\n",
       "      <th>linT</th>\n",
       "      <th>...</th>\n",
       "      <th>medianAbsDev</th>\n",
       "      <th>medianBRP10</th>\n",
       "      <th>percentAmplitude</th>\n",
       "      <th>meanVariance</th>\n",
       "      <th>andersonDarlingNorm</th>\n",
       "      <th>chi2</th>\n",
       "      <th>skew</th>\n",
       "      <th>stetsonK</th>\n",
       "      <th>objectId</th>\n",
       "      <th>anomaly_score</th>\n",
       "    </tr>\n",
       "  </thead>\n",
       "  <tbody>\n",
       "    <tr>\n",
       "      <th>4816</th>\n",
       "      <td>13.817506</td>\n",
       "      <td>13.828649</td>\n",
       "      <td>0.195803</td>\n",
       "      <td>13.896276</td>\n",
       "      <td>0.234263</td>\n",
       "      <td>0.20</td>\n",
       "      <td>0.346548</td>\n",
       "      <td>0.468526</td>\n",
       "      <td>3.736549</td>\n",
       "      <td>-0.012028</td>\n",
       "      <td>...</td>\n",
       "      <td>0.050480</td>\n",
       "      <td>0.2</td>\n",
       "      <td>0.418046</td>\n",
       "      <td>0.014171</td>\n",
       "      <td>0.515629</td>\n",
       "      <td>143.749041</td>\n",
       "      <td>-1.915839</td>\n",
       "      <td>0.754049</td>\n",
       "      <td>ZTF17aabdpti</td>\n",
       "      <td>-0.133778</td>\n",
       "    </tr>\n",
       "    <tr>\n",
       "      <th>19903</th>\n",
       "      <td>13.817509</td>\n",
       "      <td>13.828649</td>\n",
       "      <td>0.195798</td>\n",
       "      <td>13.896276</td>\n",
       "      <td>0.234256</td>\n",
       "      <td>0.20</td>\n",
       "      <td>0.346548</td>\n",
       "      <td>0.468512</td>\n",
       "      <td>3.736476</td>\n",
       "      <td>-0.012028</td>\n",
       "      <td>...</td>\n",
       "      <td>0.050480</td>\n",
       "      <td>0.2</td>\n",
       "      <td>0.418033</td>\n",
       "      <td>0.014170</td>\n",
       "      <td>0.515619</td>\n",
       "      <td>143.744461</td>\n",
       "      <td>-1.915821</td>\n",
       "      <td>0.754053</td>\n",
       "      <td>ZTF17aabdpti</td>\n",
       "      <td>-0.132313</td>\n",
       "    </tr>\n",
       "    <tr>\n",
       "      <th>13552</th>\n",
       "      <td>13.869760</td>\n",
       "      <td>13.870895</td>\n",
       "      <td>0.063930</td>\n",
       "      <td>13.895045</td>\n",
       "      <td>0.080594</td>\n",
       "      <td>0.40</td>\n",
       "      <td>0.402923</td>\n",
       "      <td>0.161188</td>\n",
       "      <td>-1.246543</td>\n",
       "      <td>0.001090</td>\n",
       "      <td>...</td>\n",
       "      <td>0.051710</td>\n",
       "      <td>0.4</td>\n",
       "      <td>0.109477</td>\n",
       "      <td>0.004609</td>\n",
       "      <td>0.204758</td>\n",
       "      <td>14.404587</td>\n",
       "      <td>-0.309796</td>\n",
       "      <td>0.915388</td>\n",
       "      <td>ZTF17aabdpti</td>\n",
       "      <td>-0.119457</td>\n",
       "    </tr>\n",
       "    <tr>\n",
       "      <th>19496</th>\n",
       "      <td>13.900870</td>\n",
       "      <td>13.893656</td>\n",
       "      <td>0.048767</td>\n",
       "      <td>13.896276</td>\n",
       "      <td>0.060799</td>\n",
       "      <td>0.20</td>\n",
       "      <td>0.329353</td>\n",
       "      <td>0.121598</td>\n",
       "      <td>0.822606</td>\n",
       "      <td>0.000070</td>\n",
       "      <td>...</td>\n",
       "      <td>0.044842</td>\n",
       "      <td>0.4</td>\n",
       "      <td>0.071118</td>\n",
       "      <td>0.003508</td>\n",
       "      <td>0.280313</td>\n",
       "      <td>14.517087</td>\n",
       "      <td>-0.979036</td>\n",
       "      <td>0.762692</td>\n",
       "      <td>ZTF17aabdpti</td>\n",
       "      <td>-0.122106</td>\n",
       "    </tr>\n",
       "    <tr>\n",
       "      <th>18477</th>\n",
       "      <td>13.902325</td>\n",
       "      <td>13.893262</td>\n",
       "      <td>0.056184</td>\n",
       "      <td>13.918694</td>\n",
       "      <td>0.060799</td>\n",
       "      <td>0.25</td>\n",
       "      <td>0.370289</td>\n",
       "      <td>0.121598</td>\n",
       "      <td>0.423473</td>\n",
       "      <td>-0.000262</td>\n",
       "      <td>...</td>\n",
       "      <td>0.025240</td>\n",
       "      <td>0.0</td>\n",
       "      <td>0.093537</td>\n",
       "      <td>0.004041</td>\n",
       "      <td>0.147103</td>\n",
       "      <td>19.350766</td>\n",
       "      <td>-1.179132</td>\n",
       "      <td>0.848727</td>\n",
       "      <td>ZTF17aabdpti</td>\n",
       "      <td>-0.117620</td>\n",
       "    </tr>\n",
       "  </tbody>\n",
       "</table>\n",
       "<p>5 rows × 28 columns</p>\n",
       "</div>"
      ],
      "text/plain": [
       "            mean  weightedMean       std     median  amplitude  beyond1Std  \\\n",
       "4816   13.817506     13.828649  0.195803  13.896276   0.234263        0.20   \n",
       "19903  13.817509     13.828649  0.195798  13.896276   0.234256        0.20   \n",
       "13552  13.869760     13.870895  0.063930  13.895045   0.080594        0.40   \n",
       "19496  13.900870     13.893656  0.048767  13.896276   0.060799        0.20   \n",
       "18477  13.902325     13.893262  0.056184  13.918694   0.060799        0.25   \n",
       "\n",
       "          cusum     IPR10  kurtosis      linT  ...  medianAbsDev  medianBRP10  \\\n",
       "4816   0.346548  0.468526  3.736549 -0.012028  ...      0.050480          0.2   \n",
       "19903  0.346548  0.468512  3.736476 -0.012028  ...      0.050480          0.2   \n",
       "13552  0.402923  0.161188 -1.246543  0.001090  ...      0.051710          0.4   \n",
       "19496  0.329353  0.121598  0.822606  0.000070  ...      0.044842          0.4   \n",
       "18477  0.370289  0.121598  0.423473 -0.000262  ...      0.025240          0.0   \n",
       "\n",
       "       percentAmplitude  meanVariance  andersonDarlingNorm        chi2  \\\n",
       "4816           0.418046      0.014171             0.515629  143.749041   \n",
       "19903          0.418033      0.014170             0.515619  143.744461   \n",
       "13552          0.109477      0.004609             0.204758   14.404587   \n",
       "19496          0.071118      0.003508             0.280313   14.517087   \n",
       "18477          0.093537      0.004041             0.147103   19.350766   \n",
       "\n",
       "           skew  stetsonK      objectId  anomaly_score  \n",
       "4816  -1.915839  0.754049  ZTF17aabdpti      -0.133778  \n",
       "19903 -1.915821  0.754053  ZTF17aabdpti      -0.132313  \n",
       "13552 -0.309796  0.915388  ZTF17aabdpti      -0.119457  \n",
       "19496 -0.979036  0.762692  ZTF17aabdpti      -0.122106  \n",
       "18477 -1.179132  0.848727  ZTF17aabdpti      -0.117620  \n",
       "\n",
       "[5 rows x 28 columns]"
      ]
     },
     "execution_count": 7,
     "metadata": {},
     "output_type": "execute_result"
    }
   ],
   "source": [
    "dfg.head()"
   ]
  },
  {
   "cell_type": "code",
   "execution_count": 8,
   "id": "0308707e",
   "metadata": {},
   "outputs": [
    {
     "data": {
      "application/vnd.microsoft.datawrangler.viewer.v0+json": {
       "columns": [
        {
         "name": "index",
         "rawType": "int64",
         "type": "integer"
        },
        {
         "name": "mean",
         "rawType": "float64",
         "type": "float"
        },
        {
         "name": "weightedMean",
         "rawType": "float64",
         "type": "float"
        },
        {
         "name": "std",
         "rawType": "float64",
         "type": "float"
        },
        {
         "name": "median",
         "rawType": "float64",
         "type": "float"
        },
        {
         "name": "amplitude",
         "rawType": "float64",
         "type": "float"
        },
        {
         "name": "beyond1Std",
         "rawType": "float64",
         "type": "float"
        },
        {
         "name": "cusum",
         "rawType": "float64",
         "type": "float"
        },
        {
         "name": "IPR10",
         "rawType": "float64",
         "type": "float"
        },
        {
         "name": "kurtosis",
         "rawType": "float64",
         "type": "float"
        },
        {
         "name": "linT",
         "rawType": "float64",
         "type": "float"
        },
        {
         "name": "linT_sigma",
         "rawType": "float64",
         "type": "float"
        },
        {
         "name": "linT_noise",
         "rawType": "float64",
         "type": "float"
        },
        {
         "name": "linF_slope",
         "rawType": "float64",
         "type": "float"
        },
        {
         "name": "linF_slope_sigma",
         "rawType": "float64",
         "type": "float"
        },
        {
         "name": "linF_chi2",
         "rawType": "float64",
         "type": "float"
        },
        {
         "name": "MPR40_5",
         "rawType": "float64",
         "type": "float"
        },
        {
         "name": "MPR20_10",
         "rawType": "float64",
         "type": "float"
        },
        {
         "name": "maxSlope",
         "rawType": "float64",
         "type": "float"
        },
        {
         "name": "medianAbsDev",
         "rawType": "float64",
         "type": "float"
        },
        {
         "name": "medianBRP10",
         "rawType": "float64",
         "type": "float"
        },
        {
         "name": "percentAmplitude",
         "rawType": "float64",
         "type": "float"
        },
        {
         "name": "meanVariance",
         "rawType": "float64",
         "type": "float"
        },
        {
         "name": "andersonDarlingNorm",
         "rawType": "float64",
         "type": "float"
        },
        {
         "name": "chi2",
         "rawType": "float64",
         "type": "float"
        },
        {
         "name": "skew",
         "rawType": "float64",
         "type": "float"
        },
        {
         "name": "stetsonK",
         "rawType": "float64",
         "type": "float"
        },
        {
         "name": "objectId",
         "rawType": "object",
         "type": "string"
        },
        {
         "name": "anomaly_score",
         "rawType": "float64",
         "type": "float"
        }
       ],
       "conversionMethod": "pd.DataFrame",
       "ref": "4b32fb1f-4c9e-4c4a-b172-de2a03ef5e40",
       "rows": [
        [
         "4816",
         "13.678091531695378",
         "13.677387629045976",
         "0.11075617525740672",
         "13.673155015529511",
         "0.16093023084436808",
         "0.5",
         "0.3453569222919894",
         "0.3017050801887162",
         "-0.5719106371566207",
         "-0.008948302124529137",
         "0.0038965301764732423",
         "0.08727331029758394",
         "-0.00768452289226585",
         "0.0009089550190495527",
         "19.240606894628034",
         "0.07153524236115606",
         "0.7746004422915347",
         "0.13502516640878856",
         "0.07120887224404893",
         "0.25",
         "0.1732931613920936",
         "0.008097341284839221",
         "0.31990037737638044",
         "26.7025424078458",
         "0.27177524418627497",
         "0.7740019078798445",
         "ZTF17aabdpti",
         "-0.13377772270000002"
        ],
        [
         "22135",
         "13.68933300830014",
         "13.682039350035897",
         "0.11543784738405885",
         "13.677993437122087",
         "0.16093023084436808",
         "0.5",
         "0.392200406604637",
         "0.3017050801887162",
         "-1.193497786318324",
         "-0.008725567233001465",
         "0.00312304761353264",
         "0.08219830463150307",
         "-0.009200749354580748",
         "0.0009156444194907679",
         "15.63980857645447",
         "0.1673307232236817",
         "0.8012008870257328",
         "0.13503708502551764",
         "0.10535675026108215",
         "0.25",
         "0.1684547397995182",
         "0.008432686042049409",
         "0.21428849916698967",
         "27.829846742937313",
         "-0.05510378251638633",
         "0.8331896135093959",
         "ZTF17aabdpti",
         "-0.1319003701"
        ],
        [
         "19903",
         "13.692616505726912",
         "13.684719952340528",
         "0.12428295697115788",
         "13.68963834793141",
         "0.16093023084436897",
         "0.42857142857142855",
         "0.40500631066783316",
         "0.3084235361955727",
         "-1.6227420578877294",
         "-0.011084346327695498",
         "0.003370508582564104",
         "0.07655113914776147",
         "-0.013116549595479246",
         "0.0011215549426727355",
         "11.45707004713652",
         "0.27225033574041724",
         "0.8475174690497131",
         "0.05518039061270868",
         "0.12421734791577954",
         "0.14285714285714285",
         "0.16505063269854148",
         "0.009076640459416705",
         "0.22821194267093586",
         "32.3429388125866",
         "-0.16360758694832062",
         "0.8703247094979347",
         "ZTF17aabdpti",
         "-0.1323128939"
        ],
        [
         "18477",
         "13.692619072185193",
         "13.68472209893976",
         "0.12427890897310631",
         "13.68963834793141",
         "0.16092124824037857",
         "0.42857142857142855",
         "0.40501065214513887",
         "0.30840916402897456",
         "-1.6228896885285993",
         "-0.011083887689814541",
         "0.0033704630030347107",
         "0.0765501039434855",
         "-0.013115935959536426",
         "0.0011215504060809321",
         "11.457092773467476",
         "0.2722655327201757",
         "0.8475511390642402",
         "0.05518039061270868",
         "0.12421734791577954",
         "0.14285714285714285",
         "0.16503266749056067",
         "0.009076343124564316",
         "0.22823402955413222",
         "32.34100974913546",
         "-0.1635253558598507",
         "0.8703294564250433",
         "ZTF17aabdpti",
         "-0.11762040110000001"
        ],
        [
         "19496",
         "13.720621304142584",
         "13.711712815804074",
         "0.10930529129027736",
         "13.729765832757892",
         "0.1436341799296974",
         "0.3333333333333333",
         "0.4091495705253902",
         "0.275455832035",
         "-1.122858252202568",
         "-0.010003297109798042",
         "0.004756013333969933",
         "0.0842114071530728",
         "-0.013228608129873337",
         "0.001571712552564928",
         "14.318748245493047",
         "0.3103154046256643",
         "0.7426989910555414",
         "0.05518039061270868",
         "0.08457161316923756",
         "0.0",
         "0.17058601569568133",
         "0.00796649720645489",
         "0.1846562072020604",
         "25.623112388670894",
         "-0.40261353011094797",
         "0.8885705098466049",
         "ZTF17aabdpti",
         "-0.12210617210000001"
        ]
       ],
       "shape": {
        "columns": 28,
        "rows": 5
       }
      },
      "text/html": [
       "<div>\n",
       "<style scoped>\n",
       "    .dataframe tbody tr th:only-of-type {\n",
       "        vertical-align: middle;\n",
       "    }\n",
       "\n",
       "    .dataframe tbody tr th {\n",
       "        vertical-align: top;\n",
       "    }\n",
       "\n",
       "    .dataframe thead th {\n",
       "        text-align: right;\n",
       "    }\n",
       "</style>\n",
       "<table border=\"1\" class=\"dataframe\">\n",
       "  <thead>\n",
       "    <tr style=\"text-align: right;\">\n",
       "      <th></th>\n",
       "      <th>mean</th>\n",
       "      <th>weightedMean</th>\n",
       "      <th>std</th>\n",
       "      <th>median</th>\n",
       "      <th>amplitude</th>\n",
       "      <th>beyond1Std</th>\n",
       "      <th>cusum</th>\n",
       "      <th>IPR10</th>\n",
       "      <th>kurtosis</th>\n",
       "      <th>linT</th>\n",
       "      <th>...</th>\n",
       "      <th>medianAbsDev</th>\n",
       "      <th>medianBRP10</th>\n",
       "      <th>percentAmplitude</th>\n",
       "      <th>meanVariance</th>\n",
       "      <th>andersonDarlingNorm</th>\n",
       "      <th>chi2</th>\n",
       "      <th>skew</th>\n",
       "      <th>stetsonK</th>\n",
       "      <th>objectId</th>\n",
       "      <th>anomaly_score</th>\n",
       "    </tr>\n",
       "  </thead>\n",
       "  <tbody>\n",
       "    <tr>\n",
       "      <th>4816</th>\n",
       "      <td>13.678092</td>\n",
       "      <td>13.677388</td>\n",
       "      <td>0.110756</td>\n",
       "      <td>13.673155</td>\n",
       "      <td>0.160930</td>\n",
       "      <td>0.500000</td>\n",
       "      <td>0.345357</td>\n",
       "      <td>0.301705</td>\n",
       "      <td>-0.571911</td>\n",
       "      <td>-0.008948</td>\n",
       "      <td>...</td>\n",
       "      <td>0.071209</td>\n",
       "      <td>0.250000</td>\n",
       "      <td>0.173293</td>\n",
       "      <td>0.008097</td>\n",
       "      <td>0.319900</td>\n",
       "      <td>26.702542</td>\n",
       "      <td>0.271775</td>\n",
       "      <td>0.774002</td>\n",
       "      <td>ZTF17aabdpti</td>\n",
       "      <td>-0.133778</td>\n",
       "    </tr>\n",
       "    <tr>\n",
       "      <th>22135</th>\n",
       "      <td>13.689333</td>\n",
       "      <td>13.682039</td>\n",
       "      <td>0.115438</td>\n",
       "      <td>13.677993</td>\n",
       "      <td>0.160930</td>\n",
       "      <td>0.500000</td>\n",
       "      <td>0.392200</td>\n",
       "      <td>0.301705</td>\n",
       "      <td>-1.193498</td>\n",
       "      <td>-0.008726</td>\n",
       "      <td>...</td>\n",
       "      <td>0.105357</td>\n",
       "      <td>0.250000</td>\n",
       "      <td>0.168455</td>\n",
       "      <td>0.008433</td>\n",
       "      <td>0.214288</td>\n",
       "      <td>27.829847</td>\n",
       "      <td>-0.055104</td>\n",
       "      <td>0.833190</td>\n",
       "      <td>ZTF17aabdpti</td>\n",
       "      <td>-0.131900</td>\n",
       "    </tr>\n",
       "    <tr>\n",
       "      <th>19903</th>\n",
       "      <td>13.692617</td>\n",
       "      <td>13.684720</td>\n",
       "      <td>0.124283</td>\n",
       "      <td>13.689638</td>\n",
       "      <td>0.160930</td>\n",
       "      <td>0.428571</td>\n",
       "      <td>0.405006</td>\n",
       "      <td>0.308424</td>\n",
       "      <td>-1.622742</td>\n",
       "      <td>-0.011084</td>\n",
       "      <td>...</td>\n",
       "      <td>0.124217</td>\n",
       "      <td>0.142857</td>\n",
       "      <td>0.165051</td>\n",
       "      <td>0.009077</td>\n",
       "      <td>0.228212</td>\n",
       "      <td>32.342939</td>\n",
       "      <td>-0.163608</td>\n",
       "      <td>0.870325</td>\n",
       "      <td>ZTF17aabdpti</td>\n",
       "      <td>-0.132313</td>\n",
       "    </tr>\n",
       "    <tr>\n",
       "      <th>18477</th>\n",
       "      <td>13.692619</td>\n",
       "      <td>13.684722</td>\n",
       "      <td>0.124279</td>\n",
       "      <td>13.689638</td>\n",
       "      <td>0.160921</td>\n",
       "      <td>0.428571</td>\n",
       "      <td>0.405011</td>\n",
       "      <td>0.308409</td>\n",
       "      <td>-1.622890</td>\n",
       "      <td>-0.011084</td>\n",
       "      <td>...</td>\n",
       "      <td>0.124217</td>\n",
       "      <td>0.142857</td>\n",
       "      <td>0.165033</td>\n",
       "      <td>0.009076</td>\n",
       "      <td>0.228234</td>\n",
       "      <td>32.341010</td>\n",
       "      <td>-0.163525</td>\n",
       "      <td>0.870329</td>\n",
       "      <td>ZTF17aabdpti</td>\n",
       "      <td>-0.117620</td>\n",
       "    </tr>\n",
       "    <tr>\n",
       "      <th>19496</th>\n",
       "      <td>13.720621</td>\n",
       "      <td>13.711713</td>\n",
       "      <td>0.109305</td>\n",
       "      <td>13.729766</td>\n",
       "      <td>0.143634</td>\n",
       "      <td>0.333333</td>\n",
       "      <td>0.409150</td>\n",
       "      <td>0.275456</td>\n",
       "      <td>-1.122858</td>\n",
       "      <td>-0.010003</td>\n",
       "      <td>...</td>\n",
       "      <td>0.084572</td>\n",
       "      <td>0.000000</td>\n",
       "      <td>0.170586</td>\n",
       "      <td>0.007966</td>\n",
       "      <td>0.184656</td>\n",
       "      <td>25.623112</td>\n",
       "      <td>-0.402614</td>\n",
       "      <td>0.888571</td>\n",
       "      <td>ZTF17aabdpti</td>\n",
       "      <td>-0.122106</td>\n",
       "    </tr>\n",
       "  </tbody>\n",
       "</table>\n",
       "<p>5 rows × 28 columns</p>\n",
       "</div>"
      ],
      "text/plain": [
       "            mean  weightedMean       std     median  amplitude  beyond1Std  \\\n",
       "4816   13.678092     13.677388  0.110756  13.673155   0.160930    0.500000   \n",
       "22135  13.689333     13.682039  0.115438  13.677993   0.160930    0.500000   \n",
       "19903  13.692617     13.684720  0.124283  13.689638   0.160930    0.428571   \n",
       "18477  13.692619     13.684722  0.124279  13.689638   0.160921    0.428571   \n",
       "19496  13.720621     13.711713  0.109305  13.729766   0.143634    0.333333   \n",
       "\n",
       "          cusum     IPR10  kurtosis      linT  ...  medianAbsDev  medianBRP10  \\\n",
       "4816   0.345357  0.301705 -0.571911 -0.008948  ...      0.071209     0.250000   \n",
       "22135  0.392200  0.301705 -1.193498 -0.008726  ...      0.105357     0.250000   \n",
       "19903  0.405006  0.308424 -1.622742 -0.011084  ...      0.124217     0.142857   \n",
       "18477  0.405011  0.308409 -1.622890 -0.011084  ...      0.124217     0.142857   \n",
       "19496  0.409150  0.275456 -1.122858 -0.010003  ...      0.084572     0.000000   \n",
       "\n",
       "       percentAmplitude  meanVariance  andersonDarlingNorm       chi2  \\\n",
       "4816           0.173293      0.008097             0.319900  26.702542   \n",
       "22135          0.168455      0.008433             0.214288  27.829847   \n",
       "19903          0.165051      0.009077             0.228212  32.342939   \n",
       "18477          0.165033      0.009076             0.228234  32.341010   \n",
       "19496          0.170586      0.007966             0.184656  25.623112   \n",
       "\n",
       "           skew  stetsonK      objectId  anomaly_score  \n",
       "4816   0.271775  0.774002  ZTF17aabdpti      -0.133778  \n",
       "22135 -0.055104  0.833190  ZTF17aabdpti      -0.131900  \n",
       "19903 -0.163608  0.870325  ZTF17aabdpti      -0.132313  \n",
       "18477 -0.163525  0.870329  ZTF17aabdpti      -0.117620  \n",
       "19496 -0.402614  0.888571  ZTF17aabdpti      -0.122106  \n",
       "\n",
       "[5 rows x 28 columns]"
      ]
     },
     "execution_count": 8,
     "metadata": {},
     "output_type": "execute_result"
    }
   ],
   "source": [
    "dfr.head()"
   ]
  },
  {
   "cell_type": "markdown",
   "id": "213f7f5f",
   "metadata": {},
   "source": [
    "### Saving the dataframes to csv files:"
   ]
  },
  {
   "cell_type": "code",
   "execution_count": 9,
   "id": "53dee7a7",
   "metadata": {},
   "outputs": [],
   "source": [
    "# dfg.to_csv('../../data/clean_data/positive_class_g.csv')\n",
    "# dfr.to_csv('../../data/clean_data/positive_class_r.csv')"
   ]
  },
  {
   "cell_type": "markdown",
   "id": "2b88292a",
   "metadata": {},
   "source": [
    "---\n",
    "## Other lc data (negative class)"
   ]
  },
  {
   "cell_type": "markdown",
   "id": "bb02efd0",
   "metadata": {},
   "source": [
    "### Getting other lc data"
   ]
  },
  {
   "cell_type": "code",
   "execution_count": 10,
   "id": "ca644f11",
   "metadata": {},
   "outputs": [],
   "source": [
    "path_to_other_data = '../../data/lc_features_not_nan_JAN2024/' # <----- To be changed accordingly\n",
    "pdf2 = pd.read_parquet(path_to_other_data)"
   ]
  },
  {
   "cell_type": "code",
   "execution_count": 11,
   "id": "754e0934",
   "metadata": {},
   "outputs": [
    {
     "data": {
      "application/vnd.microsoft.datawrangler.viewer.v0+json": {
       "columns": [
        {
         "name": "index",
         "rawType": "int64",
         "type": "integer"
        },
        {
         "name": "objectId",
         "rawType": "object",
         "type": "string"
        },
        {
         "name": "candid",
         "rawType": "int64",
         "type": "integer"
        },
        {
         "name": "lc_features_g",
         "rawType": "object",
         "type": "unknown"
        },
        {
         "name": "lc_features_r",
         "rawType": "object",
         "type": "unknown"
        },
        {
         "name": "cdsxmatch",
         "rawType": "object",
         "type": "string"
        }
       ],
       "conversionMethod": "pd.DataFrame",
       "ref": "3cda8099-eb8b-49a0-a70e-2130bf55b01b",
       "rows": [
        [
         "0",
         "ZTF18abqpjos",
         "2570132662315010001",
         "{'mean': 17.401908735560085, 'weighted_mean': 17.403772655003493, 'standard_deviation': 0.022390601184951408, 'median': 17.39074194296276, 'amplitude': 0.02019445663393249, 'beyond_1_std': 0.3333333333333333, 'cusum': 0.3837600238252427, 'inter_percentile_range_10': 0.04038891326786498, 'kurtosis': nan, 'linear_trend': 0.004567779277423914, 'linear_trend_sigma': 0.0013598861566826196, 'linear_trend_noise': 0.009035194096554563, 'linear_fit_slope': 0.004799515707233415, 'linear_fit_slope_sigma': 0.0058398169673594385, 'linear_fit_reduced_chi2': 0.05018396120022979, 'magnitude_percentage_ratio_40_5': 0.30000006135969015, 'magnitude_percentage_ratio_20_10': 0.9000000852015473, 'maximum_slope': 0.005799455779738331, 'median_absolute_deviation': 0.003444267737943818, 'median_buffer_range_percentage_10': 0.3333333333333333, 'percent_amplitude': 0.03694464552992116, 'mean_variance': 0.0012866750150917143, 'anderson_darling_normal': nan, 'chi2': 0.3628194180216479, 'skew': 1.686056702908581, 'stetson_K': 0.9477067335964768}",
         "{'mean': 17.631597001140964, 'weighted_mean': 17.630942831721985, 'standard_deviation': 0.009749691546283034, 'median': 17.636340605069847, 'amplitude': 0.00884195405846988, 'beyond_1_std': 0.3333333333333333, 'cusum': 0.3833884032700571, 'inter_percentile_range_10': 0.01768390811693976, 'kurtosis': nan, 'linear_trend': 0.0008639315270753781, 'linear_trend_sigma': 0.0007497510245575933, 'linear_trend_noise': 0.009037230334668247, 'linear_fit_slope': 0.0009435706095095555, 'linear_fit_slope_sigma': 0.0044683213862676905, 'linear_fit_reduced_chi2': 0.03231559946350092, 'magnitude_percentage_ratio_40_5': 0.29999996395521805, 'magnitude_percentage_ratio_20_10': 0.8999999877970563, 'maximum_slope': 0.0025378877754339215, 'median_absolute_deviation': 0.0017265481651485004, 'median_buffer_range_percentage_10': 0.3333333333333333, 'percent_amplitude': 0.01595735995179126, 'mean_variance': 0.0005529670140289684, 'anderson_darling_normal': nan, 'chi2': 0.03845394593827836, 'skew': -1.6711440942579054, 'stetson_K': 0.9468658249350005}",
         "QSO"
        ],
        [
         "1",
         "ZTF23aatekmu",
         "2570135064715015025",
         "{'mean': 19.48988275209835, 'weighted_mean': 19.484980430061317, 'standard_deviation': 0.036972853329931485, 'median': 19.502134989543155, 'amplitude': 0.03541756473211777, 'beyond_1_std': 0.3333333333333333, 'cusum': 0.37454221780688807, 'inter_percentile_range_10': 0.07083512946423554, 'kurtosis': nan, 'linear_trend': 0.002350071134031027, 'linear_trend_sigma': 0.0022817257417953813, 'linear_trend_noise': 0.03642332779658462, 'linear_fit_slope': 0.0025275495888273177, 'linear_fit_slope_sigma': 0.00803092226951143, 'linear_fit_reduced_chi2': 0.0950107050196349, 'magnitude_percentage_ratio_40_5': 0.2999999809917953, 'magnitude_percentage_ratio_20_10': 0.9000000048336178, 'maximum_slope': 0.05413173795432841, 'median_absolute_deviation': 0.017039208564913366, 'median_buffer_range_percentage_10': 0.3333333333333333, 'percent_amplitude': 0.05379592089932217, 'mean_variance': 0.0018970280016667035, 'anderson_darling_normal': nan, 'chi2': 0.09703195472635495, 'skew': -1.327470341480924, 'stetson_K': 0.9493931579987909}",
         "{'mean': 18.274583367522656, 'weighted_mean': 18.292172044099953, 'standard_deviation': 0.06303892463165432, 'median': 18.300970749555347, 'amplitude': 0.08074094318081215, 'beyond_1_std': 0.2, 'cusum': 0.3410995983356528, 'inter_percentile_range_10': 0.1614818863616243, 'kurtosis': 3.3276405864295366, 'linear_trend': -0.001754605467854815, 'linear_trend_sigma': 0.002810890562075865, 'linear_trend_noise': 0.06847965584462927, 'linear_fit_slope': 0.0006487596072609773, 'linear_fit_slope_sigma': 0.0029269295747252123, 'linear_fit_reduced_chi2': 0.3803068790446364, 'magnitude_percentage_ratio_40_5': 0.08296053870991514, 'magnitude_percentage_ratio_20_10': 0.5829605387099261, 'maximum_slope': 0.07098267075401878, 'median_absolute_deviation': 0.026205881157466138, 'median_buffer_range_percentage_10': 0.4, 'percent_amplitude': 0.13390014138953532, 'mean_variance': 0.0034495410025974244, 'anderson_darling_normal': 0.4295654625047803, 'chi2': 0.2975125542125536, 'skew': -1.7423469555650073, 'stetson_K': 0.8245313921496483}",
         "Unknown"
        ],
        [
         "2",
         "ZTF18acdyhbe",
         "2570137543115010004",
         "{'mean': 19.510292396036682, 'weighted_mean': 19.49849798789113, 'standard_deviation': 0.15658879137169573, 'median': 19.510292396036682, 'amplitude': 0.1107249962367316, 'beyond_1_std': 0.0, 'cusum': 0.35355339059326807, 'inter_percentile_range_10': 0.2214499924734632, 'kurtosis': nan, 'linear_trend': nan, 'linear_trend_sigma': nan, 'linear_trend_noise': nan, 'linear_fit_slope': nan, 'linear_fit_slope_sigma': nan, 'linear_fit_reduced_chi2': nan, 'magnitude_percentage_ratio_40_5': 0.40000003576278986, 'magnitude_percentage_ratio_20_10': 1.0, 'maximum_slope': 0.0116007781200053, 'median_absolute_deviation': 0.1107249962367316, 'median_buffer_range_percentage_10': 0.0, 'percent_amplitude': 0.11072499623673338, 'mean_variance': 0.00802595820673119, 'anderson_darling_normal': nan, 'chi2': 1.1009770946338535, 'skew': nan, 'stetson_K': 0.9985766314585519}",
         "{'mean': 16.208598134662612, 'weighted_mean': 16.206205455537795, 'standard_deviation': 0.017463914866720432, 'median': 16.206426285738154, 'amplitude': 0.021100833984776912, 'beyond_1_std': 0.5, 'cusum': 0.33315386450924633, 'inter_percentile_range_10': 0.042201667969553824, 'kurtosis': 1.6208295866595694, 'linear_trend': 0.0006981520716884157, 'linear_trend_sigma': 0.0008895227697984485, 'linear_trend_noise': 0.018701771744403232, 'linear_fit_slope': 0.0005110333713503573, 'linear_fit_slope_sigma': 0.001632678447786221, 'linear_fit_reduced_chi2': 0.3396579651892787, 'magnitude_percentage_ratio_40_5': 0.0634797961178402, 'magnitude_percentage_ratio_20_10': 0.7238049440133301, 'maximum_slope': 0.004224092668676829, 'median_absolute_deviation': 0.009215740892626556, 'median_buffer_range_percentage_10': 0.5, 'percent_amplitude': 0.025444531833691997, 'mean_variance': 0.0010774475819332755, 'anderson_darling_normal': 0.10870540877785848, 'chi2': 0.25909561997925074, 'skew': 0.7216405009772094, 'stetson_K': 0.7620894662509813}",
         "LPV*"
        ],
        [
         "3",
         "ZTF19aczmbew",
         "2570137543815010007",
         "{'mean': 16.886914280166614, 'weighted_mean': 16.889811596151926, 'standard_deviation': 0.04153685316983829, 'median': 16.886914280166614, 'amplitude': 0.029370990545542597, 'beyond_1_std': 0.0, 'cusum': 0.3535533905932524, 'inter_percentile_range_10': 0.058741981091085194, 'kurtosis': nan, 'linear_trend': nan, 'linear_trend_sigma': nan, 'linear_trend_noise': nan, 'linear_fit_slope': nan, 'linear_fit_slope_sigma': nan, 'linear_fit_reduced_chi2': nan, 'magnitude_percentage_ratio_40_5': 0.400000035762754, 'magnitude_percentage_ratio_20_10': 1.0, 'maximum_slope': 0.008299685032816822, 'median_absolute_deviation': 0.029370990545542597, 'median_buffer_range_percentage_10': 0.0, 'percent_amplitude': 0.029370990545544373, 'mean_variance': 0.00245970652072431, 'anderson_darling_normal': nan, 'chi2': 1.6652052407965892, 'skew': nan, 'stetson_K': 0.9987799153335953}",
         "{'mean': 15.622438672539376, 'weighted_mean': 15.621190045239613, 'standard_deviation': 0.011518180468956694, 'median': 15.617111286747832, 'amplitude': 0.010553800348049869, 'beyond_1_std': 0.3333333333333333, 'cusum': 0.3825110305528158, 'inter_percentile_range_10': 0.021107600696099738, 'kurtosis': nan, 'linear_trend': 0.000755531331940588, 'linear_trend_sigma': 0.00024353156093574822, 'linear_trend_noise': 0.004997320975032382, 'linear_fit_slope': 0.0007314260790539562, 'linear_fit_slope_sigma': 0.0010553975097373546, 'linear_fit_reduced_chi2': 0.05709709239960439, 'magnitude_percentage_ratio_40_5': 0.30000005705206795, 'magnitude_percentage_ratio_20_10': 0.9000000808939747, 'maximum_slope': 0.0010938548916642114, 'median_absolute_deviation': 0.002562721660734013, 'median_buffer_range_percentage_10': 0.3333333333333333, 'percent_amplitude': 0.018544879035365724, 'mean_variance': 0.0007372844093286782, 'anderson_darling_normal': nan, 'chi2': 0.2686964320097138, 'skew': 1.6360894346875923, 'stetson_K': 0.9087795985573448}",
         "Unknown"
        ],
        [
         "4",
         "ZTF18acmgaps",
         "2570138041515010000",
         "{'mean': 15.311072617994874, 'weighted_mean': 15.311549247763487, 'standard_deviation': 0.016082613060974103, 'median': 15.310173529987765, 'amplitude': 0.019653564994567496, 'beyond_1_std': 0.5, 'cusum': 0.3194855979521922, 'inter_percentile_range_10': 0.03930712998913499, 'kurtosis': 1.5546995411235898, 'linear_trend': -0.000607361044223238, 'linear_trend_sigma': 0.0009209685557893134, 'linear_trend_noise': 0.017851525999131975, 'linear_fit_slope': -0.0006034354853754023, 'linear_fit_slope_sigma': 0.0011535494850706013, 'linear_fit_reduced_chi2': 0.5842032155080334, 'magnitude_percentage_ratio_40_5': 0.012633590737997694, 'magnitude_percentage_ratio_20_10': 0.7047376164289095, 'maximum_slope': 0.009427234580446902, 'median_absolute_deviation': 0.009082878911725878, 'median_buffer_range_percentage_10': 0.5, 'percent_amplitude': 0.021451741008789327, 'mean_variance': 0.0010503910119316166, 'anderson_darling_normal': 0.1202921809484377, 'chi2': 0.4806841623800831, 'skew': 0.33386178745355394, 'stetson_K': 0.7535454828907923}",
         "{'mean': 14.604294032777275, 'weighted_mean': 14.602183076843147, 'standard_deviation': 0.0296841009426139, 'median': 14.61042596441396, 'amplitude': 0.04398952313369975, 'beyond_1_std': 0.3333333333333333, 'cusum': 0.3436734691876894, 'inter_percentile_range_10': 0.0813988073641152, 'kurtosis': 2.3812112619504635, 'linear_trend': -0.002371944867769734, 'linear_trend_sigma': 0.0006435921040956256, 'linear_trend_noise': 0.01582943707324453, 'linear_fit_slope': -0.0023582172303349015, 'linear_fit_slope_sigma': 0.0010139778643546845, 'linear_fit_reduced_chi2': 0.4674725412578283, 'magnitude_percentage_ratio_40_5': 0.09071685837914606, 'magnitude_percentage_ratio_20_10': 0.5149637822701734, 'maximum_slope': 0.02394642501391664, 'median_absolute_deviation': 0.01108837293360132, 'median_buffer_range_percentage_10': 0.3333333333333333, 'percent_amplitude': 0.059439664406198744, 'mean_variance': 0.002032559798918875, 'anderson_darling_normal': 0.3468166183434757, 'chi2': 1.4557623797740606, 'skew': -1.2221282515867447, 'stetson_K': 0.7743820356901577}",
         "Unknown"
        ],
        [
         "5",
         "ZTF18admszze",
         "2570138042815010007",
         "{'mean': 16.21489369942863, 'weighted_mean': 16.1875277007654, 'standard_deviation': 0.14257044909658212, 'median': 16.245442356908413, 'amplitude': 0.16692012702221604, 'beyond_1_std': 0.25, 'cusum': 0.3462652775404816, 'inter_percentile_range_10': 0.33384025404443207, 'kurtosis': 1.6499023905292631, 'linear_trend': -0.006623895069714495, 'linear_trend_sigma': 0.007428447537547372, 'linear_trend_noise': 0.1477032967566422, 'linear_fit_slope': -0.00685668678393925, 'linear_fit_slope_sigma': 0.0010184848720243957, 'linear_fit_reduced_chi2': 43.12417859714778, 'magnitude_percentage_ratio_40_5': 0.13218935996175782, 'magnitude_percentage_ratio_20_10': 0.7495710095719417, 'maximum_slope': 0.03132902217922514, 'median_absolute_deviation': 0.06670207027072195, 'median_buffer_range_percentage_10': 0.0, 'percent_amplitude': 0.22801744198178042, 'mean_variance': 0.008792561440079371, 'anderson_darling_normal': 0.11610350307879189, 'chi2': 43.85714722268943, 'skew': -1.1427690891476707, 'stetson_K': 0.8801427048278143}",
         "{'mean': 15.604753532798314, 'weighted_mean': 15.550570921986871, 'standard_deviation': 0.1977114578630832, 'median': 15.495395609615914, 'amplitude': 0.1735524533052466, 'beyond_1_std': 0.3333333333333333, 'cusum': 0.3847887174626962, 'inter_percentile_range_10': 0.3471049066104932, 'kurtosis': nan, 'linear_trend': 0.006484619984396512, 'linear_trend_sigma': 0.010383062498300066, 'linear_trend_noise': 0.2371548045356926, 'linear_fit_slope': 0.0037752492225222485, 'linear_fit_slope_sigma': 0.0007437013771709816, 'linear_fit_reduced_chi2': 142.80005118502467, 'magnitude_percentage_ratio_40_5': 0.3000000682575615, 'magnitude_percentage_ratio_20_10': 0.9000000920994204, 'maximum_slope': 0.18305924141643057, 'median_absolute_deviation': 0.009515568531645258, 'median_buffer_range_percentage_10': 0.6666666666666666, 'percent_amplitude': 0.33758933807884794, 'mean_variance': 0.012669950694673271, 'anderson_darling_normal': nan, 'chi2': 84.28442246941667, 'skew': 1.7275383395275488, 'stetson_K': 0.8652996865715222}",
         "EB*_Candidate"
        ],
        [
         "6",
         "ZTF17aaarukh",
         "2570138043815010009",
         "{'mean': 15.852027942564032, 'weighted_mean': 15.825033921201126, 'standard_deviation': 0.16575055538788588, 'median': 15.773092712608532, 'amplitude': 0.18748209033630125, 'beyond_1_std': 0.2, 'cusum': 0.4228940297945422, 'inter_percentile_range_10': 0.3749641806726025, 'kurtosis': -2.0727728176883824, 'linear_trend': 0.0034660585555290188, 'linear_trend_sigma': 0.009222827406869959, 'linear_trend_noise': 0.18704010799955825, 'linear_fit_slope': 0.003280230223835075, 'linear_fit_slope_sigma': 0.0008512921682172368, 'linear_fit_reduced_chi2': 62.95914801279647, 'magnitude_percentage_ratio_40_5': 0.329431189954467, 'magnitude_percentage_ratio_20_10': 0.829431189954467, 'maximum_slope': 0.1945900261811575, 'median_absolute_deviation': 0.07086413290515914, 'median_buffer_range_percentage_10': 0.2, 'percent_amplitude': 0.30410004776744337, 'mean_variance': 0.010456110472959215, 'anderson_darling_normal': 0.3076368273292911, 'chi2': 50.931219214299865, 'skew': 0.7069142671500691, 'stetson_K': 0.9374690475402206}",
         "{'mean': 15.331138169235498, 'weighted_mean': 15.287781860926174, 'standard_deviation': 0.12602626812969073, 'median': 15.35796849782397, 'amplitude': 0.17078688080674453, 'beyond_1_std': 0.4, 'cusum': 0.3642787722007956, 'inter_percentile_range_10': 0.34157376161348907, 'kurtosis': 0.790906855255491, 'linear_trend': -0.0016240153245662696, 'linear_trend_sigma': 0.008428865285411988, 'linear_trend_noise': 0.14463050001650923, 'linear_fit_slope': -0.007653883600525834, 'linear_fit_slope_sigma': 0.001353953430012396, 'linear_fit_reduced_chi2': 32.28043324851557, 'magnitude_percentage_ratio_40_5': 0.13274270769950605, 'magnitude_percentage_ratio_20_10': 0.632742707699506, 'maximum_slope': 0.18014217747399522, 'median_absolute_deviation': 0.0721221047620677, 'median_buffer_range_percentage_10': 0.2, 'percent_amplitude': 0.21108202351153693, 'mean_variance': 0.008220281282350164, 'anderson_darling_normal': 0.16126371926885633, 'chi2': 32.199395742768246, 'skew': -0.48739897400691107, 'stetson_K': 0.837662678132784}",
         "EB*_Candidate"
        ],
        [
         "7",
         "ZTF18abmeyvg",
         "2570138515615010000",
         "{'mean': 19.4380014991694, 'weighted_mean': 19.443231992352814, 'standard_deviation': 0.09153512332945661, 'median': 19.441024196756235, 'amplitude': 0.11297740076315854, 'beyond_1_std': 0.3333333333333333, 'cusum': 0.26228853804263835, 'inter_percentile_range_10': 0.22039714677345046, 'kurtosis': -1.9255539791940075, 'linear_trend': 0.0013042680344330306, 'linear_trend_sigma': 0.004800522150200841, 'linear_trend_noise': 0.10140795210479386, 'linear_fit_slope': 0.000127479225767462, 'linear_fit_slope_sigma': 0.008632635560229892, 'linear_fit_reduced_chi2': 0.21211678564611644, 'magnitude_percentage_ratio_40_5': 0.3158625953038562, 'magnitude_percentage_ratio_20_10': 0.8487010852876348, 'maximum_slope': 124.1651127207361, 'median_absolute_deviation': 0.08518918108891071, 'median_buffer_range_percentage_10': 0.0, 'percent_amplitude': 0.11813342136949956, 'mean_variance': 0.004709080989286269, 'anderson_darling_normal': 0.2098732993879575, 'chi2': 0.16973704220003014, 'skew': -0.07257814506364989, 'stetson_K': 0.9364059230236249}",
         "{'mean': 16.126804040310844, 'weighted_mean': 16.102917918685023, 'standard_deviation': 0.12733774760596103, 'median': 16.174381120876156, 'amplitude': 0.173383104900525, 'beyond_1_std': 0.5, 'cusum': 0.25814035857455503, 'inter_percentile_range_10': 0.30292231791657365, 'kurtosis': -1.7545348152263305, 'linear_trend': -0.0010058048245864754, 'linear_trend_sigma': 0.003930140846747455, 'linear_trend_noise': 0.13311773750658948, 'linear_fit_slope': 0.0009729690952713172, 'linear_fit_slope_sigma': 0.0026393691497218737, 'linear_fit_reduced_chi2': 2.3030055234785434, 'magnitude_percentage_ratio_40_5': 0.29206947850944, 'magnitude_percentage_ratio_20_10': 0.913874209640464, 'maximum_slope': 529.3685012926827, 'median_absolute_deviation': 0.10290047060618157, 'median_buffer_range_percentage_10': 0.25, 'percent_amplitude': 0.22448111891644018, 'mean_variance': 0.00789603118433543, 'anderson_darling_normal': 0.6817626047456041, 'chi2': 2.105995317846711, 'skew': -0.2235123654893797, 'stetson_K': 0.9237109305667295}",
         "LPV*"
        ],
        [
         "8",
         "ZTF17aaanpgv",
         "2570138993615015038",
         "{'mean': 16.761656892252596, 'weighted_mean': 16.691341324763133, 'standard_deviation': 0.2075661032159771, 'median': 16.761656892252596, 'amplitude': 0.14677139912848425, 'beyond_1_std': 0.0, 'cusum': 0.353553390593278, 'inter_percentile_range_10': 0.2935427982569685, 'kurtosis': nan, 'linear_trend': nan, 'linear_trend_sigma': nan, 'linear_trend_noise': nan, 'linear_fit_slope': nan, 'linear_fit_slope_sigma': nan, 'linear_fit_reduced_chi2': nan, 'magnitude_percentage_ratio_40_5': 0.40000003576278736, 'magnitude_percentage_ratio_20_10': 1.0, 'maximum_slope': 0.041421775594749105, 'median_absolute_deviation': 0.14677139912848425, 'median_buffer_range_percentage_10': 0.0, 'percent_amplitude': 0.14677139912848602, 'mean_variance': 0.012383388142965522, 'anderson_darling_normal': nan, 'chi2': 36.90582239362955, 'skew': nan, 'stetson_K': 0.968960791622578}",
         "{'mean': 15.658668115945282, 'weighted_mean': 15.561830043053723, 'standard_deviation': 0.27423856579357686, 'median': 15.607230270446966, 'amplitude': 0.2853824617588261, 'beyond_1_std': 0.25, 'cusum': 0.40736524822365916, 'inter_percentile_range_10': 0.5707649235176522, 'kurtosis': -2.85209748045647, 'linear_trend': -0.014821549386292201, 'linear_trend_sigma': 0.012048125805169254, 'linear_trend_noise': 0.2534116309213089, 'linear_fit_slope': -0.014228816891819849, 'linear_fit_slope_sigma': 0.0011099551719407305, 'linear_fit_reduced_chi2': 83.92810043452694, 'magnitude_percentage_ratio_40_5': 0.4526657942223554, 'magnitude_percentage_ratio_20_10': 0.8697496761633551, 'maximum_slope': 0.08164814235884324, 'median_absolute_deviation': 0.1719926773556848, 'median_buffer_range_percentage_10': 0.0, 'percent_amplitude': 0.3882581527554603, 'mean_variance': 0.01751353076538602, 'anderson_darling_normal': 0.14065257744978965, 'chi2': 110.72997539071986, 'skew': 0.5523502693992056, 'stetson_K': 0.948234550092083}",
         "EB*_Candidate"
        ],
        [
         "9",
         "ZTF17aaabkyg",
         "2570138993715015026",
         "{'mean': 17.925678259307123, 'weighted_mean': 17.92756268366039, 'standard_deviation': 0.07954491330055213, 'median': 17.88270511444159, 'amplitude': 0.07030202591153945, 'beyond_1_std': 0.3333333333333333, 'cusum': 0.38464055309856354, 'inter_percentile_range_10': 0.1406040518230789, 'kurtosis': nan, 'linear_trend': 0.006281120304642676, 'linear_trend_sigma': 0.0053667318539012635, 'linear_trend_noise': 0.07307559401519399, 'linear_fit_slope': 0.00628995710767042, 'linear_fit_slope_sigma': 0.003513963451775344, 'linear_fit_reduced_chi2': 1.606555237165158, 'magnitude_percentage_ratio_40_5': 0.30000006657223405, 'magnitude_percentage_ratio_20_10': 0.9000000904140966, 'maximum_slope': 0.019840614441610775, 'median_absolute_deviation': 0.005842308613239311, 'median_buffer_range_percentage_10': 0.6666666666666666, 'percent_amplitude': 0.13476174320983958, 'mean_variance': 0.004437484158193675, 'anderson_darling_normal': nan, 'chi2': 2.4053085100517757, 'skew': 1.721545394593132, 'stetson_K': 0.9443986541405124}",
         "{'mean': 16.358869129405626, 'weighted_mean': 16.365092039933796, 'standard_deviation': 0.04531376411746982, 'median': 16.348854329077582, 'amplitude': 0.06289557790326761, 'beyond_1_std': 0.16666666666666666, 'cusum': 0.33730915741653, 'inter_percentile_range_10': 0.1169716307127473, 'kurtosis': 3.515321165518893, 'linear_trend': 0.0001360907124061795, 'linear_trend_sigma': 0.0020934406729979952, 'linear_trend_noise': 0.05063558685895092, 'linear_fit_slope': 0.00040844654841306385, 'linear_fit_slope_sigma': 0.0009322614131258375, 'linear_fit_reduced_chi2': 4.988885024105292, 'magnitude_percentage_ratio_40_5': 0.05085560459129333, 'magnitude_percentage_ratio_20_10': 0.5476089515185552, 'maximum_slope': 0.021970274942390615, 'median_absolute_deviation': 0.01879810733168874, 'median_buffer_range_percentage_10': 0.3333333333333333, 'percent_amplitude': 0.0962416563416113, 'mean_variance': 0.0027699814552594455, 'anderson_darling_normal': 0.5384735276332866, 'chi2': 4.029498627715141, 'skew': 1.754248755807175, 'stetson_K': 0.7609259921163919}",
         "Fail 500"
        ],
        [
         "10",
         "ZTF17aadpfdr",
         "2570140382915010003",
         "{'mean': 15.627889358976002, 'weighted_mean': 15.568980886040393, 'standard_deviation': 0.2687348426133336, 'median': 15.712448282382088, 'amplitude': 0.3958946775674663, 'beyond_1_std': 0.125, 'cusum': 0.30735257584640935, 'inter_percentile_range_10': 0.5810051499919968, 'kurtosis': 7.689995102015912, 'linear_trend': -0.004155517365661648, 'linear_trend_sigma': 0.010040450509675766, 'linear_trend_noise': 0.28621003511238846, 'linear_fit_slope': -0.004871852750186334, 'linear_fit_slope_sigma': 0.0007963204235363268, 'linear_fit_reduced_chi2': 247.2388470109851, 'magnitude_percentage_ratio_40_5': 0.016943972940106827, 'magnitude_percentage_ratio_20_10': 0.1444566003597019, 'maximum_slope': 0.6777315582497008, 'median_absolute_deviation': 0.0370739953908199, 'median_buffer_range_percentage_10': 0.5, 'percent_amplitude': 0.7453296921811852, 'mean_variance': 0.01719585008828998, 'anderson_darling_normal': 2.0348796060324754, 'chi2': 217.266065663688, 'skew': -2.7565361575323157, 'stetson_K': 0.7342108551178185}",
         "{'mean': 15.14263169826484, 'weighted_mean': 15.137009746083885, 'standard_deviation': 0.04137006403253998, 'median': 15.152570486608678, 'amplitude': 0.05502559527869, 'beyond_1_std': 0.4, 'cusum': 0.3006618330477972, 'inter_percentile_range_10': 0.11005119055738, 'kurtosis': 0.05088494105982022, 'linear_trend': 2.648398233451281e-05, 'linear_trend_sigma': 0.0018816428078496073, 'linear_trend_noise': 0.04776845805645635, 'linear_fit_slope': -0.00035790183720713, 'linear_fit_slope_sigma': 0.0009402383241304376, 'linear_fit_reduced_chi2': 5.044708717212081, 'magnitude_percentage_ratio_40_5': 0.16587747777111506, 'magnitude_percentage_ratio_20_10': 0.6658774777711232, 'maximum_slope': 0.029841979426914782, 'median_absolute_deviation': 0.030390809235239402, 'median_buffer_range_percentage_10': 0.2, 'percent_amplitude': 0.06773677081841534, 'mean_variance': 0.0027320260346344214, 'anderson_darling_normal': 0.14614309427529212, 'chi2': 3.8197551673107175, 'skew': -0.3168400892917503, 'stetson_K': 0.849235654848292}",
         "RRLyr"
        ],
        [
         "11",
         "ZTF17aadjbtm",
         "2570140384115015003",
         "{'mean': 16.655849363150576, 'weighted_mean': 16.55189258783672, 'standard_deviation': 0.23645188080777407, 'median': 16.665172559092184, 'amplitude': 0.23205683611034011, 'beyond_1_std': 0.25, 'cusum': 0.4279935013296941, 'inter_percentile_range_10': 0.46411367222068023, 'kurtosis': -5.323182309854214, 'linear_trend': 0.014897901131867309, 'linear_trend_sigma': 0.012960582946638476, 'linear_trend_noise': 0.22472397796255292, 'linear_fit_slope': 0.0180725596709659, 'linear_fit_slope_sigma': 0.001502735680553884, 'linear_fit_reduced_chi2': 139.36462368130432, 'magnitude_percentage_ratio_40_5': 0.5955184279201702, 'magnitude_percentage_ratio_20_10': 0.9233193926795773, 'maximum_slope': 5.527764394921633, 'median_absolute_deviation': 0.19307654078421344, 'median_buffer_range_percentage_10': 0.0, 'percent_amplitude': 0.2507032279935544, 'mean_variance': 0.014196326807019552, 'anderson_darling_normal': 0.1674938599967818, 'chi2': 141.12149769168647, 'skew': -0.06773218587882728, 'stetson_K': 0.9413093243187435}",
         "{'mean': 16.205064022970124, 'weighted_mean': 16.16822886786194, 'standard_deviation': 0.23318052257994662, 'median': 16.20907859098628, 'amplitude': 0.23060480917525616, 'beyond_1_std': 0.25, 'cusum': 0.25154264022091233, 'inter_percentile_range_10': 0.46120961835051233, 'kurtosis': -5.293042268565587, 'linear_trend': -0.005777863047360609, 'linear_trend_sigma': 0.011355946541440252, 'linear_trend_noise': 0.2687242944424241, 'linear_fit_slope': -0.006849862854330849, 'linear_fit_slope_sigma': 0.0012274367975275001, 'linear_fit_reduced_chi2': 89.31770057860699, 'magnitude_percentage_ratio_40_5': 0.5841036836327206, 'magnitude_percentage_ratio_20_10': 0.9190388655666809, 'maximum_slope': 0.20515549282404744, 'median_absolute_deviation': 0.19547352810886842, 'median_buffer_range_percentage_10': 0.0, 'percent_amplitude': 0.23863394520756387, 'mean_variance': 0.014389361390329666, 'anderson_darling_normal': 0.1619167820919291, 'chi2': 69.92625394947395, 'skew': -0.031447975293400245, 'stetson_K': 0.9772147652593643}",
         "EB*"
        ],
        [
         "12",
         "ZTF17aaajvbk",
         "2570143695115015001",
         "{'mean': 16.255527402631127, 'weighted_mean': 16.227152704315756, 'standard_deviation': 0.29428605336942426, 'median': 16.144068942639105, 'amplitude': 0.31733318773397734, 'beyond_1_std': 0.25, 'cusum': 0.36426432956689025, 'inter_percentile_range_10': 0.6346663754679547, 'kurtosis': 2.765320022202207, 'linear_trend': 0.005024862572406701, 'linear_trend_sigma': 0.018631066509744918, 'linear_trend_noise': 0.3540445390055198, 'linear_fit_slope': 0.004262189677977353, 'linear_fit_slope_sigma': 0.0015612958431175357, 'linear_fit_reduced_chi2': 119.35885781025382, 'magnitude_percentage_ratio_40_5': 0.16646480106855013, 'magnitude_percentage_ratio_20_10': 0.7624243299153812, 'maximum_slope': 0.07891610987887468, 'median_absolute_deviation': 0.08022363465351745, 'median_buffer_range_percentage_10': 0.0, 'percent_amplitude': 0.5402501077180197, 'mean_variance': 0.01810375302383551, 'anderson_darling_normal': 0.2023495035918936, 'chi2': 82.05669942752614, 'skew': 1.6852789496416163, 'stetson_K': 0.8076544431571444}",
         "{'mean': 15.948027604918877, 'weighted_mean': 15.89969578589276, 'standard_deviation': 0.22686012338017583, 'median': 15.948027604918877, 'amplitude': 0.16041433162293917, 'beyond_1_std': 0.0, 'cusum': 0.3535533905932718, 'inter_percentile_range_10': 0.32082866324587833, 'kurtosis': nan, 'linear_trend': nan, 'linear_trend_sigma': nan, 'linear_trend_noise': nan, 'linear_fit_slope': nan, 'linear_fit_slope_sigma': nan, 'linear_fit_reduced_chi2': nan, 'magnitude_percentage_ratio_40_5': 0.4000000357627883, 'magnitude_percentage_ratio_20_10': 1.0, 'maximum_slope': 0.16794157371444912, 'median_absolute_deviation': 0.16041433162293917, 'median_buffer_range_percentage_10': 0.0, 'percent_amplitude': 0.16041433162294005, 'mean_variance': 0.014224964302808516, 'anderson_darling_normal': nan, 'chi2': 66.38479920471953, 'skew': nan, 'stetson_K': 0.988314576409797}",
         "Fail 500"
        ],
        [
         "13",
         "ZTF19accpnrm",
         "2570148391315015006",
         "{'mean': 17.61522928616783, 'weighted_mean': 17.618899763970408, 'standard_deviation': 0.022649235017001706, 'median': 17.611374264608095, 'amplitude': 0.022401829243074545, 'beyond_1_std': 0.3333333333333333, 'cusum': 0.35805977559769386, 'inter_percentile_range_10': 0.04480365848614909, 'kurtosis': nan, 'linear_trend': 0.0008057337622853561, 'linear_trend_sigma': 0.0013085902466309742, 'linear_trend_noise': 0.02727518081184839, 'linear_fit_slope': 0.0005371168665701359, 'linear_fit_slope_sigma': 0.002496047287852199, 'linear_fit_reduced_chi2': 0.3835485266200165, 'magnitude_percentage_ratio_40_5': 0.3000000273065364, 'magnitude_percentage_ratio_20_10': 0.9000000511483259, 'maximum_slope': 0.0028088360621475617, 'median_absolute_deviation': 0.016619296903474634, 'median_buffer_range_percentage_10': 0.3333333333333333, 'percent_amplitude': 0.028184361582674455, 'mean_variance': 0.0012857757710134819, 'anderson_darling_normal': nan, 'chi2': 0.2149269770370824, 'skew': 0.7437354672690419, 'stetson_K': 0.9415255088939989}",
         "{'mean': 17.381290275535328, 'weighted_mean': 17.381290275535328, 'standard_deviation': nan, 'median': 17.381290275535328, 'amplitude': 0.0, 'beyond_1_std': nan, 'cusum': nan, 'inter_percentile_range_10': 0.0, 'kurtosis': nan, 'linear_trend': nan, 'linear_trend_sigma': nan, 'linear_trend_noise': nan, 'linear_fit_slope': nan, 'linear_fit_slope_sigma': nan, 'linear_fit_reduced_chi2': nan, 'magnitude_percentage_ratio_40_5': nan, 'magnitude_percentage_ratio_20_10': nan, 'maximum_slope': nan, 'median_absolute_deviation': 0.0, 'median_buffer_range_percentage_10': 0.0, 'percent_amplitude': 0.0, 'mean_variance': nan, 'anderson_darling_normal': nan, 'chi2': nan, 'skew': nan, 'stetson_K': nan}",
         "Blue"
        ],
        [
         "14",
         "ZTF19abpfnxr",
         "2570148392515010004",
         "{'mean': 17.862826503288055, 'weighted_mean': 17.84269189077842, 'standard_deviation': 0.060006453583520206, 'median': 17.840551551776006, 'amplitude': 0.07817632137504837, 'beyond_1_std': 0.2, 'cusum': 0.33640388629537415, 'inter_percentile_range_10': 0.15635264275009675, 'kurtosis': 2.978570810063232, 'linear_trend': -2.693292057978412e-05, 'linear_trend_sigma': 0.003209247089946331, 'linear_trend_noise': 0.06928867092278757, 'linear_fit_slope': 0.0007150577188794762, 'linear_fit_slope_sigma': 0.0028124841119532592, 'linear_fit_reduced_chi2': 0.6092810723391734, 'magnitude_percentage_ratio_40_5': 0.08795560154858122, 'magnitude_percentage_ratio_20_10': 0.5879556015485926, 'maximum_slope': 0.07983822996915609, 'median_absolute_deviation': 0.024408818448424796, 'median_buffer_range_percentage_10': 0.4, 'percent_amplitude': 0.12320697245354495, 'mean_variance': 0.0033592921911028283, 'anderson_darling_normal': 0.3709752499291954, 'chi2': 0.47312083167541, 'skew': 1.6017755772601878, 'stetson_K': 0.7498008168387881}",
         "{'mean': 17.511415485844765, 'weighted_mean': 17.510198261285527, 'standard_deviation': 0.010387270246590434, 'median': 17.511415485844765, 'amplitude': 0.007344909229381358, 'beyond_1_std': 0.0, 'cusum': 0.3535533905932738, 'inter_percentile_range_10': 0.014689818458762716, 'kurtosis': nan, 'linear_trend': nan, 'linear_trend_sigma': nan, 'linear_trend_noise': nan, 'linear_fit_slope': nan, 'linear_fit_slope_sigma': nan, 'linear_fit_reduced_chi2': nan, 'magnitude_percentage_ratio_40_5': 0.4000000357627495, 'magnitude_percentage_ratio_20_10': 1.0, 'maximum_slope': 0.0014689138351608488, 'median_absolute_deviation': 0.007344909229381358, 'median_buffer_range_percentage_10': 0.0, 'percent_amplitude': 0.007344909229381358, 'mean_variance': 0.0005931713661289639, 'anderson_darling_normal': nan, 'chi2': 0.06025660031446248, 'skew': nan, 'stetson_K': 0.9965370655996173}",
         "QSO"
        ],
        [
         "15",
         "ZTF18abqydsm",
         "2570148861515015001",
         "{'mean': 15.602936249987076, 'weighted_mean': 15.603166491197952, 'standard_deviation': 0.013378172941422265, 'median': 15.598901884997472, 'amplitude': 0.014510709796399013, 'beyond_1_std': 0.25, 'cusum': 0.36525212770708104, 'inter_percentile_range_10': 0.029021419592798026, 'kurtosis': 0.7661600231356811, 'linear_trend': -4.8542392636868274e-05, 'linear_trend_sigma': 0.0007746887760359739, 'linear_trend_noise': 0.016368789242895383, 'linear_fit_slope': -0.00012208395448059207, 'linear_fit_slope_sigma': 0.0012742490700494292, 'linear_fit_reduced_chi2': 0.37789738055032046, 'magnitude_percentage_ratio_40_5': 0.27758339880833827, 'magnitude_percentage_ratio_20_10': 0.8040937934949877, 'maximum_slope': 0.002511068975099491, 'median_absolute_deviation': 0.005738447273770042, 'median_buffer_range_percentage_10': 0.0, 'percent_amplitude': 0.02257943977560828, 'mean_variance': 0.000857413805137693, 'anderson_darling_normal': 0.1507864661028511, 'chi2': 0.2549913444762502, 'skew': 1.2482741341464691, 'stetson_K': 0.8405171185574287}",
         "{'mean': 15.546386664902094, 'weighted_mean': 15.565732654242513, 'standard_deviation': 0.06796018394019593, 'median': 15.546386664902094, 'amplitude': 0.04805510691479764, 'beyond_1_std': 0.0, 'cusum': 0.3535533905932672, 'inter_percentile_range_10': 0.09611021382959528, 'kurtosis': nan, 'linear_trend': nan, 'linear_trend_sigma': nan, 'linear_trend_noise': nan, 'linear_fit_slope': nan, 'linear_fit_slope_sigma': nan, 'linear_fit_reduced_chi2': nan, 'magnitude_percentage_ratio_40_5': 0.4000000357627798, 'magnitude_percentage_ratio_20_10': 1.0, 'maximum_slope': 0.005099784175149705, 'median_absolute_deviation': 0.04805510691479764, 'median_buffer_range_percentage_10': 0.0, 'percent_amplitude': 0.04805510691479853, 'mean_variance': 0.004371445623028566, 'anderson_darling_normal': nan, 'chi2': 9.086615471839348, 'skew': nan, 'stetson_K': 0.9786176812512437}",
         "QSO"
        ],
        [
         "16",
         "ZTF18aabfcyi",
         "2570152631015010000",
         "{'mean': 16.990409423204124, 'weighted_mean': 15.000281925486709, 'standard_deviation': 1.8626909377472134, 'median': 18.01642367460756, 'amplitude': 1.6370976136148334, 'beyond_1_std': 0.3333333333333333, 'cusum': 0.38476677222630407, 'inter_percentile_range_10': 3.274195227229667, 'kurtosis': nan, 'linear_trend': 0.01894002693562766, 'linear_trend_sigma': 0.1251380937739533, 'linear_trend_noise': 2.604579203396678, 'linear_fit_slope': 0.05710874477507239, 'linear_fit_slope_sigma': 0.008369319190908307, 'linear_fit_reduced_chi2': 569.3581619589894, 'magnitude_percentage_ratio_40_5': 0.2999999558871149, 'magnitude_percentage_ratio_20_10': 0.8999999797289738, 'maximum_slope': 0.327035710340537, 'median_absolute_deviation': 0.09807623650968367, 'median_buffer_range_percentage_10': 0.6666666666666666, 'percent_amplitude': 3.176118990719983, 'mean_variance': 0.10963190417314495, 'anderson_darling_normal': nan, 'chi2': 307.95972416369705, 'skew': -1.7266503112445233, 'stetson_K': 0.9244739152161179}",
         "{'mean': 17.507416710213057, 'weighted_mean': 15.174068925856345, 'standard_deviation': 1.3970537911873941, 'median': 17.999988379476537, 'amplitude': 1.7134882403814036, 'beyond_1_std': 0.2, 'cusum': 0.35049225670873185, 'inter_percentile_range_10': 3.426976480762807, 'kurtosis': 4.213994037459278, 'linear_trend': 0.028871261311541996, 'linear_trend_sigma': 0.07093025867177491, 'linear_trend_noise': 1.5703977381213092, 'linear_fit_slope': 0.14285060205356773, 'linear_fit_slope_sigma': 0.014091541353889629, 'linear_fit_reduced_chi2': 54.99351646375402, 'magnitude_percentage_ratio_40_5': 0.07586845321189588, 'magnitude_percentage_ratio_20_10': 0.5758684532118954, 'maximum_slope': 8.909407668975206, 'median_absolute_deviation': 0.2640624689818374, 'median_buffer_range_percentage_10': 0.2, 'percent_amplitude': 2.9408543493472763, 'mean_variance': 0.07979782593353218, 'anderson_darling_normal': 0.5558799245191745, 'chi2': 66.93650179628315, 'skew': -2.0150917445995655, 'stetson_K': 0.9583213838155474}",
         "CataclyV*"
        ],
        [
         "17",
         "ZTF18abtrwhs",
         "2570152634215010000",
         "{'mean': 17.120952200629127, 'weighted_mean': 17.120952200629127, 'standard_deviation': nan, 'median': 17.120952200629127, 'amplitude': 0.0, 'beyond_1_std': nan, 'cusum': nan, 'inter_percentile_range_10': 0.0, 'kurtosis': nan, 'linear_trend': nan, 'linear_trend_sigma': nan, 'linear_trend_noise': nan, 'linear_fit_slope': nan, 'linear_fit_slope_sigma': nan, 'linear_fit_reduced_chi2': nan, 'magnitude_percentage_ratio_40_5': nan, 'magnitude_percentage_ratio_20_10': nan, 'maximum_slope': nan, 'median_absolute_deviation': 0.0, 'median_buffer_range_percentage_10': 0.0, 'percent_amplitude': 0.0, 'mean_variance': nan, 'anderson_darling_normal': nan, 'chi2': nan, 'skew': nan, 'stetson_K': nan}",
         "{'mean': 16.27660999645976, 'weighted_mean': 16.27660999645976, 'standard_deviation': nan, 'median': 16.27660999645976, 'amplitude': 0.0, 'beyond_1_std': nan, 'cusum': nan, 'inter_percentile_range_10': 0.0, 'kurtosis': nan, 'linear_trend': nan, 'linear_trend_sigma': nan, 'linear_trend_noise': nan, 'linear_fit_slope': nan, 'linear_fit_slope_sigma': nan, 'linear_fit_reduced_chi2': nan, 'magnitude_percentage_ratio_40_5': nan, 'magnitude_percentage_ratio_20_10': nan, 'maximum_slope': nan, 'median_absolute_deviation': 0.0, 'median_buffer_range_percentage_10': 0.0, 'percent_amplitude': 0.0, 'mean_variance': nan, 'anderson_darling_normal': nan, 'chi2': nan, 'skew': nan, 'stetson_K': nan}",
         "Unknown"
        ],
        [
         "18",
         "ZTF17aaauanj",
         "2570153614915010000",
         "{'mean': 14.156653174176242, 'weighted_mean': 14.14910512105808, 'standard_deviation': 0.04497829461060718, 'median': 14.165104448686101, 'amplitude': 0.044378812010325674, 'beyond_1_std': 0.3333333333333333, 'cusum': 0.3602067003358029, 'inter_percentile_range_10': 0.08875762402065135, 'kurtosis': nan, 'linear_trend': 0.008387920827246502, 'linear_trend_sigma': 0.0015430078415990655, 'linear_trend_noise': 0.011508141103871184, 'linear_fit_slope': 0.008252021239450125, 'linear_fit_slope_sigma': 0.0030906592469897923, 'linear_fit_reduced_chi2': 0.20344418350684706, 'magnitude_percentage_ratio_40_5': 0.2999999948947267, 'magnitude_percentage_ratio_20_10': 0.9000000187365873, 'maximum_slope': 0.01695362218906342, 'median_absolute_deviation': 0.03170190024553676, 'median_buffer_range_percentage_10': 0.3333333333333333, 'percent_amplitude': 0.057055723775114586, 'mean_variance': 0.003177184187337019, 'anderson_darling_normal': nan, 'chi2': 3.666138525194505, 'skew': -0.8156835114210036, 'stetson_K': 0.9301284374698281}",
         "{'mean': 12.444225138898274, 'weighted_mean': 12.51977223012181, 'standard_deviation': 0.184976870308205, 'median': 12.444225138898274, 'amplitude': 0.1307983993575963, 'beyond_1_std': 0.0, 'cusum': 0.3535533905932738, 'inter_percentile_range_10': 0.2615967987151926, 'kurtosis': nan, 'linear_trend': nan, 'linear_trend_sigma': nan, 'linear_trend_noise': nan, 'linear_fit_slope': nan, 'linear_fit_slope_sigma': nan, 'linear_fit_reduced_chi2': nan, 'magnitude_percentage_ratio_40_5': 0.40000003576278687, 'magnitude_percentage_ratio_20_10': 1.0, 'maximum_slope': 0.029017239914497128, 'median_absolute_deviation': 0.1307983993575963, 'median_buffer_range_percentage_10': 0.0, 'percent_amplitude': 0.1307983993575963, 'mean_variance': 0.01486447474580017, 'anderson_darling_normal': nan, 'chi2': 64.12788291402232, 'skew': nan, 'stetson_K': 0.9529772042845316}",
         "SB*"
        ],
        [
         "19",
         "ZTF18abyohca",
         "2570154104815010005",
         "{'mean': 16.463273468507065, 'weighted_mean': 16.422540879856825, 'standard_deviation': 0.13530438050998686, 'median': 16.40749299378728, 'amplitude': 0.1905773672862061, 'beyond_1_std': 0.3, 'cusum': 0.390623147137467, 'inter_percentile_range_10': 0.3499029154596087, 'kurtosis': -0.538401353663724, 'linear_trend': 0.010366813843425134, 'linear_trend_sigma': 0.0024783083971962826, 'linear_trend_noise': 0.08038647297028609, 'linear_fit_slope': 0.007550555574742959, 'linear_fit_slope_sigma': 0.0011677995125866682, 'linear_fit_reduced_chi2': 3.586246290660308, 'magnitude_percentage_ratio_40_5': 0.23538389929296344, 'magnitude_percentage_ratio_20_10': 0.7094401431124422, 'maximum_slope': 112.16266522541893, 'median_absolute_deviation': 0.07315153156012855, 'median_buffer_range_percentage_10': 0.0, 'percent_amplitude': 0.2972667892316494, 'mean_variance': 0.008218558767720976, 'anderson_darling_normal': 0.633889898553803, 'chi2': 7.832699681949259, 'skew': 0.898926849928752, 'stetson_K': 0.8815502567545731}",
         "{'mean': 15.107889740786584, 'weighted_mean': 15.089737084210846, 'standard_deviation': 0.1114376353892908, 'median': 15.06771965980053, 'amplitude': 0.1260357099450342, 'beyond_1_std': 0.2857142857142857, 'cusum': 0.41166046321433464, 'inter_percentile_range_10': 0.24878212955357704, 'kurtosis': -0.9281075902625888, 'linear_trend': 0.00936596626214491, 'linear_trend_sigma': 0.0027023652050138587, 'linear_trend_noise': 0.06618037169897434, 'linear_fit_slope': 0.010957821094541667, 'linear_fit_slope_sigma': 0.0013515527857381826, 'linear_fit_reduced_chi2': 4.551767831245768, 'magnitude_percentage_ratio_40_5': 0.11387036766328082, 'magnitude_percentage_ratio_20_10': 0.9537245619208744, 'maximum_slope': 3.6713902331174135, 'median_absolute_deviation': 0.04088352774570403, 'median_buffer_range_percentage_10': 0.2857142857142857, 'percent_amplitude': 0.20671998486814047, 'mean_variance': 0.007376121834437538, 'anderson_darling_normal': 0.9377439899740837, 'chi2': 14.74861305841572, 'skew': 1.1080757288900323, 'stetson_K': 0.8320594302830929}",
         "TTau*"
        ],
        [
         "20",
         "ZTF18adncpqi",
         "2570154644415010000",
         "{'mean': 15.534138985912529, 'weighted_mean': 15.503525973560357, 'standard_deviation': 0.11625201945226533, 'median': 15.588977161167556, 'amplitude': 0.10610896723535745, 'beyond_1_std': 0.3333333333333333, 'cusum': 0.38286949190790937, 'inter_percentile_range_10': 0.2122179344707149, 'kurtosis': nan, 'linear_trend': 0.0069210667041238435, 'linear_trend_sigma': 0.0003256177214572148, 'linear_trend_noise': 0.007726279009878376, 'linear_fit_slope': 0.0068881573247720875, 'linear_fit_slope_sigma': 0.0011584952989648904, 'linear_fit_reduced_chi2': 0.05464417811000455, 'magnitude_percentage_ratio_40_5': 0.29999996571451615, 'magnitude_percentage_ratio_20_10': 0.8999999895563698, 'maximum_slope': 0.012755237926160855, 'median_absolute_deviation': 0.02385170435281836, 'median_buffer_range_percentage_10': 0.3333333333333333, 'percent_amplitude': 0.18836623011789655, 'mean_variance': 0.0074836474398543105, 'anderson_darling_normal': nan, 'chi2': 17.7034676354406, 'skew': -1.6503854822460384, 'stetson_K': 0.9823159697794207}",
         "{'mean': 14.689596092451264, 'weighted_mean': 14.66531100560756, 'standard_deviation': 0.14522086505726545, 'median': 14.689596092451264, 'amplitude': 0.10268665845176894, 'beyond_1_std': 0.0, 'cusum': 0.3535533905932707, 'inter_percentile_range_10': 0.20537331690353788, 'kurtosis': nan, 'linear_trend': nan, 'linear_trend_sigma': nan, 'linear_trend_noise': nan, 'linear_fit_slope': nan, 'linear_fit_slope_sigma': nan, 'linear_fit_reduced_chi2': nan, 'magnitude_percentage_ratio_40_5': 0.4000000357627886, 'magnitude_percentage_ratio_20_10': 1.0, 'maximum_slope': 0.007343439768978807, 'median_absolute_deviation': 0.10268665845176894, 'median_buffer_range_percentage_10': 0.0, 'percent_amplitude': 0.10268665845176983, 'mean_variance': 0.009885967193603915, 'anderson_darling_normal': nan, 'chi2': 69.00264620562086, 'skew': nan, 'stetson_K': 0.9928827268539033}",
         "Unknown"
        ],
        [
         "21",
         "ZTF18aaadthd",
         "2570155325515010000",
         "{'mean': 16.27044767892142, 'weighted_mean': 16.103882551310456, 'standard_deviation': 0.33406299259744454, 'median': 16.07929265496461, 'amplitude': 0.29016012929969115, 'beyond_1_std': 0.3333333333333333, 'cusum': 0.3848951144202543, 'inter_percentile_range_10': 0.5803202585993823, 'kurtosis': nan, 'linear_trend': 0.01097171528562092, 'linear_trend_sigma': 0.01658687104428258, 'linear_trend_noise': 0.394033400900401, 'linear_fit_slope': 0.002835962221698272, 'linear_fit_slope_sigma': 0.0009088607289620208, 'linear_fit_reduced_chi2': 85.02826182015815, 'magnitude_percentage_ratio_40_5': 0.3000000708214784, 'magnitude_percentage_ratio_20_10': 0.9000000946633355, 'maximum_slope': 0.3086286395683375, 'median_absolute_deviation': 0.0034275933644742906, 'median_buffer_range_percentage_10': 0.6666666666666666, 'percent_amplitude': 0.576892665234908, 'mean_variance': 0.02053188696400945, 'anderson_darling_normal': nan, 'chi2': 47.38241821499339, 'skew': 1.7318456770684931, 'stetson_K': 0.7357790097450518}",
         "{'mean': 15.48563679801859, 'weighted_mean': 15.487252523388227, 'standard_deviation': 0.02526853297623592, 'median': 15.48563679801859, 'amplitude': 0.01786755101813231, 'beyond_1_std': 0.0, 'cusum': 0.35355339059329133, 'inter_percentile_range_10': 0.03573510203626462, 'kurtosis': nan, 'linear_trend': nan, 'linear_trend_sigma': nan, 'linear_trend_noise': nan, 'linear_fit_slope': nan, 'linear_fit_slope_sigma': nan, 'linear_fit_reduced_chi2': nan, 'magnitude_percentage_ratio_40_5': 0.4000000357627853, 'magnitude_percentage_ratio_20_10': 1.0, 'maximum_slope': 0.005105791240536596, 'median_absolute_deviation': 0.01786755101813231, 'median_buffer_range_percentage_10': 0.0, 'percent_amplitude': 0.0178675510181332, 'mean_variance': 0.0016317399991887364, 'anderson_darling_normal': nan, 'chi2': 1.6737798414129599, 'skew': nan, 'stetson_K': 0.9989752257890339}",
         "Unknown"
        ],
        [
         "22",
         "ZTF18abvfirx",
         "2570159581515010007",
         "{'mean': 17.773131893082386, 'weighted_mean': 17.773131893082386, 'standard_deviation': nan, 'median': 17.773131893082386, 'amplitude': 0.0, 'beyond_1_std': nan, 'cusum': nan, 'inter_percentile_range_10': 0.0, 'kurtosis': nan, 'linear_trend': nan, 'linear_trend_sigma': nan, 'linear_trend_noise': nan, 'linear_fit_slope': nan, 'linear_fit_slope_sigma': nan, 'linear_fit_reduced_chi2': nan, 'magnitude_percentage_ratio_40_5': nan, 'magnitude_percentage_ratio_20_10': nan, 'maximum_slope': nan, 'median_absolute_deviation': 0.0, 'median_buffer_range_percentage_10': 0.0, 'percent_amplitude': 0.0, 'mean_variance': nan, 'anderson_darling_normal': nan, 'chi2': nan, 'skew': nan, 'stetson_K': nan}",
         "{'mean': 16.821297395127623, 'weighted_mean': 16.62868688072963, 'standard_deviation': 0.48815635255770073, 'median': 16.62341921197892, 'amplitude': 0.5698026546400445, 'beyond_1_std': 0.2, 'cusum': 0.35701367713333604, 'inter_percentile_range_10': 1.139605309280089, 'kurtosis': 4.917337964614227, 'linear_trend': 0.023755768040911156, 'linear_trend_sigma': 0.019542323573472666, 'linear_trend_noise': 0.4613829382173664, 'linear_fit_slope': 0.007312220703511581, 'linear_fit_slope_sigma': 0.0014267082123787709, 'linear_fit_reduced_chi2': 61.64916957025735, 'magnitude_percentage_ratio_40_5': 0.01561257308722481, 'magnitude_percentage_ratio_20_10': 0.5156125730872233, 'maximum_slope': 0.5526325857349039, 'median_absolute_deviation': 0.02256471403173066, 'median_buffer_range_percentage_10': 0.6, 'percent_amplitude': 1.0692706553618123, 'mean_variance': 0.029020136859306572, 'anderson_darling_normal': 0.8235843960011279, 'chi2': 52.80389616515893, 'skew': 2.2121650124233443, 'stetson_K': 0.5811108988208201}",
         "EB*"
        ],
        [
         "23",
         "ZTF17aaaebxt",
         "2570190385115015029",
         "{'mean': 17.6324884229238, 'weighted_mean': 17.6324884229238, 'standard_deviation': nan, 'median': 17.6324884229238, 'amplitude': 0.0, 'beyond_1_std': nan, 'cusum': nan, 'inter_percentile_range_10': 0.0, 'kurtosis': nan, 'linear_trend': nan, 'linear_trend_sigma': nan, 'linear_trend_noise': nan, 'linear_fit_slope': nan, 'linear_fit_slope_sigma': nan, 'linear_fit_reduced_chi2': nan, 'magnitude_percentage_ratio_40_5': nan, 'magnitude_percentage_ratio_20_10': nan, 'maximum_slope': nan, 'median_absolute_deviation': 0.0, 'median_buffer_range_percentage_10': 0.0, 'percent_amplitude': 0.0, 'mean_variance': nan, 'anderson_darling_normal': nan, 'chi2': nan, 'skew': nan, 'stetson_K': nan}",
         "{'mean': 14.872364627603957, 'weighted_mean': 14.68080802651279, 'standard_deviation': 0.3219084137189305, 'median': 14.961199599423097, 'amplitude': 0.382496621762872, 'beyond_1_std': 0.4, 'cusum': 0.3993652174290638, 'inter_percentile_range_10': 0.764993243525744, 'kurtosis': -1.51042509842578, 'linear_trend': -0.02475301617416897, 'linear_trend_sigma': 0.018356925523784873, 'linear_trend_noise': 0.2933034264398546, 'linear_fit_slope': 0.027517760976639934, 'linear_fit_slope_sigma': 0.006183409497767519, 'linear_fit_reduced_chi2': 69.22154180383144, 'magnitude_percentage_ratio_40_5': 0.28219989175083493, 'magnitude_percentage_ratio_20_10': 0.7821998917508349, 'maximum_slope': 76.37202137109006, 'median_absolute_deviation': 0.3400440676789316, 'median_buffer_range_percentage_10': 0.4, 'percent_amplitude': 0.42494917584681247, 'mean_variance': 0.021644736514962126, 'anderson_darling_normal': 0.24972163618628562, 'chi2': 56.867353039828394, 'skew': 0.18397441374415835, 'stetson_K': 0.9682189974011934}",
         "LPV*"
        ],
        [
         "24",
         "ZTF23abhaasr",
         "2570209890115015001",
         "{'mean': 19.093407445843145, 'weighted_mean': 19.093407445843145, 'standard_deviation': nan, 'median': 19.093407445843145, 'amplitude': 0.0, 'beyond_1_std': nan, 'cusum': nan, 'inter_percentile_range_10': 0.0, 'kurtosis': nan, 'linear_trend': nan, 'linear_trend_sigma': nan, 'linear_trend_noise': nan, 'linear_fit_slope': nan, 'linear_fit_slope_sigma': nan, 'linear_fit_reduced_chi2': nan, 'magnitude_percentage_ratio_40_5': nan, 'magnitude_percentage_ratio_20_10': nan, 'maximum_slope': nan, 'median_absolute_deviation': 0.0, 'median_buffer_range_percentage_10': 0.0, 'percent_amplitude': 0.0, 'mean_variance': nan, 'anderson_darling_normal': nan, 'chi2': nan, 'skew': nan, 'stetson_K': nan}",
         "{'mean': 18.757838353383132, 'weighted_mean': 18.757838353383132, 'standard_deviation': nan, 'median': 18.757838353383132, 'amplitude': 0.0, 'beyond_1_std': nan, 'cusum': nan, 'inter_percentile_range_10': 0.0, 'kurtosis': nan, 'linear_trend': nan, 'linear_trend_sigma': nan, 'linear_trend_noise': nan, 'linear_fit_slope': nan, 'linear_fit_slope_sigma': nan, 'linear_fit_reduced_chi2': nan, 'magnitude_percentage_ratio_40_5': nan, 'magnitude_percentage_ratio_20_10': nan, 'maximum_slope': nan, 'median_absolute_deviation': 0.0, 'median_buffer_range_percentage_10': 0.0, 'percent_amplitude': 0.0, 'mean_variance': nan, 'anderson_darling_normal': nan, 'chi2': nan, 'skew': nan, 'stetson_K': nan}",
         "Unknown"
        ],
        [
         "25",
         "ZTF21absktbk",
         "2570210892015015000",
         "{'mean': 19.386218070207363, 'weighted_mean': 19.390304262625826, 'standard_deviation': 0.06465197647422866, 'median': 19.386171599319397, 'amplitude': 0.07501605192092065, 'beyond_1_std': 0.4, 'cusum': 0.23462786848603873, 'inter_percentile_range_10': 0.1500321038418413, 'kurtosis': -2.396546083461935, 'linear_trend': 0.0009747038083440224, 'linear_trend_sigma': 0.003120863389987132, 'linear_trend_noise': 0.07346883200345684, 'linear_fit_slope': 0.0017333085529249862, 'linear_fit_slope_sigma': 0.005299252752672045, 'linear_fit_reduced_chi2': 0.3098792769985674, 'magnitude_percentage_ratio_40_5': 0.34831910608929006, 'magnitude_percentage_ratio_20_10': 0.8483191060892782, 'maximum_slope': 0.0544227300519316, 'median_absolute_deviation': 0.05301906720979943, 'median_buffer_range_percentage_10': 0.2, 'percent_amplitude': 0.07589224805575512, 'mean_variance': 0.0033349452812348928, 'anderson_darling_normal': 0.18500783921493247, 'chi2': 0.2591556842652849, 'skew': 0.02281963986179413, 'stetson_K': 0.8693012810236974}",
         "{'mean': 19.13328335173862, 'weighted_mean': 19.133736614510614, 'standard_deviation': 0.15876163941613894, 'median': 19.08220976404188, 'amplitude': 0.16935439189187385, 'beyond_1_std': 0.2, 'cusum': 0.42354957899345363, 'inter_percentile_range_10': 0.3387087837837477, 'kurtosis': -2.877551411811554, 'linear_trend': -0.011763304497404899, 'linear_trend_sigma': 0.003380056336581568, 'linear_trend_noise': 0.08168016846078473, 'linear_fit_slope': -0.011140131300636564, 'linear_fit_slope_sigma': 0.0038015173834526, 'linear_fit_reduced_chi2': 0.6090559694096257, 'magnitude_percentage_ratio_40_5': 0.4172491198960935, 'magnitude_percentage_ratio_20_10': 0.9172491198960883, 'maximum_slope': 0.042273694097608665, 'median_absolute_deviation': 0.09756681782686627, 'median_buffer_range_percentage_10': 0.2, 'percent_amplitude': 0.24114196595688142, 'mean_variance': 0.008297668335200422, 'anderson_darling_normal': 0.31414789720694236, 'chi2': 2.6036665347061403, 'skew': 0.4193403487695198, 'stetson_K': 0.9478359981686747}",
         "Unknown"
        ],
        [
         "26",
         "ZTF17aaaecbe",
         "2570213531615010015",
         "{'mean': 15.3331032660168, 'weighted_mean': 15.329133948067604, 'standard_deviation': 0.03833998269456856, 'median': 15.35517274841467, 'amplitude': 0.033236391697014867, 'beyond_1_std': 0.3333333333333333, 'cusum': 0.38489960770744186, 'inter_percentile_range_10': 0.06647278339402973, 'kurtosis': nan, 'linear_trend': -0.0066531066803206034, 'linear_trend_sigma': 1.3144519171976907e-05, 'linear_trend_noise': 0.00010712387811473323, 'linear_fit_slope': -0.00665175998723283, 'linear_fit_slope_sigma': 0.002885688972777972, 'linear_fit_reduced_chi2': 1.7042267830059363e-05, 'magnitude_percentage_ratio_40_5': 0.29999995255331763, 'magnitude_percentage_ratio_20_10': 0.8999999763951756, 'maximum_slope': 0.0454952036109375, 'median_absolute_deviation': 0.00013216810020999503, 'median_buffer_range_percentage_10': 0.6666666666666666, 'percent_amplitude': 0.06634061529381974, 'mean_variance': 0.0025004711720387728, 'anderson_darling_normal': nan, 'chi2': 2.6567182903107085, 'skew': -1.7320276516463784, 'stetson_K': 0.959749994099394}",
         "{'mean': 14.641829049420059, 'weighted_mean': 14.650201777906098, 'standard_deviation': 0.033641741291470156, 'median': 14.648510490350324, 'amplitude': 0.03314039102732114, 'beyond_1_std': 0.3333333333333333, 'cusum': 0.36146673836313953, 'inter_percentile_range_10': 0.06628078205464227, 'kurtosis': nan, 'linear_trend': -0.005494345823465048, 'linear_trend_sigma': 0.0020107513501172562, 'linear_trend_noise': 0.01635092421959749, 'linear_fit_slope': -0.005867281903013109, 'linear_fit_slope_sigma': 0.003637880273896069, 'linear_fit_reduced_chi2': 0.3929497721468558, 'magnitude_percentage_ratio_40_5': 0.29999999389555526, 'magnitude_percentage_ratio_20_10': 0.9000000177374401, 'maximum_slope': 23.22506735588033, 'median_absolute_deviation': 0.023118229631924336, 'median_buffer_range_percentage_10': 0.3333333333333333, 'percent_amplitude': 0.04316255242271794, 'mean_variance': 0.0022976460917499, 'anderson_darling_normal': nan, 'chi2': 1.4970851191903136, 'skew': -0.8584732587634053, 'stetson_K': 0.8229933598912211}",
         "Unknown"
        ],
        [
         "27",
         "ZTF18aabfrhx",
         "2570213535115015004",
         "{'mean': 15.772162757068742, 'weighted_mean': 15.792408611550643, 'standard_deviation': 0.07562201186649765, 'median': 15.792058292674053, 'amplitude': 0.11065119362456688, 'beyond_1_std': 0.2, 'cusum': 0.41650626316553985, 'inter_percentile_range_10': 0.18519870819786277, 'kurtosis': -0.2624749051179638, 'linear_trend': 0.007341067992737259, 'linear_trend_sigma': 0.0012610040423721445, 'linear_trend_noise': 0.03505166516481096, 'linear_fit_slope': 0.006615497694348097, 'linear_fit_slope_sigma': 0.001147766485283023, 'linear_fit_reduced_chi2': 1.5894118109594852, 'magnitude_percentage_ratio_40_5': 0.36476768910236296, 'magnitude_percentage_ratio_20_10': 0.6673656795134794, 'maximum_slope': 3.240738944591176, 'median_absolute_deviation': 0.04715155655197467, 'median_buffer_range_percentage_10': 0.0, 'percent_amplitude': 0.16739355855590077, 'mean_variance': 0.004794650742023665, 'anderson_darling_normal': 0.6913670727738132, 'chi2': 5.1040774483915845, 'skew': -0.8389289511291709, 'stetson_K': 0.8923368058009394}",
         "{'mean': 13.15764519710514, 'weighted_mean': 13.162225847679379, 'standard_deviation': 0.023509549132098934, 'median': 13.156612792322651, 'amplitude': 0.021704961787936128, 'beyond_1_std': 0.0, 'cusum': 0.4313983404823727, 'inter_percentile_range_10': 0.043409923575872256, 'kurtosis': -5.778010479171023, 'linear_trend': 0.002596164944092425, 'linear_trend_sigma': 0.0012953326865215696, 'linear_trend_noise': 0.016600259851490183, 'linear_fit_slope': 0.0023443901210916805, 'linear_fit_slope_sigma': 0.001973224525993011, 'linear_fit_reduced_chi2': 0.44012515905146965, 'magnitude_percentage_ratio_40_5': 0.6952497592816403, 'magnitude_percentage_ratio_20_10': 0.9607186415970224, 'maximum_slope': 0.00716399682993379, 'median_absolute_deviation': 0.019251556179664675, 'median_buffer_range_percentage_10': 0.0, 'percent_amplitude': 0.023769771352913693, 'mean_variance': 0.0017867596199714637, 'anderson_darling_normal': 0.2093208008378046, 'chi2': 0.7639448001329265, 'skew': 0.036642423167312296, 'stetson_K': 0.9905361032265617}",
         "LPV*"
        ],
        [
         "28",
         "ZTF22abgnocm",
         "2570215692515015018",
         "{'mean': 18.931487624502005, 'weighted_mean': 18.927631995117814, 'standard_deviation': 0.04783946987113854, 'median': 18.934109481656172, 'amplitude': 0.05760905522892479, 'beyond_1_std': 0.5, 'cusum': 0.3534089025250532, 'inter_percentile_range_10': 0.11521811045784958, 'kurtosis': 0.71173822808273, 'linear_trend': -0.0015130591582564821, 'linear_trend_sigma': 0.0022334162327292463, 'linear_trend_noise': 0.05284105433215376, 'linear_fit_slope': -0.0014709766535819732, 'linear_fit_slope_sigma': 0.0018761198786730918, 'linear_fit_reduced_chi2': 0.6837521317170191, 'magnitude_percentage_ratio_40_5': 0.13912429294523646, 'magnitude_percentage_ratio_20_10': 0.7521716172490118, 'maximum_slope': 0.027490163330541655, 'median_absolute_deviation': 0.031191931934912986, 'median_buffer_range_percentage_10': 0.0, 'percent_amplitude': 0.06285276953725827, 'mean_variance': 0.0025269789051982627, 'anderson_darling_normal': 0.07711321871584037, 'chi2': 0.6607475744318889, 'skew': -0.3082863812424386, 'stetson_K': 0.8380980822857721}",
         "{'mean': 18.695314134319908, 'weighted_mean': 18.69568160958222, 'standard_deviation': 0.001983496457388002, 'median': 18.695314134319908, 'amplitude': 0.0014025437954785502, 'beyond_1_std': 0.0, 'cusum': 0.3535533905932738, 'inter_percentile_range_10': 0.0028050875909571005, 'kurtosis': nan, 'linear_trend': nan, 'linear_trend_sigma': nan, 'linear_trend_noise': nan, 'linear_fit_slope': nan, 'linear_fit_slope_sigma': nan, 'linear_fit_reduced_chi2': nan, 'magnitude_percentage_ratio_40_5': 0.400000035762361, 'magnitude_percentage_ratio_20_10': 1.0, 'maximum_slope': 0.000255649508281799, 'median_absolute_deviation': 0.0014025437954785502, 'median_buffer_range_percentage_10': 0.0, 'percent_amplitude': 0.0014025437954785502, 'mean_variance': 0.00010609591489809738, 'anderson_darling_normal': nan, 'chi2': 0.0009962475444509123, 'skew': nan, 'stetson_K': 0.9912280696713782}",
         "Unknown"
        ],
        [
         "29",
         "ZTF18aacosbf",
         "2570215694815015007",
         "{'mean': 17.21279862509992, 'weighted_mean': 17.21624114190942, 'standard_deviation': 0.023644794151153555, 'median': 17.220725714533486, 'amplitude': 0.03443723837797208, 'beyond_1_std': 0.18181818181818182, 'cusum': 0.32720994131108444, 'inter_percentile_range_10': 0.06427073453385646, 'kurtosis': 0.29204578960025884, 'linear_trend': -0.0009317512990959196, 'linear_trend_sigma': 0.0005373693199690749, 'linear_trend_noise': 0.021578844732187664, 'linear_fit_slope': -0.0006440005989168495, 'linear_fit_slope_sigma': 0.0007195478510211046, 'linear_fit_reduced_chi2': 0.5641884984671074, 'magnitude_percentage_ratio_40_5': 0.06667070036547391, 'magnitude_percentage_ratio_20_10': 0.6634043788992564, 'maximum_slope': 17.983887509540107, 'median_absolute_deviation': 0.012705159139340338, 'median_buffer_range_percentage_10': 0.2727272727272727, 'percent_amplitude': 0.05408401607872548, 'mean_variance': 0.0013736751742784241, 'anderson_darling_normal': 0.822947583684356, 'chi2': 0.5878734485415634, 'skew': -1.1620961529807725, 'stetson_K': 0.7932838569293265}",
         "{'mean': 17.042404852199603, 'weighted_mean': 17.043287778133607, 'standard_deviation': 0.030678678029030175, 'median': 17.037512853149007, 'amplitude': 0.036939835966471435, 'beyond_1_std': 0.4, 'cusum': 0.36913846165814557, 'inter_percentile_range_10': 0.07387967193294287, 'kurtosis': -1.7206965848541218, 'linear_trend': -0.005977851494945025, 'linear_trend_sigma': 0.001241254275077345, 'linear_trend_noise': 0.011988609610732715, 'linear_fit_slope': -0.005978757800086705, 'linear_fit_slope_sigma': 0.00239492840543006, 'linear_fit_reduced_chi2': 0.3218150016080323, 'magnitude_percentage_ratio_40_5': 0.29953521782861325, 'magnitude_percentage_ratio_20_10': 0.7995352178286133, 'maximum_slope': 17.89418512835975, 'median_absolute_deviation': 0.025681730066516195, 'median_buffer_range_percentage_10': 0.2, 'percent_amplitude': 0.04561766715199056, 'mean_variance': 0.0018001378499743002, 'anderson_darling_normal': 0.16595704947918596, 'chi2': 1.7993948958776058, 'skew': 0.3902789050827194, 'stetson_K': 0.9086549048369447}",
         "AGN_Candidate"
        ],
        [
         "30",
         "ZTF18aabpxmt",
         "2570216162115010020",
         "{'mean': 18.871661343003346, 'weighted_mean': 18.85634712858139, 'standard_deviation': 0.0962831566915375, 'median': 18.918045734551804, 'amplitude': 0.08750321381524628, 'beyond_1_std': 0.3333333333333333, 'cusum': 0.38322870926812275, 'inter_percentile_range_10': 0.17500642763049257, 'kurtosis': nan, 'linear_trend': -0.0035889326044037067, 'linear_trend_sigma': 0.004497130140054852, 'linear_trend_noise': 0.10642814494303288, 'linear_fit_slope': -0.004327722303946001, 'linear_fit_slope_sigma': 0.0033368769249334813, 'linear_fit_reduced_chi2': 1.580073731587008, 'magnitude_percentage_ratio_40_5': 0.29999996452738775, 'magnitude_percentage_ratio_20_10': 0.8999999883692446, 'maximum_slope': 0.08278553172218212, 'median_absolute_deviation': 0.01792662649256016, 'median_buffer_range_percentage_10': 0.3333333333333333, 'percent_amplitude': 0.1570798011379324, 'mean_variance': 0.0051019968481595505, 'anderson_darling_normal': nan, 'chi2': 1.6310608841459835, 'skew': -1.6647476584855345, 'stetson_K': 0.9603331729389682}",
         "{'mean': 18.289186469860855, 'weighted_mean': 18.289186469860855, 'standard_deviation': nan, 'median': 18.289186469860855, 'amplitude': 0.0, 'beyond_1_std': nan, 'cusum': nan, 'inter_percentile_range_10': 0.0, 'kurtosis': nan, 'linear_trend': nan, 'linear_trend_sigma': nan, 'linear_trend_noise': nan, 'linear_fit_slope': nan, 'linear_fit_slope_sigma': nan, 'linear_fit_reduced_chi2': nan, 'magnitude_percentage_ratio_40_5': nan, 'magnitude_percentage_ratio_20_10': nan, 'maximum_slope': nan, 'median_absolute_deviation': 0.0, 'median_buffer_range_percentage_10': 0.0, 'percent_amplitude': 0.0, 'mean_variance': nan, 'anderson_darling_normal': nan, 'chi2': nan, 'skew': nan, 'stetson_K': nan}",
         "EB*_Candidate"
        ],
        [
         "31",
         "ZTF18aaalfwi",
         "2570216163015010013",
         "{'mean': 17.378882258313975, 'weighted_mean': 17.348103761715578, 'standard_deviation': 0.17623109407020926, 'median': 17.479183224700133, 'amplitude': 0.2042764738970302, 'beyond_1_std': 0.36363636363636365, 'cusum': 0.2501539185993736, 'inter_percentile_range_10': 0.3978209681654974, 'kurtosis': -1.8644244915622838, 'linear_trend': 0.002454689783638996, 'linear_trend_sigma': 0.0042029140291931005, 'linear_trend_noise': 0.18234058122549882, 'linear_fit_slope': 0.0003068759260871002, 'linear_fit_slope_sigma': 0.0005809154928882161, 'linear_fit_reduced_chi2': 52.638064333252984, 'magnitude_percentage_ratio_40_5': 0.30825306675120023, 'magnitude_percentage_ratio_20_10': 0.8938372166249339, 'maximum_slope': 27.93164998578276, 'median_absolute_deviation': 0.0608732187439287, 'median_buffer_range_percentage_10': 0.09090909090909091, 'percent_amplitude': 0.34767972905013167, 'mean_variance': 0.010140530987595656, 'anderson_darling_normal': 1.2531591465150753, 'chi2': 47.402164024838115, 'skew': -0.5536236904669287, 'stetson_K': 0.9658853051319618}",
         "{'mean': 17.088450574454583, 'weighted_mean': 17.086906118415705, 'standard_deviation': 0.03361720719587922, 'median': 17.088450574454583, 'amplitude': 0.0237709551727594, 'beyond_1_std': 0.0, 'cusum': 0.35355339059324736, 'inter_percentile_range_10': 0.0475419103455188, 'kurtosis': nan, 'linear_trend': nan, 'linear_trend_sigma': nan, 'linear_trend_noise': nan, 'linear_fit_slope': nan, 'linear_fit_slope_sigma': nan, 'linear_fit_reduced_chi2': nan, 'magnitude_percentage_ratio_40_5': 0.40000003576274656, 'magnitude_percentage_ratio_20_10': 1.0, 'maximum_slope': 0.005884624740430143, 'median_absolute_deviation': 0.0237709551727594, 'median_buffer_range_percentage_10': 0.0, 'percent_amplitude': 0.023770955172761177, 'mean_variance': 0.0019672472380926898, 'anderson_darling_normal': nan, 'chi2': 1.977411429248758, 'skew': nan, 'stetson_K': 0.9994716257301484}",
         "PulsV*"
        ],
        [
         "32",
         "ZTF18aaapikj",
         "2570216734315010005",
         "{'mean': 22.189538405446473, 'weighted_mean': 21.46499929309258, 'standard_deviation': 0.9169184910755418, 'median': 22.185586705194304, 'amplitude': 0.8281103464849302, 'beyond_1_std': 0.0, 'cusum': 0.432591103903281, 'inter_percentile_range_10': 1.6562206929698604, 'kurtosis': -5.941722326534481, 'linear_trend': 0.057628166383514055, 'linear_trend_sigma': 0.030431937460646964, 'linear_trend_noise': 0.6719560315157704, 'linear_fit_slope': 0.010314421396933612, 'linear_fit_slope_sigma': 0.1114457419000288, 'linear_fit_reduced_chi2': 0.048484459792060106, 'magnitude_percentage_ratio_40_5': 0.7327456815618519, 'magnitude_percentage_ratio_20_10': 0.9747796078061666, 'maximum_slope': 0.19535564652015436, 'median_absolute_deviation': 0.7893498642352252, 'median_buffer_range_percentage_10': 0.0, 'percent_amplitude': 0.8360137469892734, 'mean_variance': 0.04132210748694448, 'anderson_darling_normal': 0.22379575589815784, 'chi2': 0.03517820607396952, 'skew': 0.002264847277106689, 'stetson_K': 0.8291280833581662}",
         "{'mean': 19.396100034805123, 'weighted_mean': 19.00984915994301, 'standard_deviation': 0.9337239694687193, 'median': 19.2970326745265, 'amplitude': 1.1770417875862247, 'beyond_1_std': 0.2, 'cusum': 0.3327165299270525, 'inter_percentile_range_10': 2.3540835751724494, 'kurtosis': 2.5451229424418003, 'linear_trend': 4.0259223682311086e-05, 'linear_trend_sigma': 0.05620976151464889, 'linear_trend_noise': 1.0781714780616154, 'linear_fit_slope': -0.03929726769512828, 'linear_fit_slope_sigma': 0.07413302660192625, 'linear_fit_reduced_chi2': 0.07892201007603973, 'magnitude_percentage_ratio_40_5': 0.13764185789442981, 'magnitude_percentage_ratio_20_10': 0.6376418578944291, 'maximum_slope': 0.76216817083755, 'median_absolute_deviation': 0.5517046040780613, 'median_buffer_range_percentage_10': 0.4, 'percent_amplitude': 1.6523943554353515, 'mean_variance': 0.048139779017081184, 'anderson_darling_normal': 0.347158396671283, 'chi2': 0.12944068696747263, 'skew': 1.5139552407239123, 'stetson_K': 0.939602076547765}",
         "Mira"
        ],
        [
         "33",
         "ZTF17aadavzf",
         "2570216736215015001",
         "{'mean': 16.192220622572695, 'weighted_mean': 16.191715529264105, 'standard_deviation': 0.007826519235989019, 'median': 16.192491543313864, 'amplitude': 0.00782300164996208, 'beyond_1_std': 0.3333333333333333, 'cusum': 0.3389528082058446, 'inter_percentile_range_10': 0.01564600329992416, 'kurtosis': nan, 'linear_trend': -0.0004264242794293005, 'linear_trend_sigma': 0.00021548972404671378, 'linear_trend_noise': 0.004992091012276262, 'linear_fit_slope': -0.0003862780122878816, 'linear_fit_slope_sigma': 0.0009137103430208699, 'linear_fit_reduced_chi2': 0.055302827994667, 'magnitude_percentage_ratio_40_5': 0.30000000882449296, 'magnitude_percentage_ratio_20_10': 0.9000000326665437, 'maximum_slope': 0.008807829547518081, 'median_absolute_deviation': 0.007416620538208463, 'median_buffer_range_percentage_10': 0.3333333333333333, 'percent_amplitude': 0.008229382761715698, 'mean_variance': 0.00048335058040640166, 'anderson_darling_normal': nan, 'chi2': 0.11701343196989013, 'skew': -0.15558416977658387, 'stetson_K': 0.8656243274845548}",
         "{'mean': 15.440788213066245, 'weighted_mean': 15.440595374763564, 'standard_deviation': 0.007308418313466846, 'median': 15.440788213066245, 'amplitude': 0.005167832149200358, 'beyond_1_std': 0.0, 'cusum': 0.3535533905933345, 'inter_percentile_range_10': 0.010335664298400715, 'kurtosis': nan, 'linear_trend': nan, 'linear_trend_sigma': nan, 'linear_trend_noise': nan, 'linear_fit_slope': nan, 'linear_fit_slope_sigma': nan, 'linear_fit_reduced_chi2': nan, 'magnitude_percentage_ratio_40_5': 0.4000000357628544, 'magnitude_percentage_ratio_20_10': 1.0, 'maximum_slope': 0.0005478485738568574, 'median_absolute_deviation': 0.005167832149200358, 'median_buffer_range_percentage_10': 0.0, 'percent_amplitude': 0.005167832149201246, 'mean_variance': 0.0004733189920500525, 'anderson_darling_normal': nan, 'chi2': 0.21529300975698085, 'skew': nan, 'stetson_K': 0.9998258718897421}",
         "V*"
        ],
        [
         "34",
         "ZTF17aaanrlx",
         "2570217672615010017",
         "{'mean': 18.00544289928864, 'weighted_mean': 17.977934688027688, 'standard_deviation': 0.11945594701303923, 'median': 17.944346530002264, 'amplitude': 0.10709877927315148, 'beyond_1_std': 0.3333333333333333, 'cusum': 0.38409407361224146, 'inter_percentile_range_10': 0.21419755854630296, 'kurtosis': nan, 'linear_trend': 0.015933175054917356, 'linear_trend_sigma': 0.017108384257485548, 'linear_trend_noise': 0.12362653850042472, 'linear_fit_slope': 0.011716458614729182, 'linear_fit_slope_sigma': 0.0066505603090216536, 'linear_fit_reduced_chi2': 5.7522940135247325, 'magnitude_percentage_ratio_40_5': 0.3000000629246835, 'magnitude_percentage_ratio_20_10': 0.9000000867665666, 'maximum_slope': 0.07306052404472267, 'median_absolute_deviation': 0.0154542253435892, 'median_buffer_range_percentage_10': 0.3333333333333333, 'percent_amplitude': 0.19874333320271376, 'mean_variance': 0.006634435358308165, 'anderson_darling_normal': nan, 'chi2': 4.427984569300283, 'skew': 1.6994946224484833, 'stetson_K': 0.8798180921511211}",
         "{'mean': 16.317171503949364, 'weighted_mean': 16.317171503949364, 'standard_deviation': nan, 'median': 16.317171503949364, 'amplitude': 0.0, 'beyond_1_std': nan, 'cusum': nan, 'inter_percentile_range_10': 0.0, 'kurtosis': nan, 'linear_trend': nan, 'linear_trend_sigma': nan, 'linear_trend_noise': nan, 'linear_fit_slope': nan, 'linear_fit_slope_sigma': nan, 'linear_fit_reduced_chi2': nan, 'magnitude_percentage_ratio_40_5': nan, 'magnitude_percentage_ratio_20_10': nan, 'maximum_slope': nan, 'median_absolute_deviation': 0.0, 'median_buffer_range_percentage_10': 0.0, 'percent_amplitude': 0.0, 'mean_variance': nan, 'anderson_darling_normal': nan, 'chi2': nan, 'skew': nan, 'stetson_K': nan}",
         "Em*"
        ],
        [
         "35",
         "ZTF18aabgopq",
         "2570217674215010004",
         "{'mean': 16.828894908042912, 'weighted_mean': 16.815777350724428, 'standard_deviation': 0.06600429700063766, 'median': 16.825868900354727, 'amplitude': 0.0790122553861643, 'beyond_1_std': 0.5, 'cusum': 0.3619201516415456, 'inter_percentile_range_10': 0.1580245107723286, 'kurtosis': 0.3419285851509457, 'linear_trend': -0.009021794905684664, 'linear_trend_sigma': 0.0014242288104268299, 'linear_trend_noise': 0.017613979579127054, 'linear_fit_slope': -0.008994124322154845, 'linear_fit_slope_sigma': 0.0036042280181081995, 'linear_fit_reduced_chi2': 0.19321585557354531, 'magnitude_percentage_ratio_40_5': 0.16747667034409824, 'magnitude_percentage_ratio_20_10': 0.7628037621846638, 'maximum_slope': 0.019244045763276763, 'median_absolute_deviation': 0.04475056267074429, 'median_buffer_range_percentage_10': 0.0, 'percent_amplitude': 0.08506427076253331, 'mean_variance': 0.003922081477203397, 'anderson_darling_normal': 0.07214017641215179, 'chi2': 2.204546146552349, 'skew': 0.25126927452036607, 'stetson_K': 0.8452555965355638}",
         "{'mean': 14.560853456142414, 'weighted_mean': 14.560694137972506, 'standard_deviation': 0.0036025818100327484, 'median': 14.560853456142414, 'amplitude': 0.002547410027653463, 'beyond_1_std': 0.0, 'cusum': 0.353553390593397, 'inter_percentile_range_10': 0.005094820055306926, 'kurtosis': nan, 'linear_trend': nan, 'linear_trend_sigma': nan, 'linear_trend_noise': nan, 'linear_fit_slope': nan, 'linear_fit_slope_sigma': nan, 'linear_fit_reduced_chi2': nan, 'magnitude_percentage_ratio_40_5': 0.40000003576303933, 'magnitude_percentage_ratio_20_10': 1.0, 'maximum_slope': 0.000878126363968037, 'median_absolute_deviation': 0.002547410027653463, 'median_buffer_range_percentage_10': 0.0, 'percent_amplitude': 0.002547410027654351, 'mean_variance': 0.00024741556673747164, 'anderson_darling_normal': nan, 'chi2': 0.02578873662227167, 'skew': nan, 'stetson_K': 0.9995104753848236}",
         "LP*_Candidate"
        ],
        [
         "36",
         "ZTF18aaafgtb",
         "2570217674715010002",
         "{'mean': 16.251476267433784, 'weighted_mean': 16.251476267433784, 'standard_deviation': nan, 'median': 16.251476267433784, 'amplitude': 0.0, 'beyond_1_std': nan, 'cusum': nan, 'inter_percentile_range_10': 0.0, 'kurtosis': nan, 'linear_trend': nan, 'linear_trend_sigma': nan, 'linear_trend_noise': nan, 'linear_fit_slope': nan, 'linear_fit_slope_sigma': nan, 'linear_fit_reduced_chi2': nan, 'magnitude_percentage_ratio_40_5': nan, 'magnitude_percentage_ratio_20_10': nan, 'maximum_slope': nan, 'median_absolute_deviation': 0.0, 'median_buffer_range_percentage_10': 0.0, 'percent_amplitude': 0.0, 'mean_variance': nan, 'anderson_darling_normal': nan, 'chi2': nan, 'skew': nan, 'stetson_K': nan}",
         "{'mean': 15.315628234260686, 'weighted_mean': 15.315628234260686, 'standard_deviation': nan, 'median': 15.315628234260686, 'amplitude': 0.0, 'beyond_1_std': nan, 'cusum': nan, 'inter_percentile_range_10': 0.0, 'kurtosis': nan, 'linear_trend': nan, 'linear_trend_sigma': nan, 'linear_trend_noise': nan, 'linear_fit_slope': nan, 'linear_fit_slope_sigma': nan, 'linear_fit_reduced_chi2': nan, 'magnitude_percentage_ratio_40_5': nan, 'magnitude_percentage_ratio_20_10': nan, 'maximum_slope': nan, 'median_absolute_deviation': 0.0, 'median_buffer_range_percentage_10': 0.0, 'percent_amplitude': 0.0, 'mean_variance': nan, 'anderson_darling_normal': nan, 'chi2': nan, 'skew': nan, 'stetson_K': nan}",
         "Unknown"
        ],
        [
         "37",
         "ZTF18accmvgc",
         "2570218143415015054",
         "{'mean': 16.71457332210451, 'weighted_mean': 16.714181672647875, 'standard_deviation': 0.026745756167918945, 'median': 16.706601703416986, 'amplitude': 0.034974047554250376, 'beyond_1_std': 0.4, 'cusum': 0.2987706415634874, 'inter_percentile_range_10': 0.06994809510850075, 'kurtosis': 0.3261224661786635, 'linear_trend': -0.00042244061365375677, 'linear_trend_sigma': 0.0013239960918736166, 'linear_trend_noise': 0.03037230922419522, 'linear_fit_slope': -0.0008035933366003419, 'linear_fit_slope_sigma': 0.001252117130120733, 'linear_fit_reduced_chi2': 1.0728645462599797, 'magnitude_percentage_ratio_40_5': 0.17504817703678763, 'magnitude_percentage_ratio_20_10': 0.6750481770367877, 'maximum_slope': 0.011820733368603127, 'median_absolute_deviation': 0.019221528474531624, 'median_buffer_range_percentage_10': 0.2, 'percent_amplitude': 0.04792585233447255, 'mean_variance': 0.0016001459117444838, 'anderson_darling_normal': 0.17365817627420022, 'chi2': 0.9076212768402641, 'skew': 0.7708242258960528, 'stetson_K': 0.8585875906552466}",
         "{'mean': 15.924626228039104, 'weighted_mean': 15.924175206854123, 'standard_deviation': 0.0075490237880599395, 'median': 15.924626228039104, 'amplitude': 0.005337965911875742, 'beyond_1_std': 0.0, 'cusum': 0.35355339059327373, 'inter_percentile_range_10': 0.010675931823751483, 'kurtosis': nan, 'linear_trend': nan, 'linear_trend_sigma': nan, 'linear_trend_noise': nan, 'linear_fit_slope': nan, 'linear_fit_slope_sigma': nan, 'linear_fit_reduced_chi2': nan, 'magnitude_percentage_ratio_40_5': 0.400000035762804, 'magnitude_percentage_ratio_20_10': 1.0, 'maximum_slope': 0.0005657153096751234, 'median_absolute_deviation': 0.005337965911875742, 'median_buffer_range_percentage_10': 0.0, 'percent_amplitude': 0.005337965911875742, 'mean_variance': 0.00047404715689766593, 'anderson_darling_normal': nan, 'chi2': 0.15223922456736938, 'skew': nan, 'stetson_K': 0.9991056165387027}",
         "Unknown"
        ],
        [
         "38",
         "ZTF18acbzhlv",
         "2570218144715010012",
         "{'mean': 15.255200585077313, 'weighted_mean': 15.245216019725737, 'standard_deviation': 0.10121223287759162, 'median': 15.305191931850473, 'amplitude': 0.09148532680119903, 'beyond_1_std': 0.3333333333333333, 'cusum': 0.38361963725819426, 'inter_percentile_range_10': 0.18297065360239806, 'kurtosis': nan, 'linear_trend': 0.0061537890608452574, 'linear_trend_sigma': 0.0033741511243484735, 'linear_trend_noise': 0.06881636254565789, 'linear_fit_slope': 0.006318974682700582, 'linear_fit_slope_sigma': 0.0007860350514967092, 'linear_fit_reduced_chi2': 15.238605432595364, 'magnitude_percentage_ratio_40_5': 0.299999963065287, 'magnitude_percentage_ratio_20_10': 0.8999999869071377, 'maximum_slope': 0.012895091505678602, 'median_absolute_deviation': 0.016498306641461014, 'median_buffer_range_percentage_10': 0.3333333333333333, 'percent_amplitude': 0.16647234696093705, 'mean_variance': 0.006634605183533133, 'anderson_darling_normal': nan, 'chi2': 39.932461230712185, 'skew': -1.6804186492103184, 'stetson_K': 0.9553224495344607}",
         "{'mean': 14.25839104185264, 'weighted_mean': 14.257663690851713, 'standard_deviation': 0.018002320156868538, 'median': 14.25839104185264, 'amplitude': 0.012729562660013016, 'beyond_1_std': 0.0, 'cusum': 0.3535533905932738, 'inter_percentile_range_10': 0.025459125320026033, 'kurtosis': nan, 'linear_trend': nan, 'linear_trend_sigma': nan, 'linear_trend_noise': nan, 'linear_fit_slope': nan, 'linear_fit_slope_sigma': nan, 'linear_fit_reduced_chi2': nan, 'magnitude_percentage_ratio_40_5': 0.4000000357627664, 'magnitude_percentage_ratio_20_10': 1.0, 'maximum_slope': 0.00438697436695707, 'median_absolute_deviation': 0.012729562660013016, 'median_buffer_range_percentage_10': 0.0, 'percent_amplitude': 0.012729562660013016, 'mean_variance': 0.0012625772504082926, 'anderson_darling_normal': nan, 'chi2': 1.2638837505383178, 'skew': nan, 'stetson_K': 0.9995914786520265}",
         "Unknown"
        ],
        [
         "39",
         "ZTF17aabwddp",
         "2570218145015010026",
         "{'mean': 17.55542151167758, 'weighted_mean': 17.411177094920944, 'standard_deviation': 0.29935935949677933, 'median': 17.718048347246544, 'amplitude': 0.26415981977382685, 'beyond_1_std': 0.3333333333333333, 'cusum': 0.38468062614226917, 'inter_percentile_range_10': 0.5283196395476537, 'kurtosis': nan, 'linear_trend': 0.05541237746973059, 'linear_trend_sigma': 0.018614323481726255, 'linear_trend_noise': 0.13481277369337358, 'linear_fit_slope': 0.05900607107383519, 'linear_fit_slope_sigma': 0.005062213082262331, 'linear_fit_reduced_chi2': 8.449968093973741, 'magnitude_percentage_ratio_40_5': 0.29999995687859626, 'magnitude_percentage_ratio_20_10': 0.899999980720455, 'maximum_slope': 0.07511925603218335, 'median_absolute_deviation': 0.02021956642037992, 'median_buffer_range_percentage_10': 0.6666666666666666, 'percent_amplitude': 0.5081000731272738, 'mean_variance': 0.017052245615273343, 'anderson_darling_normal': nan, 'chi2': 72.158259268798, 'skew': -1.7231656597111509, 'stetson_K': 0.9960083883464562}",
         "{'mean': 16.3650074327821, 'weighted_mean': 16.374295563948813, 'standard_deviation': 0.05297686841881006, 'median': 16.3650074327821, 'amplitude': 0.037460302904968046, 'beyond_1_std': 0.0, 'cusum': 0.3535533905932738, 'inter_percentile_range_10': 0.07492060580993609, 'kurtosis': nan, 'linear_trend': nan, 'linear_trend_sigma': nan, 'linear_trend_noise': nan, 'linear_fit_slope': nan, 'linear_fit_slope_sigma': nan, 'linear_fit_reduced_chi2': nan, 'magnitude_percentage_ratio_40_5': 0.4000000357627626, 'magnitude_percentage_ratio_20_10': 1.0, 'maximum_slope': 0.0039700266371617155, 'median_absolute_deviation': 0.037460302904968046, 'median_buffer_range_percentage_10': 0.0, 'percent_amplitude': 0.037460302904968046, 'mean_variance': 0.003237204054835179, 'anderson_darling_normal': nan, 'chi2': 7.874435723948175, 'skew': nan, 'stetson_K': 0.9921627542789507}",
         "EB*"
        ],
        [
         "40",
         "ZTF19aacrwfj",
         "2570218146315010043",
         "{'mean': 16.95375193432098, 'weighted_mean': 16.949393698778515, 'standard_deviation': 0.06229082890263497, 'median': 16.95375193432098, 'amplitude': 0.04404626752278418, 'beyond_1_std': 0.0, 'cusum': 0.35355339059327373, 'inter_percentile_range_10': 0.08809253504556835, 'kurtosis': nan, 'linear_trend': nan, 'linear_trend_sigma': nan, 'linear_trend_noise': nan, 'linear_fit_slope': nan, 'linear_fit_slope_sigma': nan, 'linear_fit_reduced_chi2': nan, 'magnitude_percentage_ratio_40_5': 0.4000000357627831, 'magnitude_percentage_ratio_20_10': 1.0, 'maximum_slope': 0.030047432933116444, 'median_absolute_deviation': 0.04404626752278418, 'median_buffer_range_percentage_10': 0.0, 'percent_amplitude': 0.04404626752278418, 'mean_variance': 0.0036741618695348573, 'anderson_darling_normal': nan, 'chi2': 7.629836458721956, 'skew': nan, 'stetson_K': 0.9987724286603131}",
         "{'mean': 16.013267982550484, 'weighted_mean': 16.013267982550484, 'standard_deviation': nan, 'median': 16.013267982550484, 'amplitude': 0.0, 'beyond_1_std': nan, 'cusum': nan, 'inter_percentile_range_10': 0.0, 'kurtosis': nan, 'linear_trend': nan, 'linear_trend_sigma': nan, 'linear_trend_noise': nan, 'linear_fit_slope': nan, 'linear_fit_slope_sigma': nan, 'linear_fit_reduced_chi2': nan, 'magnitude_percentage_ratio_40_5': nan, 'magnitude_percentage_ratio_20_10': nan, 'maximum_slope': nan, 'median_absolute_deviation': 0.0, 'median_buffer_range_percentage_10': 0.0, 'percent_amplitude': 0.0, 'mean_variance': nan, 'anderson_darling_normal': nan, 'chi2': nan, 'skew': nan, 'stetson_K': nan}",
         "Unknown"
        ],
        [
         "41",
         "ZTF19acefraf",
         "2570218620515010002",
         "{'mean': 17.00387634987851, 'weighted_mean': 17.004838215084717, 'standard_deviation': 0.004369133252613817, 'median': 17.00387634987851, 'amplitude': 0.003089443750830867, 'beyond_1_std': 0.0, 'cusum': 0.3535533905932738, 'inter_percentile_range_10': 0.006178887501661734, 'kurtosis': nan, 'linear_trend': nan, 'linear_trend_sigma': nan, 'linear_trend_noise': nan, 'linear_fit_slope': nan, 'linear_fit_slope_sigma': nan, 'linear_fit_reduced_chi2': nan, 'magnitude_percentage_ratio_40_5': 0.40000003576283394, 'magnitude_percentage_ratio_20_10': 1.0, 'maximum_slope': 0.0006200085470047148, 'median_absolute_deviation': 0.003089443750830867, 'median_buffer_range_percentage_10': 0.0, 'percent_amplitude': 0.003089443750830867, 'mean_variance': 0.0002569492486720555, 'anderson_darling_normal': nan, 'chi2': 0.029647458826578366, 'skew': nan, 'stetson_K': 0.9874965370718641}",
         "{'mean': 16.04468324657268, 'weighted_mean': 16.043645467694436, 'standard_deviation': 0.01789201993997339, 'median': 16.04468324657268, 'amplitude': 0.01265156862868011, 'beyond_1_std': 0.0, 'cusum': 0.3535533905932738, 'inter_percentile_range_10': 0.02530313725736022, 'kurtosis': nan, 'linear_trend': nan, 'linear_trend_sigma': nan, 'linear_trend_noise': nan, 'linear_fit_slope': nan, 'linear_fit_slope_sigma': nan, 'linear_fit_reduced_chi2': nan, 'magnitude_percentage_ratio_40_5': 0.4000000357627139, 'magnitude_percentage_ratio_20_10': 1.0, 'maximum_slope': 0.0013410429781619564, 'median_absolute_deviation': 0.01265156862868011, 'median_buffer_range_percentage_10': 0.0, 'percent_amplitude': 0.01265156862868011, 'mean_variance': 0.0011151369999027759, 'anderson_darling_normal': nan, 'chi2': 0.3070071093519443, 'skew': nan, 'stetson_K': 0.9991571576136424}",
         "Unknown"
        ],
        [
         "42",
         "ZTF17aabwdqd",
         "2570218621015010045",
         "{'mean': 16.126985119451753, 'weighted_mean': 15.974797942911291, 'standard_deviation': 0.30116470940123147, 'median': 16.17754221814591, 'amplitude': 0.3613556582196269, 'beyond_1_std': 0.5, 'cusum': 0.34193312169007506, 'inter_percentile_range_10': 0.7227113164392538, 'kurtosis': 1.9555955641307747, 'linear_trend': 0.07070322724154329, 'linear_trend_sigma': 0.0051143711386802074, 'linear_trend_noise': 0.03753678641658101, 'linear_fit_slope': 0.06841312592257891, 'linear_fit_slope_sigma': 0.0036047863120709915, 'linear_fit_reduced_chi2': 1.2859320270876076, 'magnitude_percentage_ratio_40_5': 0.04202425403844826, 'magnitude_percentage_ratio_20_10': 0.715759102458269, 'maximum_slope': 37.70409828256049, 'median_absolute_deviation': 0.139611793304125, 'median_buffer_range_percentage_10': 0.5, 'percent_amplitude': 0.46246985560793696, 'mean_variance': 0.018674582209292058, 'anderson_darling_normal': 0.12824503210525773, 'chi2': 120.91735120505268, 'skew': -0.9640499821586741, 'stetson_K': 0.9485725364127578}",
         "{'mean': 14.427347379523706, 'weighted_mean': 14.427347379523706, 'standard_deviation': nan, 'median': 14.427347379523706, 'amplitude': 0.0, 'beyond_1_std': nan, 'cusum': nan, 'inter_percentile_range_10': 0.0, 'kurtosis': nan, 'linear_trend': nan, 'linear_trend_sigma': nan, 'linear_trend_noise': nan, 'linear_fit_slope': nan, 'linear_fit_slope_sigma': nan, 'linear_fit_reduced_chi2': nan, 'magnitude_percentage_ratio_40_5': nan, 'magnitude_percentage_ratio_20_10': nan, 'maximum_slope': nan, 'median_absolute_deviation': 0.0, 'median_buffer_range_percentage_10': 0.0, 'percent_amplitude': 0.0, 'mean_variance': nan, 'anderson_darling_normal': nan, 'chi2': nan, 'skew': nan, 'stetson_K': nan}",
         "YSO"
        ],
        [
         "43",
         "ZTF17aabwdpo",
         "2570218621515010052",
         "{'mean': 17.11967882199202, 'weighted_mean': 17.091042372727312, 'standard_deviation': 0.0708774246059072, 'median': 17.12533607620314, 'amplitude': 0.08641883908454062, 'beyond_1_std': 0.5, 'cusum': 0.3247722875359163, 'inter_percentile_range_10': 0.17283767816908124, 'kurtosis': 1.613209424029547, 'linear_trend': -0.0008408218128432958, 'linear_trend_sigma': 0.0038269742791786463, 'linear_trend_noise': 0.08577776451708033, 'linear_fit_slope': -0.0032787660508289, 'linear_fit_slope_sigma': 0.0017929727231517623, 'linear_fit_reduced_chi2': 6.891024903727638, 'magnitude_percentage_ratio_40_5': 0.016531834409405883, 'magnitude_percentage_ratio_20_10': 0.706199450959207, 'maximum_slope': 0.05895310585896415, 'median_absolute_deviation': 0.038445078962318746, 'median_buffer_range_percentage_10': 0.5, 'percent_amplitude': 0.09773334750677876, 'mean_variance': 0.004140114154177806, 'anderson_darling_normal': 0.12110799640867234, 'chi2': 5.708701921537146, 'skew': -0.4744312171202911, 'stetson_K': 0.8959024127498127}",
         "{'mean': 15.62682627800859, 'weighted_mean': 15.626398002051895, 'standard_deviation': 0.014455945840588787, 'median': 15.62682627800859, 'amplitude': 0.010221897332345797, 'beyond_1_std': 0.0, 'cusum': 0.35355339059324303, 'inter_percentile_range_10': 0.020443794664691595, 'kurtosis': nan, 'linear_trend': nan, 'linear_trend_sigma': nan, 'linear_trend_noise': nan, 'linear_fit_slope': nan, 'linear_fit_slope_sigma': nan, 'linear_fit_reduced_chi2': nan, 'magnitude_percentage_ratio_40_5': 0.40000003576277376, 'magnitude_percentage_ratio_20_10': 1.0, 'maximum_slope': 0.001083502294724134, 'median_absolute_deviation': 0.010221897332345797, 'median_buffer_range_percentage_10': 0.0, 'percent_amplitude': 0.010221897332346686, 'mean_variance': 0.0009250724096762011, 'anderson_darling_normal': nan, 'chi2': 0.49901240923689266, 'skew': nan, 'stetson_K': 0.999780450340394}",
         "TTau*"
        ],
        [
         "44",
         "ZTF19aamjwpg",
         "2570218622615015012",
         "{'mean': 15.49576388226204, 'weighted_mean': 15.46999750110975, 'standard_deviation': 0.11361005983883522, 'median': 15.459962976698996, 'amplitude': 0.14259512953795195, 'beyond_1_std': 0.2, 'cusum': 0.34941714605299884, 'inter_percentile_range_10': 0.2851902590759039, 'kurtosis': 4.149958873854606, 'linear_trend': -0.007370260575993371, 'linear_trend_sigma': 0.003819664176282858, 'linear_trend_noise': 0.0876312601591254, 'linear_fit_slope': -0.005016096004382629, 'linear_fit_slope_sigma': 0.0011726687605875584, 'linear_fit_reduced_chi2': 13.105230248503107, 'magnitude_percentage_ratio_40_5': 0.05794744146161325, 'magnitude_percentage_ratio_20_10': 0.5579474414616195, 'maximum_slope': 0.01961638739727716, 'median_absolute_deviation': 0.018716072319687527, 'median_buffer_range_percentage_10': 0.2, 'percent_amplitude': 0.2342874199220244, 'mean_variance': 0.007331685014178899, 'anderson_darling_normal': 0.5377708467066592, 'chi2': 14.403183883632941, 'skew': 1.9748423864045224, 'stetson_K': 0.6932636198398902}",
         "{'mean': 13.219666597263863, 'weighted_mean': 13.219592649716308, 'standard_deviation': 0.03645743693834231, 'median': 13.219666597263863, 'amplitude': 0.025779300883782774, 'beyond_1_std': 0.0, 'cusum': 0.353553390593286, 'inter_percentile_range_10': 0.05155860176756555, 'kurtosis': nan, 'linear_trend': nan, 'linear_trend_sigma': nan, 'linear_trend_noise': nan, 'linear_fit_slope': nan, 'linear_fit_slope_sigma': nan, 'linear_fit_reduced_chi2': nan, 'magnitude_percentage_ratio_40_5': 0.40000003576277454, 'magnitude_percentage_ratio_20_10': 1.0, 'maximum_slope': 0.00888429046588417, 'median_absolute_deviation': 0.025779300883782774, 'median_buffer_range_percentage_10': 0.0, 'percent_amplitude': 0.025779300883783662, 'mean_variance': 0.0027578181847557393, 'anderson_darling_normal': nan, 'chi2': 3.331617880215447, 'skew': nan, 'stetson_K': 0.9999989714713121}",
         "LPV*"
        ],
        [
         "45",
         "ZTF18acrwyga",
         "2570218626215015025",
         "{'mean': 16.559444112670022, 'weighted_mean': 16.425257071330257, 'standard_deviation': 0.24893238994363956, 'median': 16.51556801945989, 'amplitude': 0.24601524565870747, 'beyond_1_std': 0.3333333333333333, 'cusum': 0.35880330441589586, 'inter_percentile_range_10': 0.49203049131741494, 'kurtosis': nan, 'linear_trend': -0.01510883058096673, 'linear_trend_sigma': 0.004307140295047691, 'linear_trend_noise': 0.09651348971018575, 'linear_fit_slope': -0.017237373804130582, 'linear_fit_slope_sigma': 0.0016069774969194957, 'linear_fit_reduced_chi2': 30.57093946264711, 'magnitude_percentage_ratio_40_5': 0.30000002786639746, 'magnitude_percentage_ratio_20_10': 0.9000000517082558, 'maximum_slope': 0.06146469323837155, 'median_absolute_deviation': 0.180201105843512, 'median_buffer_range_percentage_10': 0.3333333333333333, 'percent_amplitude': 0.31182938547390293, 'mean_variance': 0.015032653768442355, 'anderson_darling_normal': nan, 'chi2': 72.81523604723957, 'skew': 0.7685161577061687, 'stetson_K': 0.9647633968666531}",
         "{'mean': 15.852999550064615, 'weighted_mean': 15.852999550064613, 'standard_deviation': nan, 'median': 15.852999550064615, 'amplitude': 0.0, 'beyond_1_std': nan, 'cusum': nan, 'inter_percentile_range_10': 0.0, 'kurtosis': nan, 'linear_trend': nan, 'linear_trend_sigma': nan, 'linear_trend_noise': nan, 'linear_fit_slope': nan, 'linear_fit_slope_sigma': nan, 'linear_fit_reduced_chi2': nan, 'magnitude_percentage_ratio_40_5': nan, 'magnitude_percentage_ratio_20_10': nan, 'maximum_slope': nan, 'median_absolute_deviation': 0.0, 'median_buffer_range_percentage_10': 0.0, 'percent_amplitude': 0.0, 'mean_variance': nan, 'anderson_darling_normal': nan, 'chi2': nan, 'skew': nan, 'stetson_K': nan}",
         "EB*"
        ],
        [
         "46",
         "ZTF20aampuwc",
         "2570219090715010059",
         "{'mean': 14.72684885149842, 'weighted_mean': 14.72684885149842, 'standard_deviation': nan, 'median': 14.72684885149842, 'amplitude': 0.0, 'beyond_1_std': nan, 'cusum': nan, 'inter_percentile_range_10': 0.0, 'kurtosis': nan, 'linear_trend': nan, 'linear_trend_sigma': nan, 'linear_trend_noise': nan, 'linear_fit_slope': nan, 'linear_fit_slope_sigma': nan, 'linear_fit_reduced_chi2': nan, 'magnitude_percentage_ratio_40_5': nan, 'magnitude_percentage_ratio_20_10': nan, 'maximum_slope': nan, 'median_absolute_deviation': 0.0, 'median_buffer_range_percentage_10': 0.0, 'percent_amplitude': 0.0, 'mean_variance': nan, 'anderson_darling_normal': nan, 'chi2': nan, 'skew': nan, 'stetson_K': nan}",
         "{'mean': 13.106495805587784, 'weighted_mean': 13.106495805587784, 'standard_deviation': nan, 'median': 13.106495805587784, 'amplitude': 0.0, 'beyond_1_std': nan, 'cusum': nan, 'inter_percentile_range_10': 0.0, 'kurtosis': nan, 'linear_trend': nan, 'linear_trend_sigma': nan, 'linear_trend_noise': nan, 'linear_fit_slope': nan, 'linear_fit_slope_sigma': nan, 'linear_fit_reduced_chi2': nan, 'magnitude_percentage_ratio_40_5': nan, 'magnitude_percentage_ratio_20_10': nan, 'maximum_slope': nan, 'median_absolute_deviation': 0.0, 'median_buffer_range_percentage_10': 0.0, 'percent_amplitude': 0.0, 'mean_variance': nan, 'anderson_darling_normal': nan, 'chi2': nan, 'skew': nan, 'stetson_K': nan}",
         "Unknown"
        ],
        [
         "47",
         "ZTF23abnzgmw",
         "2570219094015010017",
         "{'mean': 16.453643684397953, 'weighted_mean': 16.453643684397953, 'standard_deviation': nan, 'median': 16.453643684397953, 'amplitude': 0.0, 'beyond_1_std': nan, 'cusum': nan, 'inter_percentile_range_10': 0.0, 'kurtosis': nan, 'linear_trend': nan, 'linear_trend_sigma': nan, 'linear_trend_noise': nan, 'linear_fit_slope': nan, 'linear_fit_slope_sigma': nan, 'linear_fit_reduced_chi2': nan, 'magnitude_percentage_ratio_40_5': nan, 'magnitude_percentage_ratio_20_10': nan, 'maximum_slope': nan, 'median_absolute_deviation': 0.0, 'median_buffer_range_percentage_10': 0.0, 'percent_amplitude': 0.0, 'mean_variance': nan, 'anderson_darling_normal': nan, 'chi2': nan, 'skew': nan, 'stetson_K': nan}",
         "{'mean': 15.108362318609508, 'weighted_mean': 15.101009711410228, 'standard_deviation': 0.0675242956641935, 'median': 15.071249486562966, 'amplitude': 0.05938441527925775, 'beyond_1_std': 0.3333333333333333, 'cusum': 0.38475450717837373, 'inter_percentile_range_10': 0.1187688305585155, 'kurtosis': nan, 'linear_trend': -0.008540804862727014, 'linear_trend_sigma': 0.004698631839988794, 'linear_trend_noise': 0.0460291838466771, 'linear_fit_slope': -0.008042755531054378, 'linear_fit_slope_sigma': 0.0022704338825757517, 'linear_fit_reduced_chi2': 4.438160927684385, 'magnitude_percentage_ratio_40_5': 0.30000006779662675, 'magnitude_percentage_ratio_20_10': 0.9000000916384957, 'maximum_slope': 0.016809646385635015, 'median_absolute_deviation': 0.0037151672094459798, 'median_buffer_range_percentage_10': 0.6666666666666666, 'percent_amplitude': 0.11505366334906952, 'mean_variance': 0.004469332561678205, 'anderson_darling_normal': nan, 'chi2': 8.493333198173348, 'skew': 1.7261540569384928, 'stetson_K': 0.9167209115594105}",
         "Unknown"
        ],
        [
         "48",
         "ZTF19aadldhc",
         "2570219094815015007",
         "{'mean': 16.371763523241412, 'weighted_mean': 16.36990920082773, 'standard_deviation': 0.02389872119949896, 'median': 16.371763523241412, 'amplitude': 0.016898947821852417, 'beyond_1_std': 0.0, 'cusum': 0.3535533905932366, 'inter_percentile_range_10': 0.033797895643704834, 'kurtosis': nan, 'linear_trend': nan, 'linear_trend_sigma': nan, 'linear_trend_noise': nan, 'linear_fit_slope': nan, 'linear_fit_slope_sigma': nan, 'linear_fit_reduced_chi2': nan, 'magnitude_percentage_ratio_40_5': 0.4000000357627703, 'magnitude_percentage_ratio_20_10': 1.0, 'maximum_slope': 0.03847349484326357, 'median_absolute_deviation': 0.016898947821852417, 'median_buffer_range_percentage_10': 0.0, 'percent_amplitude': 0.016898947821854193, 'mean_variance': 0.0014597524063655238, 'anderson_darling_normal': nan, 'chi2': 1.5922853424168497, 'skew': nan, 'stetson_K': 0.9984892151937322}",
         "{'mean': 14.998734852981634, 'weighted_mean': 15.002176082412396, 'standard_deviation': 0.022575948326289733, 'median': 15.010774768835674, 'amplitude': 0.020023829865988496, 'beyond_1_std': 0.3333333333333333, 'cusum': 0.38453589954224676, 'inter_percentile_range_10': 0.04004765973197699, 'kurtosis': nan, 'linear_trend': -0.0008038626248645189, 'linear_trend_sigma': 0.0011762016790265257, 'linear_trend_noise': 0.026359228756515578, 'linear_fit_slope': -0.000676752731580805, 'linear_fit_slope_sigma': 0.0006510812528493945, 'linear_fit_reduced_chi2': 2.6596945200867506, 'magnitude_percentage_ratio_40_5': 0.2999999581623469, 'magnitude_percentage_ratio_20_10': 0.8999999820042497, 'maximum_slope': 0.03707612653762302, 'median_absolute_deviation': 0.001963956084930274, 'median_buffer_range_percentage_10': 0.6666666666666666, 'percent_amplitude': 0.03808370364704672, 'mean_variance': 0.0015051901742100472, 'anderson_darling_normal': nan, 'chi2': 1.87005356897056, 'skew': -1.7173160823114322, 'stetson_K': 0.9038056053029412}",
         "Unknown"
        ],
        [
         "49",
         "ZTF18acvtwxs",
         "2570219561115010046",
         "{'mean': 16.342000992460875, 'weighted_mean': 16.33118109345048, 'standard_deviation': 0.15761134552639697, 'median': 16.342000992460875, 'amplitude': 0.11144805121365131, 'beyond_1_std': 0.0, 'cusum': 0.3535533905932681, 'inter_percentile_range_10': 0.22289610242730262, 'kurtosis': nan, 'linear_trend': nan, 'linear_trend_sigma': nan, 'linear_trend_noise': nan, 'linear_fit_slope': nan, 'linear_fit_slope_sigma': nan, 'linear_fit_reduced_chi2': nan, 'magnitude_percentage_ratio_40_5': 0.4000000357627863, 'magnitude_percentage_ratio_20_10': 1.0, 'maximum_slope': 0.013959128636986111, 'median_absolute_deviation': 0.11144805121365131, 'median_buffer_range_percentage_10': 0.0, 'percent_amplitude': 0.11144805121365309, 'mean_variance': 0.009644556110301822, 'anderson_darling_normal': nan, 'chi2': 100.14315384085131, 'skew': nan, 'stetson_K': 0.9988183329346725}",
         "{'mean': 15.65810819513329, 'weighted_mean': 15.660822479991708, 'standard_deviation': 0.014916493306468633, 'median': 15.653592711552005, 'amplitude': 0.014394776086562366, 'beyond_1_std': 0.3333333333333333, 'cusum': 0.3721276293534502, 'inter_percentile_range_10': 0.028789552173124733, 'kurtosis': nan, 'linear_trend': -0.0007004188754379654, 'linear_trend_sigma': 0.0020267748508352146, 'linear_trend_noise': 0.01993809849406769, 'linear_fit_slope': -0.0018788735527869645, 'linear_fit_slope_sigma': 0.0024472140475057004, 'linear_fit_reduced_chi2': 0.8175005001443754, 'magnitude_percentage_ratio_40_5': 0.30000003996696617, 'magnitude_percentage_ratio_20_10': 0.900000063808736, 'maximum_slope': 0.0036757290318889667, 'median_absolute_deviation': 0.007621550714631553, 'median_buffer_range_percentage_10': 0.3333333333333333, 'percent_amplitude': 0.02116800145849318, 'mean_variance': 0.0009526370057338626, 'anderson_darling_normal': nan, 'chi2': 0.7034780717020093, 'skew': 1.2373969928385495, 'stetson_K': 0.9041472792729086}",
         "EB*_Candidate"
        ]
       ],
       "shape": {
        "columns": 5,
        "rows": 854991
       }
      },
      "text/html": [
       "<div>\n",
       "<style scoped>\n",
       "    .dataframe tbody tr th:only-of-type {\n",
       "        vertical-align: middle;\n",
       "    }\n",
       "\n",
       "    .dataframe tbody tr th {\n",
       "        vertical-align: top;\n",
       "    }\n",
       "\n",
       "    .dataframe thead th {\n",
       "        text-align: right;\n",
       "    }\n",
       "</style>\n",
       "<table border=\"1\" class=\"dataframe\">\n",
       "  <thead>\n",
       "    <tr style=\"text-align: right;\">\n",
       "      <th></th>\n",
       "      <th>objectId</th>\n",
       "      <th>candid</th>\n",
       "      <th>lc_features_g</th>\n",
       "      <th>lc_features_r</th>\n",
       "      <th>cdsxmatch</th>\n",
       "    </tr>\n",
       "  </thead>\n",
       "  <tbody>\n",
       "    <tr>\n",
       "      <th>0</th>\n",
       "      <td>ZTF18abqpjos</td>\n",
       "      <td>2570132662315010001</td>\n",
       "      <td>{'mean': 17.401908735560085, 'weighted_mean': ...</td>\n",
       "      <td>{'mean': 17.631597001140964, 'weighted_mean': ...</td>\n",
       "      <td>QSO</td>\n",
       "    </tr>\n",
       "    <tr>\n",
       "      <th>1</th>\n",
       "      <td>ZTF23aatekmu</td>\n",
       "      <td>2570135064715015025</td>\n",
       "      <td>{'mean': 19.48988275209835, 'weighted_mean': 1...</td>\n",
       "      <td>{'mean': 18.274583367522656, 'weighted_mean': ...</td>\n",
       "      <td>Unknown</td>\n",
       "    </tr>\n",
       "    <tr>\n",
       "      <th>2</th>\n",
       "      <td>ZTF18acdyhbe</td>\n",
       "      <td>2570137543115010004</td>\n",
       "      <td>{'mean': 19.510292396036682, 'weighted_mean': ...</td>\n",
       "      <td>{'mean': 16.208598134662612, 'weighted_mean': ...</td>\n",
       "      <td>LPV*</td>\n",
       "    </tr>\n",
       "    <tr>\n",
       "      <th>3</th>\n",
       "      <td>ZTF19aczmbew</td>\n",
       "      <td>2570137543815010007</td>\n",
       "      <td>{'mean': 16.886914280166614, 'weighted_mean': ...</td>\n",
       "      <td>{'mean': 15.622438672539376, 'weighted_mean': ...</td>\n",
       "      <td>Unknown</td>\n",
       "    </tr>\n",
       "    <tr>\n",
       "      <th>4</th>\n",
       "      <td>ZTF18acmgaps</td>\n",
       "      <td>2570138041515010000</td>\n",
       "      <td>{'mean': 15.311072617994874, 'weighted_mean': ...</td>\n",
       "      <td>{'mean': 14.604294032777275, 'weighted_mean': ...</td>\n",
       "      <td>Unknown</td>\n",
       "    </tr>\n",
       "    <tr>\n",
       "      <th>...</th>\n",
       "      <td>...</td>\n",
       "      <td>...</td>\n",
       "      <td>...</td>\n",
       "      <td>...</td>\n",
       "      <td>...</td>\n",
       "    </tr>\n",
       "    <tr>\n",
       "      <th>854986</th>\n",
       "      <td>ZTF18acgvhut</td>\n",
       "      <td>2561562322715010007</td>\n",
       "      <td>{'mean': 14.211665117449408, 'weighted_mean': ...</td>\n",
       "      <td>{'mean': 13.437082811350741, 'weighted_mean': ...</td>\n",
       "      <td>Unknown</td>\n",
       "    </tr>\n",
       "    <tr>\n",
       "      <th>854987</th>\n",
       "      <td>ZTF18aafwgob</td>\n",
       "      <td>2561562325315015030</td>\n",
       "      <td>{'mean': 17.232443687067494, 'weighted_mean': ...</td>\n",
       "      <td>{'mean': 17.52010801900393, 'weighted_mean': 1...</td>\n",
       "      <td>QSO</td>\n",
       "    </tr>\n",
       "    <tr>\n",
       "      <th>854988</th>\n",
       "      <td>ZTF22aafdvaa</td>\n",
       "      <td>2561568830215010006</td>\n",
       "      <td>{'mean': 19.109515534174133, 'weighted_mean': ...</td>\n",
       "      <td>{'mean': 18.219019868362494, 'weighted_mean': ...</td>\n",
       "      <td>Unknown</td>\n",
       "    </tr>\n",
       "    <tr>\n",
       "      <th>854989</th>\n",
       "      <td>ZTF20aabqukc</td>\n",
       "      <td>2561570812015010005</td>\n",
       "      <td>{'mean': 20.228360777250852, 'weighted_mean': ...</td>\n",
       "      <td>{'mean': 20.110789243866186, 'weighted_mean': ...</td>\n",
       "      <td>Unknown</td>\n",
       "    </tr>\n",
       "    <tr>\n",
       "      <th>854990</th>\n",
       "      <td>ZTF19aadgfjw</td>\n",
       "      <td>2561570813415015016</td>\n",
       "      <td>{'mean': 17.77501576615866, 'weighted_mean': 1...</td>\n",
       "      <td>{'mean': 17.434561191030447, 'weighted_mean': ...</td>\n",
       "      <td>RRLyr</td>\n",
       "    </tr>\n",
       "  </tbody>\n",
       "</table>\n",
       "<p>854991 rows × 5 columns</p>\n",
       "</div>"
      ],
      "text/plain": [
       "            objectId               candid  \\\n",
       "0       ZTF18abqpjos  2570132662315010001   \n",
       "1       ZTF23aatekmu  2570135064715015025   \n",
       "2       ZTF18acdyhbe  2570137543115010004   \n",
       "3       ZTF19aczmbew  2570137543815010007   \n",
       "4       ZTF18acmgaps  2570138041515010000   \n",
       "...              ...                  ...   \n",
       "854986  ZTF18acgvhut  2561562322715010007   \n",
       "854987  ZTF18aafwgob  2561562325315015030   \n",
       "854988  ZTF22aafdvaa  2561568830215010006   \n",
       "854989  ZTF20aabqukc  2561570812015010005   \n",
       "854990  ZTF19aadgfjw  2561570813415015016   \n",
       "\n",
       "                                            lc_features_g  \\\n",
       "0       {'mean': 17.401908735560085, 'weighted_mean': ...   \n",
       "1       {'mean': 19.48988275209835, 'weighted_mean': 1...   \n",
       "2       {'mean': 19.510292396036682, 'weighted_mean': ...   \n",
       "3       {'mean': 16.886914280166614, 'weighted_mean': ...   \n",
       "4       {'mean': 15.311072617994874, 'weighted_mean': ...   \n",
       "...                                                   ...   \n",
       "854986  {'mean': 14.211665117449408, 'weighted_mean': ...   \n",
       "854987  {'mean': 17.232443687067494, 'weighted_mean': ...   \n",
       "854988  {'mean': 19.109515534174133, 'weighted_mean': ...   \n",
       "854989  {'mean': 20.228360777250852, 'weighted_mean': ...   \n",
       "854990  {'mean': 17.77501576615866, 'weighted_mean': 1...   \n",
       "\n",
       "                                            lc_features_r cdsxmatch  \n",
       "0       {'mean': 17.631597001140964, 'weighted_mean': ...       QSO  \n",
       "1       {'mean': 18.274583367522656, 'weighted_mean': ...   Unknown  \n",
       "2       {'mean': 16.208598134662612, 'weighted_mean': ...      LPV*  \n",
       "3       {'mean': 15.622438672539376, 'weighted_mean': ...   Unknown  \n",
       "4       {'mean': 14.604294032777275, 'weighted_mean': ...   Unknown  \n",
       "...                                                   ...       ...  \n",
       "854986  {'mean': 13.437082811350741, 'weighted_mean': ...   Unknown  \n",
       "854987  {'mean': 17.52010801900393, 'weighted_mean': 1...       QSO  \n",
       "854988  {'mean': 18.219019868362494, 'weighted_mean': ...   Unknown  \n",
       "854989  {'mean': 20.110789243866186, 'weighted_mean': ...   Unknown  \n",
       "854990  {'mean': 17.434561191030447, 'weighted_mean': ...     RRLyr  \n",
       "\n",
       "[854991 rows x 5 columns]"
      ]
     },
     "execution_count": 11,
     "metadata": {},
     "output_type": "execute_result"
    }
   ],
   "source": [
    "pdf2"
   ]
  },
  {
   "cell_type": "markdown",
   "id": "30b1cb31",
   "metadata": {},
   "source": [
    "### Cleaning data"
   ]
  },
  {
   "cell_type": "markdown",
   "id": "23e110bb",
   "metadata": {},
   "source": [
    "Our two final datasets should represent two classes of objects:\n",
    "1. The positive class (dfg & dfr) which should only contain magnetic cataclysmic variable stars  \n",
    "2. The negative class (dfg2 & dfr2) which should only contain objects that are not magCVs\n",
    "\n",
    "Since, for now, the negative class may contain any object, we should check if there are any magCVs in there and remove them."
   ]
  },
  {
   "cell_type": "code",
   "execution_count": 12,
   "id": "0a73ea6c",
   "metadata": {},
   "outputs": [
    {
     "name": "stderr",
     "output_type": "stream",
     "text": [
      "100%|██████████| 44/44\n"
     ]
    }
   ],
   "source": [
    "positive_IDs = np.unique(pdf['objectId'].to_numpy())\n",
    "negative_IDs = np.unique(pdf2['objectId'].to_numpy())\n",
    "common_IDs = np.intersect1d(positive_IDs, negative_IDs)\n",
    "\n",
    "for id in tqdm2(common_IDs):\n",
    "    pdf2 = pdf2[pdf2['objectId'] != id]\n",
    "pdf2.reset_index(drop=True, inplace=True)"
   ]
  },
  {
   "cell_type": "code",
   "execution_count": 13,
   "id": "f6813b32",
   "metadata": {},
   "outputs": [
    {
     "name": "stderr",
     "output_type": "stream",
     "text": [
      "Converting dictionaries to arrays: 100%|██████████| 854777/854777\n",
      "Removing lines containing NaN values: 100%|██████████| 854777/854777\n"
     ]
    },
    {
     "name": "stdout",
     "output_type": "stream",
     "text": [
      "369977 and 476039 lines remaining in g and r filters respectively after cleaning out of 854777\n",
      "\n",
      "Removing duplicates...\n",
      "280609 out of 369977 and 458298 out of 476039 lines remaining in g and r filters respectively after removing duplicates\n"
     ]
    }
   ],
   "source": [
    "# Converting the lines of dictionaries to lines of arrays with only the values of the dictionaries:\n",
    "placeholder_features_g2 = []\n",
    "placeholder_features_r2 = []\n",
    "for i in tqdm2(range(len(pdf2)), desc='Converting dictionaries to arrays'):\n",
    "    placeholder_features_g2.append(np.array(list(pdf2['lc_features_g'][i].values())))\n",
    "    placeholder_features_r2.append(np.array(list(pdf2['lc_features_r'][i].values())))\n",
    "\n",
    "# Splitting the dataframe into two, one for each filter (because they will not have the same length after cleaning):\n",
    "pdf_g2 = pdf2.drop(columns=['lc_features_r'])\n",
    "pdf_r2 = pdf2.drop(columns=['lc_features_g'])\n",
    "pdf_g2['lc_features_g'] = placeholder_features_g2\n",
    "pdf_r2['lc_features_r'] = placeholder_features_r2\n",
    "\n",
    "# Removing lines containing NaN values in the features:\n",
    "nans_g = np.array([], dtype=bool)\n",
    "nans_r = np.array([], dtype=bool)\n",
    "for lc_features_g, lc_features_r in zip(tqdm2(pdf_g2[\"lc_features_g\"], desc='Removing lines containing NaN values'), pdf_r2[\"lc_features_r\"]):\n",
    "    nans_g = np.append(nans_g, True in np.isnan(lc_features_g))\n",
    "    nans_r = np.append(nans_r, True in np.isnan(lc_features_r))\n",
    "pdf_g2, pdf_r2 = pdf_g2[~nans_g], pdf_r2[~nans_r]\n",
    "\n",
    "print(f'{len(pdf_g2)} and {len(pdf_r2)} lines remaining in g and r filters respectively after cleaning out of {len(pdf2)}')\n",
    "\n",
    "# Removing duplicates with np.unique (faster than pandas drop_duplicates but the conversion to numpy array rounds values resulting in more duplicates):\n",
    "print('\\nRemoving duplicates...')\n",
    "features_g2 = np.vstack(pdf_g2[\"lc_features_g\"].to_numpy())\n",
    "features_r2 = np.vstack(pdf_r2[\"lc_features_r\"].to_numpy())\n",
    "features_g_reduced2, index_g2 = np.unique(features_g2, axis=0, return_index=True)\n",
    "features_r_reduced2, index_r2 = np.unique(features_r2, axis=0, return_index=True)\n",
    "\n",
    "print(f'{len(features_g_reduced2)} out of {len(features_g2)} and {len(features_r_reduced2)} out of {len(features_r2)} lines remaining in g and r filters respectively after removing duplicates')\n",
    "\n",
    "# Converting back to pandas DataFrame with feature names as columns:\n",
    "dfg2 = pd.DataFrame(features_g_reduced2, columns=feature_names, index=pdf_g2.index[index_g2])\n",
    "dfr2 = pd.DataFrame(features_r_reduced2, columns=feature_names, index=pdf_r2.index[index_r2])\n",
    "\n",
    "# Retrieving corresponding IDs, candid and cdsxmatch:\n",
    "for column in ['objectId', 'candid', 'cdsxmatch']:\n",
    "    dfg2[column] = pdf_g2[column].values[index_g2]\n",
    "    dfr2[column] = pdf_r2[column].values[index_r2]"
   ]
  },
  {
   "cell_type": "code",
   "execution_count": 14,
   "id": "2aa6802e",
   "metadata": {},
   "outputs": [
    {
     "data": {
      "application/vnd.microsoft.datawrangler.viewer.v0+json": {
       "columns": [
        {
         "name": "index",
         "rawType": "int64",
         "type": "integer"
        },
        {
         "name": "mean",
         "rawType": "float64",
         "type": "float"
        },
        {
         "name": "weightedMean",
         "rawType": "float64",
         "type": "float"
        },
        {
         "name": "std",
         "rawType": "float64",
         "type": "float"
        },
        {
         "name": "median",
         "rawType": "float64",
         "type": "float"
        },
        {
         "name": "amplitude",
         "rawType": "float64",
         "type": "float"
        },
        {
         "name": "beyond1Std",
         "rawType": "float64",
         "type": "float"
        },
        {
         "name": "cusum",
         "rawType": "float64",
         "type": "float"
        },
        {
         "name": "IPR10",
         "rawType": "float64",
         "type": "float"
        },
        {
         "name": "kurtosis",
         "rawType": "float64",
         "type": "float"
        },
        {
         "name": "linT",
         "rawType": "float64",
         "type": "float"
        },
        {
         "name": "linT_sigma",
         "rawType": "float64",
         "type": "float"
        },
        {
         "name": "linT_noise",
         "rawType": "float64",
         "type": "float"
        },
        {
         "name": "linF_slope",
         "rawType": "float64",
         "type": "float"
        },
        {
         "name": "linF_slope_sigma",
         "rawType": "float64",
         "type": "float"
        },
        {
         "name": "linF_chi2",
         "rawType": "float64",
         "type": "float"
        },
        {
         "name": "MPR40_5",
         "rawType": "float64",
         "type": "float"
        },
        {
         "name": "MPR20_10",
         "rawType": "float64",
         "type": "float"
        },
        {
         "name": "maxSlope",
         "rawType": "float64",
         "type": "float"
        },
        {
         "name": "medianAbsDev",
         "rawType": "float64",
         "type": "float"
        },
        {
         "name": "medianBRP10",
         "rawType": "float64",
         "type": "float"
        },
        {
         "name": "percentAmplitude",
         "rawType": "float64",
         "type": "float"
        },
        {
         "name": "meanVariance",
         "rawType": "float64",
         "type": "float"
        },
        {
         "name": "andersonDarlingNorm",
         "rawType": "float64",
         "type": "float"
        },
        {
         "name": "chi2",
         "rawType": "float64",
         "type": "float"
        },
        {
         "name": "skew",
         "rawType": "float64",
         "type": "float"
        },
        {
         "name": "stetsonK",
         "rawType": "float64",
         "type": "float"
        },
        {
         "name": "objectId",
         "rawType": "object",
         "type": "string"
        },
        {
         "name": "candid",
         "rawType": "int64",
         "type": "integer"
        },
        {
         "name": "cdsxmatch",
         "rawType": "object",
         "type": "string"
        }
       ],
       "conversionMethod": "pd.DataFrame",
       "ref": "d2c934d3-708d-4a08-9a8d-512c5524bf4f",
       "rows": [
        [
         "83190",
         "11.663721527271505",
         "11.665458528960913",
         "0.07112147271134765",
         "11.693720465629092",
         "0.0865746903986917",
         "0.5",
         "0.41390754492178367",
         "0.16784495676760613",
         "-1.6217031641387223",
         "0.00433366522368344",
         "0.0024337052859411744",
         "0.059388264476104166",
         "0.004401599689815592",
         "0.0011746495571730213",
         "4.256425246500787",
         "0.12816688220656933",
         "0.8103820552180145",
         "0.05082885766170138",
         "0.028315265768353193",
         "0.5",
         "0.12256582292606666",
         "0.006097665530255942",
         "0.5137832797188823",
         "6.213381592317063",
         "-0.6315032175216366",
         "0.8993491165525185",
         "ZTF18aabfxtw",
         "2560235106115015006",
         "Mira"
        ],
        [
         "350649",
         "11.76271920256692",
         "11.754457331858214",
         "0.10565361410256821",
         "11.75862364375784",
         "0.1783790253390336",
         "0.3333333333333333",
         "0.3579471295599579",
         "0.2889273271165873",
         "0.5032206963077295",
         "0.009617096440317587",
         "0.0017018930883532736",
         "0.04789355905735648",
         "0.008974754241399709",
         "0.001024157161469642",
         "2.4345730901112503",
         "0.07874013806142417",
         "0.5588676728450123",
         "45.4696463067694",
         "0.05885620446335871",
         "0.3333333333333333",
         "0.187469001054815",
         "0.008982073981627644",
         "0.2613663218981044",
         "11.72916158810715",
         "-0.14626027535693303",
         "0.7717139808710823",
         "ZTF18aabfxtw",
         "2571234896115015006",
         "Mira"
        ],
        [
         "429177",
         "11.806345659328324",
         "11.80628048680297",
         "0.03706258687749796",
         "11.811833827296187",
         "0.054829946352648484",
         "0.3333333333333333",
         "0.36271669166859777",
         "0.10225953890834028",
         "0.6205857419396681",
         "0.0008351068479467917",
         "0.001577297159281266",
         "0.040057377550594214",
         "0.000676398564662271",
         "0.00042264660170615836",
         "13.190622550082388",
         "0.16384889105205813",
         "0.5657910284960197",
         "0.011117161215900314",
         "0.017828254501051966",
         "0.0",
         "0.06246182075788376",
         "0.0031392090276650846",
         "0.19334665877754664",
         "11.064746371114243",
         "-0.2516303408543062",
         "0.8066531892035823",
         "ZTF18achzfzd",
         "2561416034515015045",
         "XB"
        ],
        [
         "345336",
         "11.8065215139833",
         "11.80647491442708",
         "0.048838857215459615",
         "11.808830022911344",
         "0.05484099851695401",
         "0.5",
         "0.4018218412913167",
         "0.10968199703390802",
         "-2.40017606606518",
         "0.003366188661980048",
         "0.0015418393323982133",
         "0.03251954091682996",
         "0.003337623941306479",
         "0.0005268128018321267",
         "8.830704070854813",
         "0.34510067094943403",
         "0.8294127476943928",
         "0.010437037802223846",
         "0.03694053013771548",
         "0.0",
         "0.059458016373040934",
         "0.004136600027164334",
         "0.08390085186190256",
         "19.266667467379406",
         "-0.19403710496131568",
         "0.9401790077102481",
         "ZTF18achzfzd",
         "2571272184515015071",
         "XB"
        ],
        [
         "797785",
         "11.979816803378993",
         "11.837399622431855",
         "0.4199751382176212",
         "11.842548744830983",
         "0.5748081410873329",
         "0.14285714285714285",
         "0.3233815344427717",
         "0.9297092124983113",
         "6.9193474703683435",
         "0.008603249009111006",
         "0.019872139726497283",
         "0.4516719736338204",
         "0.0014533227095748448",
         "0.0005870430501355575",
         "135.84448594166423",
         "0.016233795280328953",
         "0.172135283475227",
         "55.2614571979447",
         "0.026221561672640448",
         "0.7142857142857143",
         "1.087953490920416",
         "0.03505689152935663",
         "1.8417439982719372",
         "114.22522565085684",
         "2.6254927789891958",
         "0.5246417470944538",
         "ZTF19aanjvsc",
         "2581419000315015014",
         "SB*"
        ]
       ],
       "shape": {
        "columns": 29,
        "rows": 5
       }
      },
      "text/html": [
       "<div>\n",
       "<style scoped>\n",
       "    .dataframe tbody tr th:only-of-type {\n",
       "        vertical-align: middle;\n",
       "    }\n",
       "\n",
       "    .dataframe tbody tr th {\n",
       "        vertical-align: top;\n",
       "    }\n",
       "\n",
       "    .dataframe thead th {\n",
       "        text-align: right;\n",
       "    }\n",
       "</style>\n",
       "<table border=\"1\" class=\"dataframe\">\n",
       "  <thead>\n",
       "    <tr style=\"text-align: right;\">\n",
       "      <th></th>\n",
       "      <th>mean</th>\n",
       "      <th>weightedMean</th>\n",
       "      <th>std</th>\n",
       "      <th>median</th>\n",
       "      <th>amplitude</th>\n",
       "      <th>beyond1Std</th>\n",
       "      <th>cusum</th>\n",
       "      <th>IPR10</th>\n",
       "      <th>kurtosis</th>\n",
       "      <th>linT</th>\n",
       "      <th>...</th>\n",
       "      <th>medianBRP10</th>\n",
       "      <th>percentAmplitude</th>\n",
       "      <th>meanVariance</th>\n",
       "      <th>andersonDarlingNorm</th>\n",
       "      <th>chi2</th>\n",
       "      <th>skew</th>\n",
       "      <th>stetsonK</th>\n",
       "      <th>objectId</th>\n",
       "      <th>candid</th>\n",
       "      <th>cdsxmatch</th>\n",
       "    </tr>\n",
       "  </thead>\n",
       "  <tbody>\n",
       "    <tr>\n",
       "      <th>83190</th>\n",
       "      <td>11.663722</td>\n",
       "      <td>11.665459</td>\n",
       "      <td>0.071121</td>\n",
       "      <td>11.693720</td>\n",
       "      <td>0.086575</td>\n",
       "      <td>0.500000</td>\n",
       "      <td>0.413908</td>\n",
       "      <td>0.167845</td>\n",
       "      <td>-1.621703</td>\n",
       "      <td>0.004334</td>\n",
       "      <td>...</td>\n",
       "      <td>0.500000</td>\n",
       "      <td>0.122566</td>\n",
       "      <td>0.006098</td>\n",
       "      <td>0.513783</td>\n",
       "      <td>6.213382</td>\n",
       "      <td>-0.631503</td>\n",
       "      <td>0.899349</td>\n",
       "      <td>ZTF18aabfxtw</td>\n",
       "      <td>2560235106115015006</td>\n",
       "      <td>Mira</td>\n",
       "    </tr>\n",
       "    <tr>\n",
       "      <th>350649</th>\n",
       "      <td>11.762719</td>\n",
       "      <td>11.754457</td>\n",
       "      <td>0.105654</td>\n",
       "      <td>11.758624</td>\n",
       "      <td>0.178379</td>\n",
       "      <td>0.333333</td>\n",
       "      <td>0.357947</td>\n",
       "      <td>0.288927</td>\n",
       "      <td>0.503221</td>\n",
       "      <td>0.009617</td>\n",
       "      <td>...</td>\n",
       "      <td>0.333333</td>\n",
       "      <td>0.187469</td>\n",
       "      <td>0.008982</td>\n",
       "      <td>0.261366</td>\n",
       "      <td>11.729162</td>\n",
       "      <td>-0.146260</td>\n",
       "      <td>0.771714</td>\n",
       "      <td>ZTF18aabfxtw</td>\n",
       "      <td>2571234896115015006</td>\n",
       "      <td>Mira</td>\n",
       "    </tr>\n",
       "    <tr>\n",
       "      <th>429177</th>\n",
       "      <td>11.806346</td>\n",
       "      <td>11.806280</td>\n",
       "      <td>0.037063</td>\n",
       "      <td>11.811834</td>\n",
       "      <td>0.054830</td>\n",
       "      <td>0.333333</td>\n",
       "      <td>0.362717</td>\n",
       "      <td>0.102260</td>\n",
       "      <td>0.620586</td>\n",
       "      <td>0.000835</td>\n",
       "      <td>...</td>\n",
       "      <td>0.000000</td>\n",
       "      <td>0.062462</td>\n",
       "      <td>0.003139</td>\n",
       "      <td>0.193347</td>\n",
       "      <td>11.064746</td>\n",
       "      <td>-0.251630</td>\n",
       "      <td>0.806653</td>\n",
       "      <td>ZTF18achzfzd</td>\n",
       "      <td>2561416034515015045</td>\n",
       "      <td>XB</td>\n",
       "    </tr>\n",
       "    <tr>\n",
       "      <th>345336</th>\n",
       "      <td>11.806522</td>\n",
       "      <td>11.806475</td>\n",
       "      <td>0.048839</td>\n",
       "      <td>11.808830</td>\n",
       "      <td>0.054841</td>\n",
       "      <td>0.500000</td>\n",
       "      <td>0.401822</td>\n",
       "      <td>0.109682</td>\n",
       "      <td>-2.400176</td>\n",
       "      <td>0.003366</td>\n",
       "      <td>...</td>\n",
       "      <td>0.000000</td>\n",
       "      <td>0.059458</td>\n",
       "      <td>0.004137</td>\n",
       "      <td>0.083901</td>\n",
       "      <td>19.266667</td>\n",
       "      <td>-0.194037</td>\n",
       "      <td>0.940179</td>\n",
       "      <td>ZTF18achzfzd</td>\n",
       "      <td>2571272184515015071</td>\n",
       "      <td>XB</td>\n",
       "    </tr>\n",
       "    <tr>\n",
       "      <th>797785</th>\n",
       "      <td>11.979817</td>\n",
       "      <td>11.837400</td>\n",
       "      <td>0.419975</td>\n",
       "      <td>11.842549</td>\n",
       "      <td>0.574808</td>\n",
       "      <td>0.142857</td>\n",
       "      <td>0.323382</td>\n",
       "      <td>0.929709</td>\n",
       "      <td>6.919347</td>\n",
       "      <td>0.008603</td>\n",
       "      <td>...</td>\n",
       "      <td>0.714286</td>\n",
       "      <td>1.087953</td>\n",
       "      <td>0.035057</td>\n",
       "      <td>1.841744</td>\n",
       "      <td>114.225226</td>\n",
       "      <td>2.625493</td>\n",
       "      <td>0.524642</td>\n",
       "      <td>ZTF19aanjvsc</td>\n",
       "      <td>2581419000315015014</td>\n",
       "      <td>SB*</td>\n",
       "    </tr>\n",
       "  </tbody>\n",
       "</table>\n",
       "<p>5 rows × 29 columns</p>\n",
       "</div>"
      ],
      "text/plain": [
       "             mean  weightedMean       std     median  amplitude  beyond1Std  \\\n",
       "83190   11.663722     11.665459  0.071121  11.693720   0.086575    0.500000   \n",
       "350649  11.762719     11.754457  0.105654  11.758624   0.178379    0.333333   \n",
       "429177  11.806346     11.806280  0.037063  11.811834   0.054830    0.333333   \n",
       "345336  11.806522     11.806475  0.048839  11.808830   0.054841    0.500000   \n",
       "797785  11.979817     11.837400  0.419975  11.842549   0.574808    0.142857   \n",
       "\n",
       "           cusum     IPR10  kurtosis      linT  ...  medianBRP10  \\\n",
       "83190   0.413908  0.167845 -1.621703  0.004334  ...     0.500000   \n",
       "350649  0.357947  0.288927  0.503221  0.009617  ...     0.333333   \n",
       "429177  0.362717  0.102260  0.620586  0.000835  ...     0.000000   \n",
       "345336  0.401822  0.109682 -2.400176  0.003366  ...     0.000000   \n",
       "797785  0.323382  0.929709  6.919347  0.008603  ...     0.714286   \n",
       "\n",
       "        percentAmplitude  meanVariance  andersonDarlingNorm        chi2  \\\n",
       "83190           0.122566      0.006098             0.513783    6.213382   \n",
       "350649          0.187469      0.008982             0.261366   11.729162   \n",
       "429177          0.062462      0.003139             0.193347   11.064746   \n",
       "345336          0.059458      0.004137             0.083901   19.266667   \n",
       "797785          1.087953      0.035057             1.841744  114.225226   \n",
       "\n",
       "            skew  stetsonK      objectId               candid  cdsxmatch  \n",
       "83190  -0.631503  0.899349  ZTF18aabfxtw  2560235106115015006       Mira  \n",
       "350649 -0.146260  0.771714  ZTF18aabfxtw  2571234896115015006       Mira  \n",
       "429177 -0.251630  0.806653  ZTF18achzfzd  2561416034515015045         XB  \n",
       "345336 -0.194037  0.940179  ZTF18achzfzd  2571272184515015071         XB  \n",
       "797785  2.625493  0.524642  ZTF19aanjvsc  2581419000315015014        SB*  \n",
       "\n",
       "[5 rows x 29 columns]"
      ]
     },
     "execution_count": 14,
     "metadata": {},
     "output_type": "execute_result"
    }
   ],
   "source": [
    "dfg2.head()"
   ]
  },
  {
   "cell_type": "code",
   "execution_count": 15,
   "id": "3b1f0f84",
   "metadata": {},
   "outputs": [
    {
     "data": {
      "application/vnd.microsoft.datawrangler.viewer.v0+json": {
       "columns": [
        {
         "name": "index",
         "rawType": "int64",
         "type": "integer"
        },
        {
         "name": "mean",
         "rawType": "float64",
         "type": "float"
        },
        {
         "name": "weightedMean",
         "rawType": "float64",
         "type": "float"
        },
        {
         "name": "std",
         "rawType": "float64",
         "type": "float"
        },
        {
         "name": "median",
         "rawType": "float64",
         "type": "float"
        },
        {
         "name": "amplitude",
         "rawType": "float64",
         "type": "float"
        },
        {
         "name": "beyond1Std",
         "rawType": "float64",
         "type": "float"
        },
        {
         "name": "cusum",
         "rawType": "float64",
         "type": "float"
        },
        {
         "name": "IPR10",
         "rawType": "float64",
         "type": "float"
        },
        {
         "name": "kurtosis",
         "rawType": "float64",
         "type": "float"
        },
        {
         "name": "linT",
         "rawType": "float64",
         "type": "float"
        },
        {
         "name": "linT_sigma",
         "rawType": "float64",
         "type": "float"
        },
        {
         "name": "linT_noise",
         "rawType": "float64",
         "type": "float"
        },
        {
         "name": "linF_slope",
         "rawType": "float64",
         "type": "float"
        },
        {
         "name": "linF_slope_sigma",
         "rawType": "float64",
         "type": "float"
        },
        {
         "name": "linF_chi2",
         "rawType": "float64",
         "type": "float"
        },
        {
         "name": "MPR40_5",
         "rawType": "float64",
         "type": "float"
        },
        {
         "name": "MPR20_10",
         "rawType": "float64",
         "type": "float"
        },
        {
         "name": "maxSlope",
         "rawType": "float64",
         "type": "float"
        },
        {
         "name": "medianAbsDev",
         "rawType": "float64",
         "type": "float"
        },
        {
         "name": "medianBRP10",
         "rawType": "float64",
         "type": "float"
        },
        {
         "name": "percentAmplitude",
         "rawType": "float64",
         "type": "float"
        },
        {
         "name": "meanVariance",
         "rawType": "float64",
         "type": "float"
        },
        {
         "name": "andersonDarlingNorm",
         "rawType": "float64",
         "type": "float"
        },
        {
         "name": "chi2",
         "rawType": "float64",
         "type": "float"
        },
        {
         "name": "skew",
         "rawType": "float64",
         "type": "float"
        },
        {
         "name": "stetsonK",
         "rawType": "float64",
         "type": "float"
        },
        {
         "name": "objectId",
         "rawType": "object",
         "type": "string"
        },
        {
         "name": "candid",
         "rawType": "int64",
         "type": "integer"
        },
        {
         "name": "cdsxmatch",
         "rawType": "object",
         "type": "string"
        }
       ],
       "conversionMethod": "pd.DataFrame",
       "ref": "1de84228-dfc1-4ffb-9323-1ec8b3caf521",
       "rows": [
        [
         "807666",
         "11.473439224353012",
         "11.396889327125933",
         "0.13795719084406038",
         "11.503887286290178",
         "0.15080969909716924",
         "0.25",
         "0.38719087888359477",
         "0.3016193981943385",
         "-0.9280097911022125",
         "0.01754481539066276",
         "0.0005558793338379772",
         "0.007563123123981687",
         "0.017456958576261738",
         "0.0008995756414916794",
         "0.2692081715566657",
         "0.33341818614335544",
         "0.8250318070199493",
         "0.027175327835262303",
         "0.07638347000528078",
         "0.0",
         "0.21170582297150276",
         "0.012024048600112736",
         "0.12087849552476873",
         "125.70744851624282",
         "-0.8717324071644899",
         "0.9088680362569382",
         "ZTF19aakrouf",
         "2570346673515015019",
         "Mira"
        ],
        [
         "444278",
         "11.501468934357886",
         "11.414229900812808",
         "0.1349165041571094",
         "11.566740651077904",
         "0.16070315552935543",
         "0.2",
         "0.3998361587853698",
         "0.32140631105871087",
         "0.2272277384355217",
         "0.01733947229934115",
         "0.00045142840759377224",
         "0.0070178968676681275",
         "0.017332969272856127",
         "0.0008019739391160026",
         "0.21032849048193836",
         "0.23765392083831208",
         "0.7376539208383093",
         "0.027175327835262303",
         "0.04684712329948226",
         "0.2",
         "0.2745591877592286",
         "0.011730371566198699",
         "0.317538812697641",
         "116.93692799731753",
         "-1.172922838028647",
         "0.8964082164982011",
         "ZTF19aakrouf",
         "2572309763515015019",
         "Mira"
        ],
        [
         "328548",
         "11.501473559851078",
         "11.41423175091901",
         "0.13492130933725396",
         "11.566740651077904",
         "0.16071471926233283",
         "0.2",
         "0.3998356319042131",
         "0.32142943852466566",
         "0.2270301960086165",
         "0.01734011602619629",
         "0.00045110935972172733",
         "0.007012936955920892",
         "0.01733333844478558",
         "0.0008019739419273304",
         "0.21014504104749257",
         "0.23763682118188847",
         "0.7376368211818857",
         "0.027175327835262303",
         "0.04687025076543705",
         "0.2",
         "0.2745591877592286",
         "0.01173078463686882",
         "0.3174701073372134",
         "116.94176354511686",
         "-1.172820943444416",
         "0.8964074481482549",
         "ZTF19aakrouf",
         "2571313344615015018",
         "Mira"
        ],
        [
         "843589",
         "11.523381893762952",
         "11.427756556570323",
         "0.13207209097500058",
         "11.580270756295459",
         "0.17038261373480523",
         "0.16666666666666666",
         "0.39567835060137846",
         "0.3239440790763837",
         "0.9780513785521343",
         "0.017259191886093175",
         "0.0003661776491829537",
         "0.006260035545888784",
         "0.01727835308024855",
         "0.0007403657585253863",
         "0.16559447878368397",
         "0.12210625429795745",
         "0.6884437044930029",
         "0.027175327835262303",
         "0.04299647628737713",
         "0.3333333333333333",
         "0.28808929297678354",
         "0.011461226590649121",
         "0.495649490922829",
         "109.06110244244073",
         "-1.35912998810969",
         "0.8814489621557748",
         "ZTF19aakrouf",
         "2572377513515015021",
         "Mira"
        ],
        [
         "417005",
         "11.523383232679427",
         "11.427757349342583",
         "0.1320734239002406",
         "11.580270756295459",
         "0.17038663048422187",
         "0.16666666666666666",
         "0.39567773651741744",
         "0.32395130922226834",
         "0.9779854291514276",
         "0.017259370348188037",
         "0.00036613096378246247",
         "0.00625923742981807",
         "0.017278444111184718",
         "0.0007403645620466365",
         "0.16556819226899447",
         "0.12210337572571076",
         "0.6884357789277676",
         "0.027175327835262303",
         "0.04300049303679376",
         "0.3333333333333333",
         "0.28808929297678354",
         "0.011461340930299926",
         "0.49561550247167524",
         "109.06258132146817",
         "-1.3590967808940877",
         "0.8814484891518515",
         "ZTF19aakrouf",
         "2573334564615015012",
         "Mira"
        ]
       ],
       "shape": {
        "columns": 29,
        "rows": 5
       }
      },
      "text/html": [
       "<div>\n",
       "<style scoped>\n",
       "    .dataframe tbody tr th:only-of-type {\n",
       "        vertical-align: middle;\n",
       "    }\n",
       "\n",
       "    .dataframe tbody tr th {\n",
       "        vertical-align: top;\n",
       "    }\n",
       "\n",
       "    .dataframe thead th {\n",
       "        text-align: right;\n",
       "    }\n",
       "</style>\n",
       "<table border=\"1\" class=\"dataframe\">\n",
       "  <thead>\n",
       "    <tr style=\"text-align: right;\">\n",
       "      <th></th>\n",
       "      <th>mean</th>\n",
       "      <th>weightedMean</th>\n",
       "      <th>std</th>\n",
       "      <th>median</th>\n",
       "      <th>amplitude</th>\n",
       "      <th>beyond1Std</th>\n",
       "      <th>cusum</th>\n",
       "      <th>IPR10</th>\n",
       "      <th>kurtosis</th>\n",
       "      <th>linT</th>\n",
       "      <th>...</th>\n",
       "      <th>medianBRP10</th>\n",
       "      <th>percentAmplitude</th>\n",
       "      <th>meanVariance</th>\n",
       "      <th>andersonDarlingNorm</th>\n",
       "      <th>chi2</th>\n",
       "      <th>skew</th>\n",
       "      <th>stetsonK</th>\n",
       "      <th>objectId</th>\n",
       "      <th>candid</th>\n",
       "      <th>cdsxmatch</th>\n",
       "    </tr>\n",
       "  </thead>\n",
       "  <tbody>\n",
       "    <tr>\n",
       "      <th>807666</th>\n",
       "      <td>11.473439</td>\n",
       "      <td>11.396889</td>\n",
       "      <td>0.137957</td>\n",
       "      <td>11.503887</td>\n",
       "      <td>0.150810</td>\n",
       "      <td>0.250000</td>\n",
       "      <td>0.387191</td>\n",
       "      <td>0.301619</td>\n",
       "      <td>-0.928010</td>\n",
       "      <td>0.017545</td>\n",
       "      <td>...</td>\n",
       "      <td>0.000000</td>\n",
       "      <td>0.211706</td>\n",
       "      <td>0.012024</td>\n",
       "      <td>0.120878</td>\n",
       "      <td>125.707449</td>\n",
       "      <td>-0.871732</td>\n",
       "      <td>0.908868</td>\n",
       "      <td>ZTF19aakrouf</td>\n",
       "      <td>2570346673515015019</td>\n",
       "      <td>Mira</td>\n",
       "    </tr>\n",
       "    <tr>\n",
       "      <th>444278</th>\n",
       "      <td>11.501469</td>\n",
       "      <td>11.414230</td>\n",
       "      <td>0.134917</td>\n",
       "      <td>11.566741</td>\n",
       "      <td>0.160703</td>\n",
       "      <td>0.200000</td>\n",
       "      <td>0.399836</td>\n",
       "      <td>0.321406</td>\n",
       "      <td>0.227228</td>\n",
       "      <td>0.017339</td>\n",
       "      <td>...</td>\n",
       "      <td>0.200000</td>\n",
       "      <td>0.274559</td>\n",
       "      <td>0.011730</td>\n",
       "      <td>0.317539</td>\n",
       "      <td>116.936928</td>\n",
       "      <td>-1.172923</td>\n",
       "      <td>0.896408</td>\n",
       "      <td>ZTF19aakrouf</td>\n",
       "      <td>2572309763515015019</td>\n",
       "      <td>Mira</td>\n",
       "    </tr>\n",
       "    <tr>\n",
       "      <th>328548</th>\n",
       "      <td>11.501474</td>\n",
       "      <td>11.414232</td>\n",
       "      <td>0.134921</td>\n",
       "      <td>11.566741</td>\n",
       "      <td>0.160715</td>\n",
       "      <td>0.200000</td>\n",
       "      <td>0.399836</td>\n",
       "      <td>0.321429</td>\n",
       "      <td>0.227030</td>\n",
       "      <td>0.017340</td>\n",
       "      <td>...</td>\n",
       "      <td>0.200000</td>\n",
       "      <td>0.274559</td>\n",
       "      <td>0.011731</td>\n",
       "      <td>0.317470</td>\n",
       "      <td>116.941764</td>\n",
       "      <td>-1.172821</td>\n",
       "      <td>0.896407</td>\n",
       "      <td>ZTF19aakrouf</td>\n",
       "      <td>2571313344615015018</td>\n",
       "      <td>Mira</td>\n",
       "    </tr>\n",
       "    <tr>\n",
       "      <th>843589</th>\n",
       "      <td>11.523382</td>\n",
       "      <td>11.427757</td>\n",
       "      <td>0.132072</td>\n",
       "      <td>11.580271</td>\n",
       "      <td>0.170383</td>\n",
       "      <td>0.166667</td>\n",
       "      <td>0.395678</td>\n",
       "      <td>0.323944</td>\n",
       "      <td>0.978051</td>\n",
       "      <td>0.017259</td>\n",
       "      <td>...</td>\n",
       "      <td>0.333333</td>\n",
       "      <td>0.288089</td>\n",
       "      <td>0.011461</td>\n",
       "      <td>0.495649</td>\n",
       "      <td>109.061102</td>\n",
       "      <td>-1.359130</td>\n",
       "      <td>0.881449</td>\n",
       "      <td>ZTF19aakrouf</td>\n",
       "      <td>2572377513515015021</td>\n",
       "      <td>Mira</td>\n",
       "    </tr>\n",
       "    <tr>\n",
       "      <th>417005</th>\n",
       "      <td>11.523383</td>\n",
       "      <td>11.427757</td>\n",
       "      <td>0.132073</td>\n",
       "      <td>11.580271</td>\n",
       "      <td>0.170387</td>\n",
       "      <td>0.166667</td>\n",
       "      <td>0.395678</td>\n",
       "      <td>0.323951</td>\n",
       "      <td>0.977985</td>\n",
       "      <td>0.017259</td>\n",
       "      <td>...</td>\n",
       "      <td>0.333333</td>\n",
       "      <td>0.288089</td>\n",
       "      <td>0.011461</td>\n",
       "      <td>0.495616</td>\n",
       "      <td>109.062581</td>\n",
       "      <td>-1.359097</td>\n",
       "      <td>0.881448</td>\n",
       "      <td>ZTF19aakrouf</td>\n",
       "      <td>2573334564615015012</td>\n",
       "      <td>Mira</td>\n",
       "    </tr>\n",
       "  </tbody>\n",
       "</table>\n",
       "<p>5 rows × 29 columns</p>\n",
       "</div>"
      ],
      "text/plain": [
       "             mean  weightedMean       std     median  amplitude  beyond1Std  \\\n",
       "807666  11.473439     11.396889  0.137957  11.503887   0.150810    0.250000   \n",
       "444278  11.501469     11.414230  0.134917  11.566741   0.160703    0.200000   \n",
       "328548  11.501474     11.414232  0.134921  11.566741   0.160715    0.200000   \n",
       "843589  11.523382     11.427757  0.132072  11.580271   0.170383    0.166667   \n",
       "417005  11.523383     11.427757  0.132073  11.580271   0.170387    0.166667   \n",
       "\n",
       "           cusum     IPR10  kurtosis      linT  ...  medianBRP10  \\\n",
       "807666  0.387191  0.301619 -0.928010  0.017545  ...     0.000000   \n",
       "444278  0.399836  0.321406  0.227228  0.017339  ...     0.200000   \n",
       "328548  0.399836  0.321429  0.227030  0.017340  ...     0.200000   \n",
       "843589  0.395678  0.323944  0.978051  0.017259  ...     0.333333   \n",
       "417005  0.395678  0.323951  0.977985  0.017259  ...     0.333333   \n",
       "\n",
       "        percentAmplitude  meanVariance  andersonDarlingNorm        chi2  \\\n",
       "807666          0.211706      0.012024             0.120878  125.707449   \n",
       "444278          0.274559      0.011730             0.317539  116.936928   \n",
       "328548          0.274559      0.011731             0.317470  116.941764   \n",
       "843589          0.288089      0.011461             0.495649  109.061102   \n",
       "417005          0.288089      0.011461             0.495616  109.062581   \n",
       "\n",
       "            skew  stetsonK      objectId               candid  cdsxmatch  \n",
       "807666 -0.871732  0.908868  ZTF19aakrouf  2570346673515015019       Mira  \n",
       "444278 -1.172923  0.896408  ZTF19aakrouf  2572309763515015019       Mira  \n",
       "328548 -1.172821  0.896407  ZTF19aakrouf  2571313344615015018       Mira  \n",
       "843589 -1.359130  0.881449  ZTF19aakrouf  2572377513515015021       Mira  \n",
       "417005 -1.359097  0.881448  ZTF19aakrouf  2573334564615015012       Mira  \n",
       "\n",
       "[5 rows x 29 columns]"
      ]
     },
     "execution_count": 15,
     "metadata": {},
     "output_type": "execute_result"
    }
   ],
   "source": [
    "dfr2.head()"
   ]
  },
  {
   "cell_type": "markdown",
   "id": "80d2d44b",
   "metadata": {},
   "source": [
    "### Saving the dataframes to csv files:"
   ]
  },
  {
   "cell_type": "code",
   "execution_count": null,
   "id": "4123bcf2",
   "metadata": {},
   "outputs": [],
   "source": [
    "# dfg2.to_csv('../../data/clean_data/negative_class_g.csv')\n",
    "# dfr2.to_csv('../../data/clean_data/negative_class_r.csv')"
   ]
  }
 ],
 "metadata": {
  "kernelspec": {
   "display_name": ".venv",
   "language": "python",
   "name": "python3"
  },
  "language_info": {
   "codemirror_mode": {
    "name": "ipython",
    "version": 3
   },
   "file_extension": ".py",
   "mimetype": "text/x-python",
   "name": "python",
   "nbconvert_exporter": "python",
   "pygments_lexer": "ipython3",
   "version": "3.12.3"
  }
 },
 "nbformat": 4,
 "nbformat_minor": 5
}
