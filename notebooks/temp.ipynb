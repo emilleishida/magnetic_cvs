{
 "cells": [
  {
   "cell_type": "markdown",
   "metadata": {},
   "source": [
    "##### Imports & setup"
   ]
  },
  {
   "cell_type": "code",
   "execution_count": 1,
   "metadata": {},
   "outputs": [],
   "source": [
    "import pandas as pd\n",
    "import numpy as np\n",
    "from sklearn.model_selection import train_test_split\n",
    "from sklearn.neighbors import NearestNeighbors\n",
    "\n",
    "# Feature names (without linear features):\n",
    "feature_names = ['mean', 'weightedMean', 'std', 'median', 'amplitude', 'beyond1Std', 'cusum', 'IPR10',\n",
    "                 'kurtosis', 'MPR40_5', 'MPR20_10', 'maxSlope', 'medianAbsDev', 'medianBRP10',\n",
    "                 'percentAmplitude', 'meanVariance', 'andersonDarlingNorm', 'chi2', 'skew', 'stetsonK']"
   ]
  },
  {
   "cell_type": "markdown",
   "metadata": {},
   "source": [
    "## Data preparation"
   ]
  },
  {
   "cell_type": "markdown",
   "metadata": {},
   "source": [
    "### Getting data"
   ]
  },
  {
   "cell_type": "code",
   "execution_count": 2,
   "metadata": {},
   "outputs": [],
   "source": [
    "# The following paths should be changed accordingly. The data can be saved in a csv from the clean_data.ipynb notebook.\n",
    "positive_g = pd.read_csv('../../data/clean_data/positive_class_g.csv', index_col=0)\n",
    "positive_r = pd.read_csv('../../data/clean_data/positive_class_r.csv', index_col=0)\n",
    "negative_g = pd.read_csv('../../data/clean_data/negative_class_g.csv', index_col=0)\n",
    "negative_r = pd.read_csv('../../data/clean_data/negative_class_r.csv', index_col=0)\n",
    "\n",
    "# Adding labels for each class:\n",
    "positive_g['class'] = 'positive'\n",
    "positive_r['class'] = 'positive'\n",
    "negative_g['class'] = 'negative'\n",
    "negative_r['class'] = 'negative'"
   ]
  },
  {
   "cell_type": "markdown",
   "metadata": {},
   "source": [
    "### Organizing samples"
   ]
  },
  {
   "cell_type": "code",
   "execution_count": 3,
   "metadata": {},
   "outputs": [
    {
     "name": "stdout",
     "output_type": "stream",
     "text": [
      "There are 69 unique objects in the positive class (g filter).\n",
      "There are 67 unique objects in the positive class (r filter).\n",
      "There are 101035 unique objects in the negative class (g filter).\n",
      "There are 93551 unique objects in the negative class (r filter).\n"
     ]
    }
   ],
   "source": [
    "# IDs of unique objects in each class:\n",
    "positive_g_IDs = np.unique(positive_g['objectId'])\n",
    "positive_r_IDs = np.unique(positive_r['objectId'])\n",
    "negative_g_IDs = np.unique(negative_g['objectId'])\n",
    "negative_r_IDs = np.unique(negative_r['objectId'])\n",
    "\n",
    "# Number of unique objects in each class:\n",
    "print(f'There are {len(positive_g_IDs)} unique objects in the positive class (g filter).')\n",
    "print(f'There are {len(positive_r_IDs)} unique objects in the positive class (r filter).')\n",
    "print(f'There are {len(negative_g_IDs)} unique objects in the negative class (g filter).')\n",
    "print(f'There are {len(negative_r_IDs)} unique objects in the negative class (r filter).')"
   ]
  },
  {
   "cell_type": "code",
   "execution_count": 4,
   "metadata": {},
   "outputs": [],
   "source": [
    "np.random.seed(666)\n",
    "\n",
    "# Sampling objects from the negative class to have the same number of objects as in the positive class:\n",
    "negative_g_sample_IDs1 = np.random.choice(negative_g_IDs, len(positive_g_IDs), replace=False)\n",
    "negative_r_sample_IDs1 = np.random.choice(negative_r_IDs, len(positive_r_IDs), replace=False)\n",
    "\n",
    "# Sampling objects from the negative class to have twice the number of objects in the positive class:\n",
    "negative_g_sample_IDs2 = np.random.choice(negative_g_IDs, 2*len(positive_g_IDs), replace=False)\n",
    "negative_r_sample_IDs2 = np.random.choice(negative_r_IDs, 2*len(positive_r_IDs), replace=False)\n",
    "\n",
    "# Sampling objects from the negative class to have three times the number of objects in the positive class:\n",
    "negative_g_sample_IDs3 = np.random.choice(negative_g_IDs, 3*len(positive_g_IDs), replace=False)\n",
    "negative_r_sample_IDs3 = np.random.choice(negative_r_IDs, 3*len(positive_r_IDs), replace=False)\n",
    "\n",
    "\n",
    "# Selecting the alerts from the sampled objects in the negative class:\n",
    "negative_g_sample1 = negative_g[negative_g['objectId'].isin(negative_g_sample_IDs1)]\n",
    "negative_r_sample1 = negative_r[negative_r['objectId'].isin(negative_r_sample_IDs1)]\n",
    "\n",
    "negative_g_sample2 = negative_g[negative_g['objectId'].isin(negative_g_sample_IDs2)]\n",
    "negative_r_sample2 = negative_r[negative_r['objectId'].isin(negative_r_sample_IDs2)]\n",
    "\n",
    "negative_g_sample3 = negative_g[negative_g['objectId'].isin(negative_g_sample_IDs3)]\n",
    "negative_r_sample3 = negative_r[negative_r['objectId'].isin(negative_r_sample_IDs3)]"
   ]
  },
  {
   "cell_type": "code",
   "execution_count": 5,
   "metadata": {},
   "outputs": [
    {
     "data": {
      "text/plain": [
       "3917"
      ]
     },
     "execution_count": 5,
     "metadata": {},
     "output_type": "execute_result"
    }
   ],
   "source": [
    "len(positive_g)"
   ]
  },
  {
   "cell_type": "code",
   "execution_count": 6,
   "metadata": {},
   "outputs": [
    {
     "data": {
      "text/plain": [
       "69"
      ]
     },
     "execution_count": 6,
     "metadata": {},
     "output_type": "execute_result"
    }
   ],
   "source": [
    "len(negative_g_sample_IDs1)"
   ]
  },
  {
   "cell_type": "code",
   "execution_count": 7,
   "metadata": {},
   "outputs": [
    {
     "data": {
      "text/plain": [
       "196"
      ]
     },
     "execution_count": 7,
     "metadata": {},
     "output_type": "execute_result"
    }
   ],
   "source": [
    "len(negative_g_sample1)"
   ]
  },
  {
   "cell_type": "code",
   "execution_count": 8,
   "metadata": {},
   "outputs": [
    {
     "data": {
      "text/plain": [
       "361"
      ]
     },
     "execution_count": 8,
     "metadata": {},
     "output_type": "execute_result"
    }
   ],
   "source": [
    "len(negative_g_sample2)"
   ]
  },
  {
   "cell_type": "code",
   "execution_count": 9,
   "metadata": {},
   "outputs": [
    {
     "data": {
      "text/plain": [
       "633"
      ]
     },
     "execution_count": 9,
     "metadata": {},
     "output_type": "execute_result"
    }
   ],
   "source": [
    "len(negative_g_sample3)"
   ]
  },
  {
   "cell_type": "markdown",
   "metadata": {},
   "source": [
    "For the same number of objects, we have much less alerts in the negative class than in the positive one"
   ]
  },
  {
   "cell_type": "code",
   "execution_count": null,
   "metadata": {},
   "outputs": [],
   "source": []
  }
 ],
 "metadata": {
  "kernelspec": {
   "display_name": ".venv",
   "language": "python",
   "name": "python3"
  },
  "language_info": {
   "codemirror_mode": {
    "name": "ipython",
    "version": 3
   },
   "file_extension": ".py",
   "mimetype": "text/x-python",
   "name": "python",
   "nbconvert_exporter": "python",
   "pygments_lexer": "ipython3",
   "version": "3.12.3"
  }
 },
 "nbformat": 4,
 "nbformat_minor": 2
}
